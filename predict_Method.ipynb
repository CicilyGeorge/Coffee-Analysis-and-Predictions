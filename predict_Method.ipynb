{
 "cells": [
  {
   "cell_type": "code",
   "execution_count": 1,
   "metadata": {
    "ExecuteTime": {
     "end_time": "2021-02-24T07:00:26.799706Z",
     "start_time": "2021-02-24T07:00:25.269708Z"
    }
   },
   "outputs": [],
   "source": [
    "import pandas as pd\n",
    "import numpy as np\n",
    "import matplotlib.pyplot as plt\n",
    "import seaborn as sns\n",
    "%matplotlib inline"
   ]
  },
  {
   "cell_type": "markdown",
   "metadata": {},
   "source": [
    "## Data Cleaning"
   ]
  },
  {
   "cell_type": "code",
   "execution_count": 2,
   "metadata": {
    "ExecuteTime": {
     "end_time": "2021-02-24T07:00:26.863706Z",
     "start_time": "2021-02-24T07:00:26.801708Z"
    }
   },
   "outputs": [
    {
     "data": {
      "text/html": [
       "<div>\n",
       "<style scoped>\n",
       "    .dataframe tbody tr th:only-of-type {\n",
       "        vertical-align: middle;\n",
       "    }\n",
       "\n",
       "    .dataframe tbody tr th {\n",
       "        vertical-align: top;\n",
       "    }\n",
       "\n",
       "    .dataframe thead th {\n",
       "        text-align: right;\n",
       "    }\n",
       "</style>\n",
       "<table border=\"1\" class=\"dataframe\">\n",
       "  <thead>\n",
       "    <tr style=\"text-align: right;\">\n",
       "      <th></th>\n",
       "      <th>Unnamed: 0</th>\n",
       "      <th>Species</th>\n",
       "      <th>Owner</th>\n",
       "      <th>Country.of.Origin</th>\n",
       "      <th>Farm.Name</th>\n",
       "      <th>Lot.Number</th>\n",
       "      <th>Mill</th>\n",
       "      <th>ICO.Number</th>\n",
       "      <th>Company</th>\n",
       "      <th>Altitude</th>\n",
       "      <th>...</th>\n",
       "      <th>Color</th>\n",
       "      <th>Category.Two.Defects</th>\n",
       "      <th>Expiration</th>\n",
       "      <th>Certification.Body</th>\n",
       "      <th>Certification.Address</th>\n",
       "      <th>Certification.Contact</th>\n",
       "      <th>unit_of_measurement</th>\n",
       "      <th>altitude_low_meters</th>\n",
       "      <th>altitude_high_meters</th>\n",
       "      <th>altitude_mean_meters</th>\n",
       "    </tr>\n",
       "  </thead>\n",
       "  <tbody>\n",
       "    <tr>\n",
       "      <th>0</th>\n",
       "      <td>0</td>\n",
       "      <td>Arabica</td>\n",
       "      <td>metad plc</td>\n",
       "      <td>Ethiopia</td>\n",
       "      <td>metad plc</td>\n",
       "      <td>NaN</td>\n",
       "      <td>metad plc</td>\n",
       "      <td>2014/2015</td>\n",
       "      <td>metad agricultural developmet plc</td>\n",
       "      <td>1950-2200</td>\n",
       "      <td>...</td>\n",
       "      <td>Green</td>\n",
       "      <td>0</td>\n",
       "      <td>April 3rd, 2016</td>\n",
       "      <td>METAD Agricultural Development plc</td>\n",
       "      <td>309fcf77415a3661ae83e027f7e5f05dad786e44</td>\n",
       "      <td>19fef5a731de2db57d16da10287413f5f99bc2dd</td>\n",
       "      <td>m</td>\n",
       "      <td>1950.0</td>\n",
       "      <td>2200.0</td>\n",
       "      <td>2075.0</td>\n",
       "    </tr>\n",
       "    <tr>\n",
       "      <th>1</th>\n",
       "      <td>1</td>\n",
       "      <td>Arabica</td>\n",
       "      <td>metad plc</td>\n",
       "      <td>Ethiopia</td>\n",
       "      <td>metad plc</td>\n",
       "      <td>NaN</td>\n",
       "      <td>metad plc</td>\n",
       "      <td>2014/2015</td>\n",
       "      <td>metad agricultural developmet plc</td>\n",
       "      <td>1950-2200</td>\n",
       "      <td>...</td>\n",
       "      <td>Green</td>\n",
       "      <td>1</td>\n",
       "      <td>April 3rd, 2016</td>\n",
       "      <td>METAD Agricultural Development plc</td>\n",
       "      <td>309fcf77415a3661ae83e027f7e5f05dad786e44</td>\n",
       "      <td>19fef5a731de2db57d16da10287413f5f99bc2dd</td>\n",
       "      <td>m</td>\n",
       "      <td>1950.0</td>\n",
       "      <td>2200.0</td>\n",
       "      <td>2075.0</td>\n",
       "    </tr>\n",
       "    <tr>\n",
       "      <th>2</th>\n",
       "      <td>2</td>\n",
       "      <td>Arabica</td>\n",
       "      <td>grounds for health admin</td>\n",
       "      <td>Guatemala</td>\n",
       "      <td>san marcos barrancas \"san cristobal cuch</td>\n",
       "      <td>NaN</td>\n",
       "      <td>NaN</td>\n",
       "      <td>NaN</td>\n",
       "      <td>NaN</td>\n",
       "      <td>1600 - 1800 m</td>\n",
       "      <td>...</td>\n",
       "      <td>NaN</td>\n",
       "      <td>0</td>\n",
       "      <td>May 31st, 2011</td>\n",
       "      <td>Specialty Coffee Association</td>\n",
       "      <td>36d0d00a3724338ba7937c52a378d085f2172daa</td>\n",
       "      <td>0878a7d4b9d35ddbf0fe2ce69a2062cceb45a660</td>\n",
       "      <td>m</td>\n",
       "      <td>1600.0</td>\n",
       "      <td>1800.0</td>\n",
       "      <td>1700.0</td>\n",
       "    </tr>\n",
       "    <tr>\n",
       "      <th>3</th>\n",
       "      <td>3</td>\n",
       "      <td>Arabica</td>\n",
       "      <td>yidnekachew dabessa</td>\n",
       "      <td>Ethiopia</td>\n",
       "      <td>yidnekachew dabessa coffee plantation</td>\n",
       "      <td>NaN</td>\n",
       "      <td>wolensu</td>\n",
       "      <td>NaN</td>\n",
       "      <td>yidnekachew debessa coffee plantation</td>\n",
       "      <td>1800-2200</td>\n",
       "      <td>...</td>\n",
       "      <td>Green</td>\n",
       "      <td>2</td>\n",
       "      <td>March 25th, 2016</td>\n",
       "      <td>METAD Agricultural Development plc</td>\n",
       "      <td>309fcf77415a3661ae83e027f7e5f05dad786e44</td>\n",
       "      <td>19fef5a731de2db57d16da10287413f5f99bc2dd</td>\n",
       "      <td>m</td>\n",
       "      <td>1800.0</td>\n",
       "      <td>2200.0</td>\n",
       "      <td>2000.0</td>\n",
       "    </tr>\n",
       "    <tr>\n",
       "      <th>4</th>\n",
       "      <td>4</td>\n",
       "      <td>Arabica</td>\n",
       "      <td>metad plc</td>\n",
       "      <td>Ethiopia</td>\n",
       "      <td>metad plc</td>\n",
       "      <td>NaN</td>\n",
       "      <td>metad plc</td>\n",
       "      <td>2014/2015</td>\n",
       "      <td>metad agricultural developmet plc</td>\n",
       "      <td>1950-2200</td>\n",
       "      <td>...</td>\n",
       "      <td>Green</td>\n",
       "      <td>2</td>\n",
       "      <td>April 3rd, 2016</td>\n",
       "      <td>METAD Agricultural Development plc</td>\n",
       "      <td>309fcf77415a3661ae83e027f7e5f05dad786e44</td>\n",
       "      <td>19fef5a731de2db57d16da10287413f5f99bc2dd</td>\n",
       "      <td>m</td>\n",
       "      <td>1950.0</td>\n",
       "      <td>2200.0</td>\n",
       "      <td>2075.0</td>\n",
       "    </tr>\n",
       "  </tbody>\n",
       "</table>\n",
       "<p>5 rows × 44 columns</p>\n",
       "</div>"
      ],
      "text/plain": [
       "   Unnamed: 0  Species                     Owner Country.of.Origin  \\\n",
       "0           0  Arabica                 metad plc          Ethiopia   \n",
       "1           1  Arabica                 metad plc          Ethiopia   \n",
       "2           2  Arabica  grounds for health admin         Guatemala   \n",
       "3           3  Arabica       yidnekachew dabessa          Ethiopia   \n",
       "4           4  Arabica                 metad plc          Ethiopia   \n",
       "\n",
       "                                  Farm.Name Lot.Number       Mill ICO.Number  \\\n",
       "0                                 metad plc        NaN  metad plc  2014/2015   \n",
       "1                                 metad plc        NaN  metad plc  2014/2015   \n",
       "2  san marcos barrancas \"san cristobal cuch        NaN        NaN        NaN   \n",
       "3     yidnekachew dabessa coffee plantation        NaN    wolensu        NaN   \n",
       "4                                 metad plc        NaN  metad plc  2014/2015   \n",
       "\n",
       "                                 Company       Altitude  ...  Color  \\\n",
       "0      metad agricultural developmet plc      1950-2200  ...  Green   \n",
       "1      metad agricultural developmet plc      1950-2200  ...  Green   \n",
       "2                                    NaN  1600 - 1800 m  ...    NaN   \n",
       "3  yidnekachew debessa coffee plantation      1800-2200  ...  Green   \n",
       "4      metad agricultural developmet plc      1950-2200  ...  Green   \n",
       "\n",
       "  Category.Two.Defects        Expiration                  Certification.Body  \\\n",
       "0                    0   April 3rd, 2016  METAD Agricultural Development plc   \n",
       "1                    1   April 3rd, 2016  METAD Agricultural Development plc   \n",
       "2                    0    May 31st, 2011        Specialty Coffee Association   \n",
       "3                    2  March 25th, 2016  METAD Agricultural Development plc   \n",
       "4                    2   April 3rd, 2016  METAD Agricultural Development plc   \n",
       "\n",
       "                      Certification.Address  \\\n",
       "0  309fcf77415a3661ae83e027f7e5f05dad786e44   \n",
       "1  309fcf77415a3661ae83e027f7e5f05dad786e44   \n",
       "2  36d0d00a3724338ba7937c52a378d085f2172daa   \n",
       "3  309fcf77415a3661ae83e027f7e5f05dad786e44   \n",
       "4  309fcf77415a3661ae83e027f7e5f05dad786e44   \n",
       "\n",
       "                      Certification.Contact unit_of_measurement  \\\n",
       "0  19fef5a731de2db57d16da10287413f5f99bc2dd                   m   \n",
       "1  19fef5a731de2db57d16da10287413f5f99bc2dd                   m   \n",
       "2  0878a7d4b9d35ddbf0fe2ce69a2062cceb45a660                   m   \n",
       "3  19fef5a731de2db57d16da10287413f5f99bc2dd                   m   \n",
       "4  19fef5a731de2db57d16da10287413f5f99bc2dd                   m   \n",
       "\n",
       "  altitude_low_meters altitude_high_meters altitude_mean_meters  \n",
       "0              1950.0               2200.0               2075.0  \n",
       "1              1950.0               2200.0               2075.0  \n",
       "2              1600.0               1800.0               1700.0  \n",
       "3              1800.0               2200.0               2000.0  \n",
       "4              1950.0               2200.0               2075.0  \n",
       "\n",
       "[5 rows x 44 columns]"
      ]
     },
     "execution_count": 2,
     "metadata": {},
     "output_type": "execute_result"
    }
   ],
   "source": [
    "# Reading merged data Arabica 98% and Robusta 2% of records\n",
    "df_quality = pd.read_csv(\"data/merged_data_cleaned.csv\")\n",
    "df_quality.head()"
   ]
  },
  {
   "cell_type": "code",
   "execution_count": 3,
   "metadata": {
    "ExecuteTime": {
     "end_time": "2021-02-24T07:00:26.975708Z",
     "start_time": "2021-02-24T07:00:26.865708Z"
    }
   },
   "outputs": [],
   "source": [
    "################### Quality Measures - Features ####################\n",
    "# Aroma\n",
    "# Flavor\n",
    "# Aftertaste\n",
    "# Acidity\n",
    "# Body\n",
    "# Balance\n",
    "# Uniformity\n",
    "# Cup Cleanliness\n",
    "# Sweetness\n",
    "# Moisture\n",
    "# Defects\n",
    "################### Bean Metadata - Labels ####################\n",
    "# Species (arabica / robusta)\n",
    "# Country of Origin\n",
    "# Processing.Method'\n",
    "\n",
    "df_quality = df_quality[['Processing.Method', 'Country.of.Origin', 'Species', 'Aroma', 'Flavor', 'Aftertaste', 'Acidity', \n",
    "                         'Body', 'Balance', 'Uniformity', 'Clean.Cup', 'Sweetness',\n",
    "                         'Moisture', 'Category.One.Defects', 'Category.Two.Defects']]"
   ]
  },
  {
   "cell_type": "code",
   "execution_count": 4,
   "metadata": {
    "ExecuteTime": {
     "end_time": "2021-02-24T07:00:27.118695Z",
     "start_time": "2021-02-24T07:00:26.977709Z"
    }
   },
   "outputs": [
    {
     "data": {
      "text/plain": [
       "Processing.Method       170\n",
       "Country.of.Origin         1\n",
       "Species                   0\n",
       "Aroma                     0\n",
       "Flavor                    0\n",
       "Aftertaste                0\n",
       "Acidity                   0\n",
       "Body                      0\n",
       "Balance                   0\n",
       "Uniformity                0\n",
       "Clean.Cup                 0\n",
       "Sweetness                 0\n",
       "Moisture                  0\n",
       "Category.One.Defects      0\n",
       "Category.Two.Defects      0\n",
       "dtype: int64"
      ]
     },
     "execution_count": 4,
     "metadata": {},
     "output_type": "execute_result"
    }
   ],
   "source": [
    "# check for null values in data\n",
    "df_quality.isnull().sum()"
   ]
  },
  {
   "cell_type": "code",
   "execution_count": 5,
   "metadata": {
    "ExecuteTime": {
     "end_time": "2021-02-24T07:00:27.260300Z",
     "start_time": "2021-02-24T07:00:27.120697Z"
    }
   },
   "outputs": [],
   "source": [
    "# # From Data, it was evident that the only missing country was Columbia \n",
    "# # because the Owner \"racafe & cia s.c.a\" has records in Columbia only \n",
    "# # and In.Country.Partner column value \"AlmacafÃ©\" is only for Columbia and United States\n",
    "\n",
    "# df_quality['Country.of.Origin'] = df_quality['Country.of.Origin'].fillna('Colombia')\n",
    "# # Checking again for null values in 'Country.of.Origin' column\n",
    "# df_quality['Country.of.Origin'].isnull().sum()"
   ]
  },
  {
   "cell_type": "code",
   "execution_count": 6,
   "metadata": {
    "ExecuteTime": {
     "end_time": "2021-02-24T07:00:27.370019Z",
     "start_time": "2021-02-24T07:00:27.263302Z"
    }
   },
   "outputs": [],
   "source": [
    "df_quality.dropna(inplace=True)"
   ]
  },
  {
   "cell_type": "code",
   "execution_count": 7,
   "metadata": {
    "ExecuteTime": {
     "end_time": "2021-02-24T07:00:27.496190Z",
     "start_time": "2021-02-24T07:00:27.371997Z"
    }
   },
   "outputs": [
    {
     "data": {
      "text/plain": [
       "Processing.Method       0\n",
       "Country.of.Origin       0\n",
       "Species                 0\n",
       "Aroma                   0\n",
       "Flavor                  0\n",
       "Aftertaste              0\n",
       "Acidity                 0\n",
       "Body                    0\n",
       "Balance                 0\n",
       "Uniformity              0\n",
       "Clean.Cup               0\n",
       "Sweetness               0\n",
       "Moisture                0\n",
       "Category.One.Defects    0\n",
       "Category.Two.Defects    0\n",
       "dtype: int64"
      ]
     },
     "execution_count": 7,
     "metadata": {},
     "output_type": "execute_result"
    }
   ],
   "source": [
    "# checking again for null values in data\n",
    "df_quality.isnull().sum()"
   ]
  },
  {
   "cell_type": "markdown",
   "metadata": {},
   "source": [
    "Data is not fully normaly distributed. There is skewness. Algorithms will perform better with a normalized or scaled dataset."
   ]
  },
  {
   "cell_type": "markdown",
   "metadata": {},
   "source": [
    "There are outliers in data, so better to select Models which are insensitive to outliers like SVC, Decision Tree, and Ensembling Techniques"
   ]
  },
  {
   "cell_type": "markdown",
   "metadata": {},
   "source": [
    "### Label Encoding columns with not numeric values"
   ]
  },
  {
   "cell_type": "code",
   "execution_count": 8,
   "metadata": {
    "ExecuteTime": {
     "end_time": "2021-02-24T07:00:27.940164Z",
     "start_time": "2021-02-24T07:00:27.498198Z"
    }
   },
   "outputs": [],
   "source": [
    "df_qual = df_quality.copy()\n",
    "from sklearn.preprocessing import LabelEncoder\n",
    "\n",
    "df_qual = df_qual.apply(LabelEncoder().fit_transform)"
   ]
  },
  {
   "cell_type": "code",
   "execution_count": 9,
   "metadata": {
    "ExecuteTime": {
     "end_time": "2021-02-24T07:00:29.616163Z",
     "start_time": "2021-02-24T07:00:27.942163Z"
    }
   },
   "outputs": [
    {
     "data": {
      "text/plain": [
       "<AxesSubplot:>"
      ]
     },
     "execution_count": 9,
     "metadata": {},
     "output_type": "execute_result"
    },
    {
     "data": {
      "image/png": "[encoded data removed]",
      "text/plain": [
       "<Figure size 720x720 with 2 Axes>"
      ]
     },
     "metadata": {},
     "output_type": "display_data"
    }
   ],
   "source": [
    "# correlation matrix\n",
    "corr_mat = df_qual.corr()\n",
    "top_corr_features = corr_mat.index\n",
    "fig = plt.figure(figsize=(10,10))\n",
    "fig.patch.set_facecolor('white')\n",
    "# heatmap\n",
    "sns.heatmap(df_qual[top_corr_features].corr(), annot=True, cmap=\"RdYlGn\")"
   ]
  },
  {
   "cell_type": "code",
   "execution_count": 10,
   "metadata": {
    "ExecuteTime": {
     "end_time": "2021-02-24T07:00:29.648169Z",
     "start_time": "2021-02-24T07:00:29.618163Z"
    }
   },
   "outputs": [
    {
     "name": "stdout",
     "output_type": "stream",
     "text": [
      "<class 'pandas.core.frame.DataFrame'>\n",
      "Int64Index: 1169 entries, 0 to 1338\n",
      "Data columns (total 14 columns):\n",
      " #   Column                Non-Null Count  Dtype  \n",
      "---  ------                --------------  -----  \n",
      " 0   Processing.Method     1169 non-null   object \n",
      " 1   Country.of.Origin     1169 non-null   object \n",
      " 2   Species               1169 non-null   object \n",
      " 3   Aroma                 1169 non-null   float64\n",
      " 4   Aftertaste            1169 non-null   float64\n",
      " 5   Acidity               1169 non-null   float64\n",
      " 6   Body                  1169 non-null   float64\n",
      " 7   Balance               1169 non-null   float64\n",
      " 8   Uniformity            1169 non-null   float64\n",
      " 9   Clean.Cup             1169 non-null   float64\n",
      " 10  Sweetness             1169 non-null   float64\n",
      " 11  Moisture              1169 non-null   float64\n",
      " 12  Category.One.Defects  1169 non-null   int64  \n",
      " 13  Category.Two.Defects  1169 non-null   int64  \n",
      "dtypes: float64(9), int64(2), object(3)\n",
      "memory usage: 137.0+ KB\n"
     ]
    }
   ],
   "source": [
    "# From the Correlation heatmap we can see Flavor column is highly correlated to many other features\n",
    "# So we can remove that feature from training the model. It improved overall accuracy by 2% \n",
    "# but after SMOTE it doesn't matter\n",
    "\n",
    "df_quality.drop('Flavor', axis = 1, inplace = True) \n",
    "df_quality.info()"
   ]
  },
  {
   "cell_type": "markdown",
   "metadata": {},
   "source": [
    "## Select your features (columns)"
   ]
  },
  {
   "cell_type": "code",
   "execution_count": 11,
   "metadata": {
    "ExecuteTime": {
     "end_time": "2021-02-24T07:00:29.759305Z",
     "start_time": "2021-02-24T07:00:29.652167Z"
    }
   },
   "outputs": [
    {
     "name": "stdout",
     "output_type": "stream",
     "text": [
      "(1169, 13) (1169,)\n"
     ]
    }
   ],
   "source": [
    "# Set features. This will also be used as your x values.\n",
    "X = df_quality.iloc[:, 1:14]\n",
    "y = df_quality.iloc[:, 0]\n",
    "print(X.shape, y.shape)"
   ]
  },
  {
   "cell_type": "code",
   "execution_count": 12,
   "metadata": {
    "ExecuteTime": {
     "end_time": "2021-02-24T07:00:29.918306Z",
     "start_time": "2021-02-24T07:00:29.761306Z"
    }
   },
   "outputs": [
    {
     "data": {
      "text/plain": [
       "Washed / Wet                 815\n",
       "Natural / Dry                258\n",
       "Semi-washed / Semi-pulped     56\n",
       "Other                         26\n",
       "Pulped natural / honey        14\n",
       "Name: Processing.Method, dtype: int64"
      ]
     },
     "execution_count": 12,
     "metadata": {},
     "output_type": "execute_result"
    }
   ],
   "source": [
    "# Checking for imbalanced Dataset\n",
    "df_quality['Processing.Method'].value_counts()"
   ]
  },
  {
   "cell_type": "code",
   "execution_count": 13,
   "metadata": {
    "ExecuteTime": {
     "end_time": "2021-02-24T07:00:30.014304Z",
     "start_time": "2021-02-24T07:00:29.920314Z"
    }
   },
   "outputs": [],
   "source": [
    "X_encoded = X.apply(LabelEncoder().fit_transform)"
   ]
  },
  {
   "cell_type": "markdown",
   "metadata": {},
   "source": [
    "# Train Test Split"
   ]
  },
  {
   "cell_type": "code",
   "execution_count": 14,
   "metadata": {
    "ExecuteTime": {
     "end_time": "2021-02-24T07:00:30.142313Z",
     "start_time": "2021-02-24T07:00:30.016295Z"
    }
   },
   "outputs": [],
   "source": [
    "# Creating train test split on oversampled data\n",
    "from sklearn.model_selection import train_test_split\n",
    "\n",
    "X_train_full, X_test, y_train_full, y_test = train_test_split(X_encoded, y, random_state=13, test_size=0.2)"
   ]
  },
  {
   "cell_type": "markdown",
   "metadata": {},
   "source": [
    "## Pre-processing\n",
    "Scale and Normalize the data using the StandardScaler"
   ]
  },
  {
   "cell_type": "code",
   "execution_count": 15,
   "metadata": {
    "ExecuteTime": {
     "end_time": "2021-02-24T07:00:30.222294Z",
     "start_time": "2021-02-24T07:00:30.144297Z"
    }
   },
   "outputs": [],
   "source": [
    "from sklearn.preprocessing import StandardScaler\n",
    "# Create a StandardScater model and fit it to the training data\n",
    "X_scaler = StandardScaler().fit(X_train_full)\n",
    "\n",
    "# Transform the training and testing data using the X_scaler\n",
    "X_train_scaled = X_scaler.transform(X_train_full)\n",
    "X_test_scaled = X_scaler.transform(X_test)"
   ]
  },
  {
   "cell_type": "markdown",
   "metadata": {},
   "source": [
    "#### Imbalanced Dataset\n",
    "##### Synthethetic Minority Over sampling Technique (SMOTE)"
   ]
  },
  {
   "cell_type": "code",
   "execution_count": 16,
   "metadata": {
    "ExecuteTime": {
     "end_time": "2021-02-24T07:00:30.555296Z",
     "start_time": "2021-02-24T07:00:30.224295Z"
    }
   },
   "outputs": [
    {
     "name": "stdout",
     "output_type": "stream",
     "text": [
      "Before SMOTE count: Counter({'Washed / Wet': 644, 'Natural / Dry': 217, 'Semi-washed / Semi-pulped': 45, 'Other': 18, 'Pulped natural / honey': 11})\n",
      "After SMOTE count: Counter({'Washed / Wet': 1000, 'Natural / Dry': 1000, 'Semi-washed / Semi-pulped': 1000, 'Other': 1000, 'Pulped natural / honey': 1000})\n"
     ]
    },
    {
     "name": "stderr",
     "output_type": "stream",
     "text": [
      "C:\\Users\\Abraham\\anaconda3\\envs\\envcoffee\\lib\\site-packages\\imblearn\\utils\\_validation.py:326: UserWarning: After over-sampling, the number of samples (1000) in class Washed / Wet will be larger than the number of samples in the majority class (class #Washed / Wet -> 644)\n",
      "  n_samples_majority,\n",
      "C:\\Users\\Abraham\\anaconda3\\envs\\envcoffee\\lib\\site-packages\\imblearn\\utils\\_validation.py:326: UserWarning: After over-sampling, the number of samples (1000) in class Natural / Dry will be larger than the number of samples in the majority class (class #Washed / Wet -> 644)\n",
      "  n_samples_majority,\n",
      "C:\\Users\\Abraham\\anaconda3\\envs\\envcoffee\\lib\\site-packages\\imblearn\\utils\\_validation.py:326: UserWarning: After over-sampling, the number of samples (1000) in class Semi-washed / Semi-pulped will be larger than the number of samples in the majority class (class #Washed / Wet -> 644)\n",
      "  n_samples_majority,\n",
      "C:\\Users\\Abraham\\anaconda3\\envs\\envcoffee\\lib\\site-packages\\imblearn\\utils\\_validation.py:326: UserWarning: After over-sampling, the number of samples (1000) in class Other will be larger than the number of samples in the majority class (class #Washed / Wet -> 644)\n",
      "  n_samples_majority,\n",
      "C:\\Users\\Abraham\\anaconda3\\envs\\envcoffee\\lib\\site-packages\\imblearn\\utils\\_validation.py:326: UserWarning: After over-sampling, the number of samples (1000) in class Pulped natural / honey will be larger than the number of samples in the majority class (class #Washed / Wet -> 644)\n",
      "  n_samples_majority,\n"
     ]
    }
   ],
   "source": [
    "# Over sampling\n",
    "from imblearn.over_sampling import SMOTE\n",
    "sampling_strategy= {'Washed / Wet': 1000, 'Natural / Dry': 1000, 'Semi-washed / Semi-pulped': 1000, 'Other': 1000, 'Pulped natural / honey': 1000}\n",
    "synth = SMOTE(random_state=13, sampling_strategy=sampling_strategy)\n",
    "X_resampled, y_resampled = synth.fit_resample(X_train_scaled, y_train_full)\n",
    "\n",
    "from collections import Counter\n",
    "print(\"Before SMOTE count:\" , Counter(y_train_full))\n",
    "print(\"After SMOTE count:\" , Counter(y_resampled))"
   ]
  },
  {
   "cell_type": "markdown",
   "metadata": {},
   "source": [
    "## Create a Train Validation Split After SMOTE"
   ]
  },
  {
   "cell_type": "code",
   "execution_count": 17,
   "metadata": {
    "ExecuteTime": {
     "end_time": "2021-02-24T07:00:30.571299Z",
     "start_time": "2021-02-24T07:00:30.557299Z"
    }
   },
   "outputs": [],
   "source": [
    "# Creating train test split on oversampled data\n",
    "from sklearn.model_selection import train_test_split\n",
    "\n",
    "X_train, X_val, y_train, y_val = train_test_split(X_resampled, y_resampled, random_state=13, test_size=0.1)"
   ]
  },
  {
   "cell_type": "markdown",
   "metadata": {},
   "source": [
    "# Train the Model using SVC"
   ]
  },
  {
   "cell_type": "code",
   "execution_count": 18,
   "metadata": {
    "ExecuteTime": {
     "end_time": "2021-02-24T07:00:31.944296Z",
     "start_time": "2021-02-24T07:00:30.577297Z"
    }
   },
   "outputs": [
    {
     "name": "stdout",
     "output_type": "stream",
     "text": [
      "Training Data Score: 0.5875555555555556\n",
      "Testing Data Score: 0.59\n"
     ]
    }
   ],
   "source": [
    "# Support vector machine linear classifier\n",
    "from sklearn.svm import SVC \n",
    "model = SVC(kernel='linear')\n",
    "model.fit(X_train, y_train)\n",
    "\n",
    "print(f\"Training Data Score: {model.score(X_train, y_train)}\")\n",
    "print(f\"Testing Data Score: {model.score(X_val, y_val)}\")"
   ]
  },
  {
   "cell_type": "markdown",
   "metadata": {},
   "source": [
    "## Evaluate the Model using Confusion Matrix"
   ]
  },
  {
   "cell_type": "code",
   "execution_count": 19,
   "metadata": {
    "ExecuteTime": {
     "end_time": "2021-02-24T07:00:32.280304Z",
     "start_time": "2021-02-24T07:00:31.947299Z"
    }
   },
   "outputs": [
    {
     "name": "stdout",
     "output_type": "stream",
     "text": [
      "Confusion matrix:\n",
      " [[48 12 11 28 11]\n",
      " [ 8 80  1  3  3]\n",
      " [ 8  7 87  3  0]\n",
      " [ 6 19  7 54 10]\n",
      " [17 24  8 19 26]]\n"
     ]
    },
    {
     "name": "stderr",
     "output_type": "stream",
     "text": [
      "C:\\Users\\Abraham\\anaconda3\\envs\\envcoffee\\lib\\site-packages\\ipykernel_launcher.py:15: UserWarning: FixedFormatter should only be used together with FixedLocator\n",
      "  from ipykernel import kernelapp as app\n",
      "C:\\Users\\Abraham\\anaconda3\\envs\\envcoffee\\lib\\site-packages\\ipykernel_launcher.py:16: UserWarning: FixedFormatter should only be used together with FixedLocator\n",
      "  app.launch_new_instance()\n"
     ]
    },
    {
     "data": {
      "image/png": "[encoded data removed]",
      "text/plain": [
       "<Figure size 432x288 with 2 Axes>"
      ]
     },
     "metadata": {},
     "output_type": "display_data"
    }
   ],
   "source": [
    "# Make predictions with the model\n",
    "predictions = model.predict(X_val)  \n",
    "\n",
    "from sklearn.metrics import confusion_matrix\n",
    "\n",
    "conf_mat = confusion_matrix(y_true=y_val, y_pred=predictions)\n",
    "print('Confusion matrix:\\n', conf_mat)\n",
    "\n",
    "labels = df_quality['Processing.Method'].unique()\n",
    "fig = plt.figure()\n",
    "fig.patch.set_facecolor('white')\n",
    "ax = fig.add_subplot(111)\n",
    "cax = ax.matshow(conf_mat, cmap=plt.cm.Blues)\n",
    "fig.colorbar(cax)\n",
    "ax.set_xticklabels([''] + labels)\n",
    "ax.set_yticklabels([''] + labels)\n",
    "plt.xlabel('Predicted')\n",
    "plt.ylabel('Expected')\n",
    "plt.show()"
   ]
  },
  {
   "cell_type": "markdown",
   "metadata": {},
   "source": [
    "### Hyperparameter Tuning for SVC Model"
   ]
  },
  {
   "cell_type": "code",
   "execution_count": 20,
   "metadata": {
    "ExecuteTime": {
     "end_time": "2021-02-24T07:00:32.296295Z",
     "start_time": "2021-02-24T07:00:32.282308Z"
    }
   },
   "outputs": [],
   "source": [
    "# Create the GridSearch estimator along with a parameter object containing the values to adjust\n",
    "from sklearn.model_selection import GridSearchCV\n",
    "param_grid = {'C': [50,100],\n",
    "              'kernel': ['rbf','linear'],\n",
    "              'gamma': [0.001, 0.01]}\n",
    "grid = GridSearchCV(model, param_grid, cv=5)"
   ]
  },
  {
   "cell_type": "code",
   "execution_count": 21,
   "metadata": {
    "ExecuteTime": {
     "end_time": "2021-02-24T07:00:32.424305Z",
     "start_time": "2021-02-24T07:00:32.298295Z"
    }
   },
   "outputs": [],
   "source": [
    "# # Train the model with GridSearch\n",
    "# # This will take the SVC model and try each combination of parameters\n",
    "\n",
    "# grid.fit(X_train, y_train)\n",
    "# print(grid.best_params_)\n",
    "# print(grid.best_score_)"
   ]
  },
  {
   "cell_type": "markdown",
   "metadata": {},
   "source": [
    "# Decision Tree Model"
   ]
  },
  {
   "cell_type": "code",
   "execution_count": 22,
   "metadata": {
    "ExecuteTime": {
     "end_time": "2021-02-24T07:00:32.583293Z",
     "start_time": "2021-02-24T07:00:32.426296Z"
    }
   },
   "outputs": [
    {
     "name": "stdout",
     "output_type": "stream",
     "text": [
      "                           precision    recall  f1-score   support\n",
      "\n",
      "            Natural / Dry       0.83      0.82      0.82       110\n",
      "                    Other       0.93      0.95      0.94        95\n",
      "   Pulped natural / honey       0.94      0.96      0.95       105\n",
      "Semi-washed / Semi-pulped       0.86      0.93      0.89        96\n",
      "             Washed / Wet       0.84      0.74      0.79        94\n",
      "\n",
      "                 accuracy                           0.88       500\n",
      "                macro avg       0.88      0.88      0.88       500\n",
      "             weighted avg       0.88      0.88      0.88       500\n",
      "\n"
     ]
    }
   ],
   "source": [
    "from sklearn import tree\n",
    "\n",
    "# Create and score a decision tree classifier\n",
    "clfTree = tree.DecisionTreeClassifier(min_samples_split=4)\n",
    "clf = clfTree.fit(X_train, y_train)\n",
    "\n",
    "# Make predictions with the hypertuned model\n",
    "treePredictions = clf.predict(X_val)\n",
    "# Calculate classification report\n",
    "from sklearn.metrics import classification_report\n",
    "print(classification_report(y_val, treePredictions))"
   ]
  },
  {
   "cell_type": "code",
   "execution_count": 23,
   "metadata": {
    "ExecuteTime": {
     "end_time": "2021-02-24T07:00:32.615293Z",
     "start_time": "2021-02-24T07:00:32.585295Z"
    }
   },
   "outputs": [
    {
     "name": "stdout",
     "output_type": "stream",
     "text": [
      "Test Accuracy: 0.6367521367521367\n"
     ]
    }
   ],
   "source": [
    "print(f\"Test Accuracy: {clf.score(X_test_scaled, y_test)}\")"
   ]
  },
  {
   "cell_type": "markdown",
   "metadata": {},
   "source": [
    "# Random Forest Grid Search"
   ]
  },
  {
   "cell_type": "code",
   "execution_count": 24,
   "metadata": {
    "ExecuteTime": {
     "end_time": "2021-02-24T07:01:03.003295Z",
     "start_time": "2021-02-24T07:00:32.617296Z"
    }
   },
   "outputs": [
    {
     "name": "stdout",
     "output_type": "stream",
     "text": [
      "{'max_samples': 0.5, 'min_samples_split': 3, 'n_estimators': 1000}\n",
      "0.9326666666666668\n"
     ]
    }
   ],
   "source": [
    "from sklearn.ensemble import RandomForestClassifier\n",
    "from sklearn.model_selection import GridSearchCV\n",
    "\n",
    "model_params = {\n",
    "    'model': RandomForestClassifier(random_state=5),\n",
    "    'params' : {\n",
    "        'n_estimators': [100,1000],  # no of trees\n",
    "        'min_samples_split':[3, 4],\n",
    "        'max_samples': [0.2, 0.5]\n",
    "    }\n",
    "}\n",
    "\n",
    "RFclf =  GridSearchCV(model_params['model'], model_params['params'], cv=5, n_jobs=-1, return_train_score=False)\n",
    "RFclf.fit(X_train, y_train)\n",
    "\n",
    "print(RFclf.best_params_)\n",
    "print(RFclf.best_score_)"
   ]
  },
  {
   "cell_type": "code",
   "execution_count": 25,
   "metadata": {
    "ExecuteTime": {
     "end_time": "2021-02-24T07:01:04.072297Z",
     "start_time": "2021-02-24T07:01:03.005296Z"
    }
   },
   "outputs": [
    {
     "name": "stdout",
     "output_type": "stream",
     "text": [
      "Train Accuracy: 0.996\n",
      "Validation Accuracy: 0.95\n"
     ]
    }
   ],
   "source": [
    "print(f\"Train Accuracy: {RFclf.score(X_train, y_train)}\")\n",
    "print(f\"Validation Accuracy: {RFclf.score(X_val, y_val)}\")"
   ]
  },
  {
   "cell_type": "code",
   "execution_count": 26,
   "metadata": {
    "ExecuteTime": {
     "end_time": "2021-02-24T07:01:04.264295Z",
     "start_time": "2021-02-24T07:01:04.074296Z"
    }
   },
   "outputs": [
    {
     "name": "stdout",
     "output_type": "stream",
     "text": [
      "Test Accuracy: 0.7264957264957265\n"
     ]
    }
   ],
   "source": [
    "print(f\"Test Accuracy: {RFclf.score(X_test_scaled, y_test)}\")"
   ]
  },
  {
   "cell_type": "code",
   "execution_count": null,
   "metadata": {},
   "outputs": [],
   "source": []
  }
 ],
 "metadata": {
  "hide_input": false,
  "kernelspec": {
   "display_name": "Python 3",
   "language": "python",
   "name": "python3"
  },
  "language_info": {
   "codemirror_mode": {
    "name": "ipython",
    "version": 3
   },
   "file_extension": ".py",
   "mimetype": "text/x-python",
   "name": "python",
   "nbconvert_exporter": "python",
   "pygments_lexer": "ipython3",
   "version": "3.7.9"
  },
  "toc": {
   "base_numbering": 1,
   "nav_menu": {},
   "number_sections": true,
   "sideBar": true,
   "skip_h1_title": false,
   "title_cell": "Table of Contents",
   "title_sidebar": "Contents",
   "toc_cell": false,
   "toc_position": {},
   "toc_section_display": true,
   "toc_window_display": false
  },
  "varInspector": {
   "cols": {
    "lenName": 16,
    "lenType": 16,
    "lenVar": 40
   },
   "kernels_config": {
    "python": {
     "delete_cmd_postfix": "",
     "delete_cmd_prefix": "del ",
     "library": "var_list.py",
     "varRefreshCmd": "print(var_dic_list())"
    },
    "r": {
     "delete_cmd_postfix": ") ",
     "delete_cmd_prefix": "rm(",
     "library": "var_list.r",
     "varRefreshCmd": "cat(var_dic_list()) "
    }
   },
   "types_to_exclude": [
    "module",
    "function",
    "builtin_function_or_method",
    "instance",
    "_Feature"
   ],
   "window_display": false
  }
 },
 "nbformat": 4,
 "nbformat_minor": 4
}
