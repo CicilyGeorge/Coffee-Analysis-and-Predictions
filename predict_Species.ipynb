{
 "cells": [
  {
   "cell_type": "code",
   "execution_count": 1,
   "metadata": {
    "ExecuteTime": {
     "end_time": "2021-02-15T12:54:05.711289Z",
     "start_time": "2021-02-15T12:54:05.706289Z"
    }
   },
   "outputs": [],
   "source": [
    "# !pip install numpy\n",
    "# !pip install graphviz\n",
    "# !pip install pydotplus\n",
    "# !pip install dtale"
   ]
  },
  {
   "cell_type": "markdown",
   "metadata": {},
   "source": [
    "### Notes: \n",
    "* Check for Normal Distribution\n",
    "* Outliers\n",
    "* Correlation\n",
    "* Imbalanced Dataset\n",
    "* Is it possible to predict the values, in place of null"
   ]
  },
  {
   "cell_type": "code",
   "execution_count": 2,
   "metadata": {
    "ExecuteTime": {
     "end_time": "2021-02-15T12:54:32.586141Z",
     "start_time": "2021-02-15T12:54:05.715291Z"
    }
   },
   "outputs": [],
   "source": [
    "import pandas as pd\n",
    "import dtale\n",
    "import numpy as np\n",
    "import matplotlib.pyplot as plt\n",
    "import seaborn as sns\n",
    "%matplotlib inline"
   ]
  },
  {
   "cell_type": "markdown",
   "metadata": {},
   "source": [
    "## Data Cleaning"
   ]
  },
  {
   "cell_type": "code",
   "execution_count": 3,
   "metadata": {
    "ExecuteTime": {
     "end_time": "2021-02-15T12:54:32.622140Z",
     "start_time": "2021-02-15T12:54:32.587149Z"
    }
   },
   "outputs": [
    {
     "data": {
      "text/plain": [
       "Green           870\n",
       "Bluish-Green    114\n",
       "Blue-Green       85\n",
       "None             52\n",
       "Name: Color, dtype: int64"
      ]
     },
     "execution_count": 3,
     "metadata": {},
     "output_type": "execute_result"
    }
   ],
   "source": [
    "# Reading merged data Arabica 98% and Robusta 2% of records\n",
    "df_quality = pd.read_csv(\"data/merged_data_cleaned.csv\")\n",
    "df_quality.head()\n",
    "df_quality['Color'].value_counts()"
   ]
  },
  {
   "cell_type": "code",
   "execution_count": 4,
   "metadata": {
    "ExecuteTime": {
     "end_time": "2021-02-15T12:54:32.706143Z",
     "start_time": "2021-02-15T12:54:32.624142Z"
    }
   },
   "outputs": [],
   "source": [
    "################### Quality Measures ####################\n",
    "# Aroma\n",
    "# Flavor\n",
    "# Aftertaste\n",
    "# Acidity\n",
    "# Body\n",
    "# Balance\n",
    "# Uniformity\n",
    "# Cup Cleanliness\n",
    "# Sweetness\n",
    "# Moisture\n",
    "# Defects\n",
    "################### Bean Metadata ####################\n",
    "# Processing Method\n",
    "# Color\n",
    "# Species (arabica / robusta)\n",
    "################### Farm Metadata ####################\n",
    "# Country of Origin\n",
    "# Altitude\n",
    "\n",
    "df_quality = df_quality[['Country.of.Origin', 'Altitude', 'Processing.Method', 'Species', 'Color', 'Aroma', 'Flavor',\n",
    "                         'Aftertaste', 'Acidity', 'Body', 'Balance', 'Uniformity', 'Clean.Cup', 'Sweetness',\n",
    "                         'Moisture', 'Category.One.Defects', 'Category.Two.Defects']]"
   ]
  },
  {
   "cell_type": "code",
   "execution_count": 5,
   "metadata": {
    "ExecuteTime": {
     "end_time": "2021-02-15T12:54:33.182762Z",
     "start_time": "2021-02-15T12:54:32.709141Z"
    }
   },
   "outputs": [
    {
     "data": {
      "text/plain": [
       "Country.of.Origin         1\n",
       "Altitude                226\n",
       "Processing.Method       170\n",
       "Species                   0\n",
       "Color                   218\n",
       "Aroma                     0\n",
       "Flavor                    0\n",
       "Aftertaste                0\n",
       "Acidity                   0\n",
       "Body                      0\n",
       "Balance                   0\n",
       "Uniformity                0\n",
       "Clean.Cup                 0\n",
       "Sweetness                 0\n",
       "Moisture                  0\n",
       "Category.One.Defects      0\n",
       "Category.Two.Defects      0\n",
       "dtype: int64"
      ]
     },
     "execution_count": 5,
     "metadata": {},
     "output_type": "execute_result"
    },
    {
     "data": {
      "image/png": "[encoded data removed]",
      "text/plain": [
       "<Figure size 432x288 with 1 Axes>"
      ]
     },
     "metadata": {},
     "output_type": "display_data"
    }
   ],
   "source": [
    "# visualize null values in data\n",
    "fig = plt.figure()\n",
    "fig.patch.set_facecolor('white')\n",
    "sns.heatmap(df_quality.isnull(), yticklabels=False, cbar=False, cmap='viridis')\n",
    "df_quality.isnull().sum()"
   ]
  },
  {
   "cell_type": "code",
   "execution_count": 6,
   "metadata": {
    "ExecuteTime": {
     "end_time": "2021-02-15T12:54:33.186754Z",
     "start_time": "2021-02-15T12:54:33.183756Z"
    }
   },
   "outputs": [],
   "source": [
    "# dtale.show(df_quality)"
   ]
  },
  {
   "cell_type": "code",
   "execution_count": 7,
   "metadata": {
    "ExecuteTime": {
     "end_time": "2021-02-15T12:54:33.363765Z",
     "start_time": "2021-02-15T12:54:33.190754Z"
    }
   },
   "outputs": [
    {
     "data": {
      "text/html": [
       "<div>\n",
       "<style scoped>\n",
       "    .dataframe tbody tr th:only-of-type {\n",
       "        vertical-align: middle;\n",
       "    }\n",
       "\n",
       "    .dataframe tbody tr th {\n",
       "        vertical-align: top;\n",
       "    }\n",
       "\n",
       "    .dataframe thead th {\n",
       "        text-align: right;\n",
       "    }\n",
       "</style>\n",
       "<table border=\"1\" class=\"dataframe\">\n",
       "  <thead>\n",
       "    <tr style=\"text-align: right;\">\n",
       "      <th></th>\n",
       "      <th>Aroma</th>\n",
       "      <th>Flavor</th>\n",
       "      <th>Aftertaste</th>\n",
       "      <th>Acidity</th>\n",
       "      <th>Body</th>\n",
       "      <th>Balance</th>\n",
       "      <th>Uniformity</th>\n",
       "      <th>Clean.Cup</th>\n",
       "      <th>Sweetness</th>\n",
       "      <th>Moisture</th>\n",
       "      <th>Category.One.Defects</th>\n",
       "      <th>Category.Two.Defects</th>\n",
       "    </tr>\n",
       "  </thead>\n",
       "  <tbody>\n",
       "    <tr>\n",
       "      <th>count</th>\n",
       "      <td>1339.000000</td>\n",
       "      <td>1339.000000</td>\n",
       "      <td>1339.000000</td>\n",
       "      <td>1339.000000</td>\n",
       "      <td>1339.000000</td>\n",
       "      <td>1339.000000</td>\n",
       "      <td>1339.000000</td>\n",
       "      <td>1339.000000</td>\n",
       "      <td>1339.000000</td>\n",
       "      <td>1339.000000</td>\n",
       "      <td>1339.000000</td>\n",
       "      <td>1339.000000</td>\n",
       "    </tr>\n",
       "    <tr>\n",
       "      <th>mean</th>\n",
       "      <td>7.566706</td>\n",
       "      <td>7.520426</td>\n",
       "      <td>7.401083</td>\n",
       "      <td>7.535706</td>\n",
       "      <td>7.517498</td>\n",
       "      <td>7.518013</td>\n",
       "      <td>9.834877</td>\n",
       "      <td>9.835108</td>\n",
       "      <td>9.856692</td>\n",
       "      <td>0.088379</td>\n",
       "      <td>0.479462</td>\n",
       "      <td>3.556385</td>\n",
       "    </tr>\n",
       "    <tr>\n",
       "      <th>std</th>\n",
       "      <td>0.377560</td>\n",
       "      <td>0.398442</td>\n",
       "      <td>0.404463</td>\n",
       "      <td>0.379827</td>\n",
       "      <td>0.370064</td>\n",
       "      <td>0.408943</td>\n",
       "      <td>0.554591</td>\n",
       "      <td>0.763946</td>\n",
       "      <td>0.616102</td>\n",
       "      <td>0.048287</td>\n",
       "      <td>2.549683</td>\n",
       "      <td>5.312541</td>\n",
       "    </tr>\n",
       "    <tr>\n",
       "      <th>min</th>\n",
       "      <td>0.000000</td>\n",
       "      <td>0.000000</td>\n",
       "      <td>0.000000</td>\n",
       "      <td>0.000000</td>\n",
       "      <td>0.000000</td>\n",
       "      <td>0.000000</td>\n",
       "      <td>0.000000</td>\n",
       "      <td>0.000000</td>\n",
       "      <td>0.000000</td>\n",
       "      <td>0.000000</td>\n",
       "      <td>0.000000</td>\n",
       "      <td>0.000000</td>\n",
       "    </tr>\n",
       "    <tr>\n",
       "      <th>25%</th>\n",
       "      <td>7.420000</td>\n",
       "      <td>7.330000</td>\n",
       "      <td>7.250000</td>\n",
       "      <td>7.330000</td>\n",
       "      <td>7.330000</td>\n",
       "      <td>7.330000</td>\n",
       "      <td>10.000000</td>\n",
       "      <td>10.000000</td>\n",
       "      <td>10.000000</td>\n",
       "      <td>0.090000</td>\n",
       "      <td>0.000000</td>\n",
       "      <td>0.000000</td>\n",
       "    </tr>\n",
       "    <tr>\n",
       "      <th>50%</th>\n",
       "      <td>7.580000</td>\n",
       "      <td>7.580000</td>\n",
       "      <td>7.420000</td>\n",
       "      <td>7.580000</td>\n",
       "      <td>7.500000</td>\n",
       "      <td>7.500000</td>\n",
       "      <td>10.000000</td>\n",
       "      <td>10.000000</td>\n",
       "      <td>10.000000</td>\n",
       "      <td>0.110000</td>\n",
       "      <td>0.000000</td>\n",
       "      <td>2.000000</td>\n",
       "    </tr>\n",
       "    <tr>\n",
       "      <th>75%</th>\n",
       "      <td>7.750000</td>\n",
       "      <td>7.750000</td>\n",
       "      <td>7.580000</td>\n",
       "      <td>7.750000</td>\n",
       "      <td>7.670000</td>\n",
       "      <td>7.750000</td>\n",
       "      <td>10.000000</td>\n",
       "      <td>10.000000</td>\n",
       "      <td>10.000000</td>\n",
       "      <td>0.120000</td>\n",
       "      <td>0.000000</td>\n",
       "      <td>4.000000</td>\n",
       "    </tr>\n",
       "    <tr>\n",
       "      <th>max</th>\n",
       "      <td>8.750000</td>\n",
       "      <td>8.830000</td>\n",
       "      <td>8.670000</td>\n",
       "      <td>8.750000</td>\n",
       "      <td>8.580000</td>\n",
       "      <td>8.750000</td>\n",
       "      <td>10.000000</td>\n",
       "      <td>10.000000</td>\n",
       "      <td>10.000000</td>\n",
       "      <td>0.280000</td>\n",
       "      <td>63.000000</td>\n",
       "      <td>55.000000</td>\n",
       "    </tr>\n",
       "  </tbody>\n",
       "</table>\n",
       "</div>"
      ],
      "text/plain": [
       "             Aroma       Flavor   Aftertaste      Acidity         Body  \\\n",
       "count  1339.000000  1339.000000  1339.000000  1339.000000  1339.000000   \n",
       "mean      7.566706     7.520426     7.401083     7.535706     7.517498   \n",
       "std       0.377560     0.398442     0.404463     0.379827     0.370064   \n",
       "min       0.000000     0.000000     0.000000     0.000000     0.000000   \n",
       "25%       7.420000     7.330000     7.250000     7.330000     7.330000   \n",
       "50%       7.580000     7.580000     7.420000     7.580000     7.500000   \n",
       "75%       7.750000     7.750000     7.580000     7.750000     7.670000   \n",
       "max       8.750000     8.830000     8.670000     8.750000     8.580000   \n",
       "\n",
       "           Balance   Uniformity    Clean.Cup    Sweetness     Moisture  \\\n",
       "count  1339.000000  1339.000000  1339.000000  1339.000000  1339.000000   \n",
       "mean      7.518013     9.834877     9.835108     9.856692     0.088379   \n",
       "std       0.408943     0.554591     0.763946     0.616102     0.048287   \n",
       "min       0.000000     0.000000     0.000000     0.000000     0.000000   \n",
       "25%       7.330000    10.000000    10.000000    10.000000     0.090000   \n",
       "50%       7.500000    10.000000    10.000000    10.000000     0.110000   \n",
       "75%       7.750000    10.000000    10.000000    10.000000     0.120000   \n",
       "max       8.750000    10.000000    10.000000    10.000000     0.280000   \n",
       "\n",
       "       Category.One.Defects  Category.Two.Defects  \n",
       "count           1339.000000           1339.000000  \n",
       "mean               0.479462              3.556385  \n",
       "std                2.549683              5.312541  \n",
       "min                0.000000              0.000000  \n",
       "25%                0.000000              0.000000  \n",
       "50%                0.000000              2.000000  \n",
       "75%                0.000000              4.000000  \n",
       "max               63.000000             55.000000  "
      ]
     },
     "execution_count": 7,
     "metadata": {},
     "output_type": "execute_result"
    }
   ],
   "source": [
    "df_quality.describe()"
   ]
  },
  {
   "cell_type": "code",
   "execution_count": 8,
   "metadata": {
    "ExecuteTime": {
     "end_time": "2021-02-15T12:54:33.819756Z",
     "start_time": "2021-02-15T12:54:33.365755Z"
    }
   },
   "outputs": [
    {
     "name": "stderr",
     "output_type": "stream",
     "text": [
      "C:\\Users\\Abraham\\anaconda3\\envs\\python31\\lib\\site-packages\\seaborn\\distributions.py:2551: FutureWarning:\n",
      "\n",
      "`distplot` is a deprecated function and will be removed in a future version. Please adapt your code to use either `displot` (a figure-level function with similar flexibility) or `histplot` (an axes-level function for histograms).\n",
      "\n"
     ]
    },
    {
     "data": {
      "text/plain": [
       "<matplotlib.axes._subplots.AxesSubplot at 0x20c07487948>"
      ]
     },
     "execution_count": 8,
     "metadata": {},
     "output_type": "execute_result"
    },
    {
     "data": {
      "image/png": "[encoded data removed]",
      "text/plain": [
       "<Figure size 432x288 with 1 Axes>"
      ]
     },
     "metadata": {},
     "output_type": "display_data"
    }
   ],
   "source": [
    "fig = plt.figure()\n",
    "fig.patch.set_facecolor('white')\n",
    "sns.distplot(df_quality['Moisture'])"
   ]
  },
  {
   "cell_type": "code",
   "execution_count": 9,
   "metadata": {
    "ExecuteTime": {
     "end_time": "2021-02-15T12:54:33.825752Z",
     "start_time": "2021-02-15T12:54:33.821753Z"
    }
   },
   "outputs": [],
   "source": [
    "# upper_bound = df_quality['Moisture'].mean() + (3 * df_quality['Moisture'].std())\n",
    "# lower_bound = df_quality['Moisture'].mean() - (3 * df_quality['Moisture'].std())\n",
    "# print(lower_bound)\n",
    "# print(upper_bound)\n",
    "# df_quality.loc[df_quality['Moisture'] > upper_bound),'Moisture']='0.23'"
   ]
  },
  {
   "cell_type": "code",
   "execution_count": 10,
   "metadata": {
    "ExecuteTime": {
     "end_time": "2021-02-15T12:54:34.199751Z",
     "start_time": "2021-02-15T12:54:33.827753Z"
    }
   },
   "outputs": [
    {
     "name": "stderr",
     "output_type": "stream",
     "text": [
      "C:\\Users\\Abraham\\anaconda3\\envs\\python31\\lib\\site-packages\\seaborn\\distributions.py:2551: FutureWarning:\n",
      "\n",
      "`distplot` is a deprecated function and will be removed in a future version. Please adapt your code to use either `displot` (a figure-level function with similar flexibility) or `histplot` (an axes-level function for histograms).\n",
      "\n"
     ]
    },
    {
     "data": {
      "text/plain": [
       "<matplotlib.axes._subplots.AxesSubplot at 0x20c079f7c48>"
      ]
     },
     "execution_count": 10,
     "metadata": {},
     "output_type": "execute_result"
    },
    {
     "data": {
      "image/png": "[encoded data removed]",
      "text/plain": [
       "<Figure size 432x288 with 1 Axes>"
      ]
     },
     "metadata": {},
     "output_type": "display_data"
    }
   ],
   "source": [
    "fig = plt.figure()\n",
    "fig.patch.set_facecolor('white')\n",
    "sns.distplot(df_quality['Uniformity'])"
   ]
  },
  {
   "cell_type": "code",
   "execution_count": 11,
   "metadata": {
    "ExecuteTime": {
     "end_time": "2021-02-15T12:54:34.511755Z",
     "start_time": "2021-02-15T12:54:34.201758Z"
    }
   },
   "outputs": [
    {
     "name": "stderr",
     "output_type": "stream",
     "text": [
      "C:\\Users\\Abraham\\anaconda3\\envs\\python31\\lib\\site-packages\\seaborn\\distributions.py:2551: FutureWarning:\n",
      "\n",
      "`distplot` is a deprecated function and will be removed in a future version. Please adapt your code to use either `displot` (a figure-level function with similar flexibility) or `histplot` (an axes-level function for histograms).\n",
      "\n"
     ]
    },
    {
     "data": {
      "text/plain": [
       "<matplotlib.axes._subplots.AxesSubplot at 0x20c07ae4908>"
      ]
     },
     "execution_count": 11,
     "metadata": {},
     "output_type": "execute_result"
    },
    {
     "data": {
      "image/png": "[encoded data removed]",
      "text/plain": [
       "<Figure size 432x288 with 1 Axes>"
      ]
     },
     "metadata": {
      "needs_background": "light"
     },
     "output_type": "display_data"
    }
   ],
   "source": [
    "sns.distplot(df_quality['Clean.Cup'])"
   ]
  },
  {
   "cell_type": "code",
   "execution_count": 12,
   "metadata": {
    "ExecuteTime": {
     "end_time": "2021-02-15T12:54:34.900754Z",
     "start_time": "2021-02-15T12:54:34.512754Z"
    }
   },
   "outputs": [
    {
     "name": "stderr",
     "output_type": "stream",
     "text": [
      "C:\\Users\\Abraham\\anaconda3\\envs\\python31\\lib\\site-packages\\seaborn\\distributions.py:2551: FutureWarning:\n",
      "\n",
      "`distplot` is a deprecated function and will be removed in a future version. Please adapt your code to use either `displot` (a figure-level function with similar flexibility) or `histplot` (an axes-level function for histograms).\n",
      "\n"
     ]
    },
    {
     "data": {
      "text/plain": [
       "<matplotlib.axes._subplots.AxesSubplot at 0x20c07abf708>"
      ]
     },
     "execution_count": 12,
     "metadata": {},
     "output_type": "execute_result"
    },
    {
     "data": {
      "image/png": "[encoded data removed]",
      "text/plain": [
       "<Figure size 432x288 with 1 Axes>"
      ]
     },
     "metadata": {
      "needs_background": "light"
     },
     "output_type": "display_data"
    }
   ],
   "source": [
    "sns.distplot(df_quality['Sweetness'])"
   ]
  },
  {
   "cell_type": "code",
   "execution_count": 13,
   "metadata": {
    "ExecuteTime": {
     "end_time": "2021-02-15T12:54:36.128284Z",
     "start_time": "2021-02-15T12:54:34.902753Z"
    }
   },
   "outputs": [
    {
     "data": {
      "text/plain": [
       "<matplotlib.axes._subplots.AxesSubplot at 0x20c077e0288>"
      ]
     },
     "execution_count": 13,
     "metadata": {},
     "output_type": "execute_result"
    },
    {
     "data": {
      "image/png": "[encoded data removed]",
      "text/plain": [
       "<Figure size 720x720 with 2 Axes>"
      ]
     },
     "metadata": {},
     "output_type": "display_data"
    }
   ],
   "source": [
    "# correlation matrix\n",
    "corr_mat = df_quality.corr()\n",
    "top_corr_features = corr_mat.index\n",
    "fig = plt.figure(figsize=(10,10))\n",
    "fig.patch.set_facecolor('white')\n",
    "# heatmap\n",
    "sns.heatmap(df_quality[top_corr_features].corr(), annot=True, cmap=\"RdYlGn\")"
   ]
  },
  {
   "cell_type": "markdown",
   "metadata": {},
   "source": [
    "## Select your features (columns)"
   ]
  },
  {
   "cell_type": "code",
   "execution_count": 14,
   "metadata": {
    "ExecuteTime": {
     "end_time": "2021-02-15T12:54:36.145279Z",
     "start_time": "2021-02-15T12:54:36.130276Z"
    }
   },
   "outputs": [
    {
     "name": "stdout",
     "output_type": "stream",
     "text": [
      "<class 'pandas.core.frame.DataFrame'>\n",
      "RangeIndex: 1339 entries, 0 to 1338\n",
      "Data columns (total 17 columns):\n",
      " #   Column                Non-Null Count  Dtype  \n",
      "---  ------                --------------  -----  \n",
      " 0   Country.of.Origin     1338 non-null   object \n",
      " 1   Altitude              1113 non-null   object \n",
      " 2   Processing.Method     1169 non-null   object \n",
      " 3   Species               1339 non-null   object \n",
      " 4   Color                 1121 non-null   object \n",
      " 5   Aroma                 1339 non-null   float64\n",
      " 6   Flavor                1339 non-null   float64\n",
      " 7   Aftertaste            1339 non-null   float64\n",
      " 8   Acidity               1339 non-null   float64\n",
      " 9   Body                  1339 non-null   float64\n",
      " 10  Balance               1339 non-null   float64\n",
      " 11  Uniformity            1339 non-null   float64\n",
      " 12  Clean.Cup             1339 non-null   float64\n",
      " 13  Sweetness             1339 non-null   float64\n",
      " 14  Moisture              1339 non-null   float64\n",
      " 15  Category.One.Defects  1339 non-null   int64  \n",
      " 16  Category.Two.Defects  1339 non-null   int64  \n",
      "dtypes: float64(10), int64(2), object(5)\n",
      "memory usage: 178.0+ KB\n"
     ]
    }
   ],
   "source": [
    "df_quality.info()"
   ]
  },
  {
   "cell_type": "markdown",
   "metadata": {},
   "source": [
    "#### Imbalanced Dataset"
   ]
  },
  {
   "cell_type": "code",
   "execution_count": 15,
   "metadata": {
    "ExecuteTime": {
     "end_time": "2021-02-15T12:54:36.251277Z",
     "start_time": "2021-02-15T12:54:36.148279Z"
    }
   },
   "outputs": [
    {
     "data": {
      "text/plain": [
       "Arabica    1311\n",
       "Robusta      28\n",
       "Name: Species, dtype: int64"
      ]
     },
     "execution_count": 15,
     "metadata": {},
     "output_type": "execute_result"
    }
   ],
   "source": [
    "df_quality['Species'].value_counts()"
   ]
  },
  {
   "cell_type": "code",
   "execution_count": 16,
   "metadata": {
    "ExecuteTime": {
     "end_time": "2021-02-15T12:54:36.336480Z",
     "start_time": "2021-02-15T12:54:36.253277Z"
    }
   },
   "outputs": [
    {
     "name": "stdout",
     "output_type": "stream",
     "text": [
      "(1339, 11) (1339,)\n"
     ]
    }
   ],
   "source": [
    "# Set features. This will also be used as your x values.\n",
    "data = df_quality.values\n",
    "X = data[:, 5:16]\n",
    "y = data[:, 3]\n",
    "print(X.shape, y.shape)"
   ]
  },
  {
   "cell_type": "markdown",
   "metadata": {},
   "source": [
    "## Create a Train Test Split"
   ]
  },
  {
   "cell_type": "code",
   "execution_count": 17,
   "metadata": {
    "ExecuteTime": {
     "end_time": "2021-02-15T12:54:36.522249Z",
     "start_time": "2021-02-15T12:54:36.338479Z"
    }
   },
   "outputs": [],
   "source": [
    "from sklearn.model_selection import train_test_split\n",
    "\n",
    "X_train, X_test, y_train, y_test = train_test_split(X, y, random_state=42, test_size=0.2)"
   ]
  },
  {
   "cell_type": "markdown",
   "metadata": {},
   "source": [
    "## Pre-processing\n",
    "Scale the data using the MinMaxScaler and perform some feature selection"
   ]
  },
  {
   "cell_type": "code",
   "execution_count": 18,
   "metadata": {
    "ExecuteTime": {
     "end_time": "2021-02-15T12:54:36.571764Z",
     "start_time": "2021-02-15T12:54:36.523250Z"
    }
   },
   "outputs": [],
   "source": [
    "from sklearn.preprocessing import StandardScaler\n",
    "# Create a StandardScater model and fit it to the training data\n",
    "X_scaler = StandardScaler().fit(X_train)\n",
    "\n",
    "# Transform the training and testing data using the X_scaler\n",
    "X_train_scaled = X_scaler.transform(X_train)\n",
    "X_test_scaled = X_scaler.transform(X_test)"
   ]
  },
  {
   "cell_type": "markdown",
   "metadata": {},
   "source": [
    "## Train the Model using SVC"
   ]
  },
  {
   "cell_type": "code",
   "execution_count": 19,
   "metadata": {
    "ExecuteTime": {
     "end_time": "2021-02-15T12:54:36.725154Z",
     "start_time": "2021-02-15T12:54:36.572763Z"
    }
   },
   "outputs": [
    {
     "name": "stdout",
     "output_type": "stream",
     "text": [
      "Training Data Score: 0.9981325863678805\n",
      "Testing Data Score: 0.9738805970149254\n"
     ]
    }
   ],
   "source": [
    "# Support vector machine linear classifier\n",
    "from sklearn.svm import SVC \n",
    "model = SVC(kernel='linear')\n",
    "model.fit(X_train_scaled, y_train)\n",
    "\n",
    "print(f\"Training Data Score: {model.score(X_train_scaled, y_train)}\")\n",
    "print(f\"Testing Data Score: {model.score(X_test_scaled, y_test)}\")"
   ]
  },
  {
   "cell_type": "markdown",
   "metadata": {},
   "source": [
    "## Evaluate the Model"
   ]
  },
  {
   "cell_type": "code",
   "execution_count": 20,
   "metadata": {
    "ExecuteTime": {
     "end_time": "2021-02-15T12:54:36.761145Z",
     "start_time": "2021-02-15T12:54:36.727145Z"
    }
   },
   "outputs": [
    {
     "name": "stdout",
     "output_type": "stream",
     "text": [
      "              precision    recall  f1-score   support\n",
      "\n",
      "     Arabica       0.99      0.98      0.99       259\n",
      "     Robusta       0.60      0.67      0.63         9\n",
      "\n",
      "    accuracy                           0.97       268\n",
      "   macro avg       0.79      0.83      0.81       268\n",
      "weighted avg       0.98      0.97      0.97       268\n",
      "\n"
     ]
    }
   ],
   "source": [
    "# Make predictions with the hypertuned model\n",
    "predictions = model.predict(X_test_scaled)  \n",
    "# Calculate classification report\n",
    "from sklearn.metrics import classification_report\n",
    "print(classification_report(y_test, predictions,\n",
    "                            target_names=[\"Arabica\", \"Robusta\"]))"
   ]
  },
  {
   "cell_type": "markdown",
   "metadata": {},
   "source": [
    "### Confusion Matrix"
   ]
  },
  {
   "cell_type": "code",
   "execution_count": 21,
   "metadata": {
    "ExecuteTime": {
     "end_time": "2021-02-15T12:54:37.021483Z",
     "start_time": "2021-02-15T12:54:36.763149Z"
    }
   },
   "outputs": [
    {
     "name": "stdout",
     "output_type": "stream",
     "text": [
      "Confusion matrix:\n",
      " [[255   4]\n",
      " [  3   6]]\n"
     ]
    },
    {
     "data": {
      "image/png": "[encoded data removed]",
      "text/plain": [
       "<Figure size 432x288 with 2 Axes>"
      ]
     },
     "metadata": {},
     "output_type": "display_data"
    }
   ],
   "source": [
    "from sklearn.metrics import confusion_matrix\n",
    "\n",
    "conf_mat = confusion_matrix(y_true=y_test, y_pred=predictions)\n",
    "print('Confusion matrix:\\n', conf_mat)\n",
    "\n",
    "labels = ['Arabica', 'Robusta']\n",
    "fig = plt.figure()\n",
    "fig.patch.set_facecolor('white')\n",
    "ax = fig.add_subplot(111)\n",
    "cax = ax.matshow(conf_mat, cmap=plt.cm.Blues)\n",
    "fig.colorbar(cax)\n",
    "ax.set_xticklabels([''] + labels)\n",
    "ax.set_yticklabels([''] + labels)\n",
    "plt.xlabel('Predicted')\n",
    "plt.ylabel('Expected')\n",
    "plt.show()"
   ]
  },
  {
   "cell_type": "markdown",
   "metadata": {},
   "source": [
    "# Decision Tree Model"
   ]
  },
  {
   "cell_type": "code",
   "execution_count": 22,
   "metadata": {
    "ExecuteTime": {
     "end_time": "2021-02-15T12:54:37.105453Z",
     "start_time": "2021-02-15T12:54:37.028458Z"
    }
   },
   "outputs": [
    {
     "data": {
      "text/plain": [
       "1.0"
      ]
     },
     "execution_count": 22,
     "metadata": {},
     "output_type": "execute_result"
    }
   ],
   "source": [
    "from sklearn import tree\n",
    "\n",
    "# Create and score a decision tree classifier\n",
    "clf = tree.DecisionTreeClassifier()\n",
    "clf = clf.fit(df_quality.iloc[:, 5:16], df_quality.Species)\n",
    "clf.score(df_quality.iloc[:, 5:16], df_quality.Species)"
   ]
  },
  {
   "cell_type": "code",
   "execution_count": 23,
   "metadata": {
    "ExecuteTime": {
     "end_time": "2021-02-15T12:54:37.720222Z",
     "start_time": "2021-02-15T12:54:37.108455Z"
    }
   },
   "outputs": [
    {
     "data": {
      "image/svg+xml": [
       "<?xml version=\"1.0\" encoding=\"UTF-8\" standalone=\"no\"?>\r\n",
       "<!DOCTYPE svg PUBLIC \"-//W3C//DTD SVG 1.1//EN\"\r\n",
       " \"http://www.w3.org/Graphics/SVG/1.1/DTD/svg11.dtd\">\r\n",
       "<!-- Generated by graphviz version 2.38.0 (20140413.2041)\r\n",
       " -->\r\n",
       "<!-- Title: Tree Pages: 1 -->\r\n",
       "<svg width=\"527pt\" height=\"552pt\"\r\n",
       " viewBox=\"0.00 0.00 527.00 552.00\" xmlns=\"http://www.w3.org/2000/svg\" xmlns:xlink=\"http://www.w3.org/1999/xlink\">\r\n",
       "<g id=\"graph0\" class=\"graph\" transform=\"scale(1 1) rotate(0) translate(4 548)\">\r\n",
       "<title>Tree</title>\r\n",
       "<polygon fill=\"white\" stroke=\"none\" points=\"-4,4 -4,-548 523,-548 523,4 -4,4\"/>\r\n",
       "<!-- 0 -->\r\n",
       "<g id=\"node1\" class=\"node\"><title>0</title>\r\n",
       "<path fill=\"#e6843d\" stroke=\"black\" d=\"M314,-544C314,-544 199,-544 199,-544 193,-544 187,-538 187,-532 187,-532 187,-473 187,-473 187,-467 193,-461 199,-461 199,-461 314,-461 314,-461 320,-461 326,-467 326,-473 326,-473 326,-532 326,-532 326,-538 320,-544 314,-544\"/>\r\n",
       "<text text-anchor=\"start\" x=\"195\" y=\"-528.8\" font-family=\"Helvetica,sans-Serif\" font-size=\"14.00\">Sweetness ≤ 8.545</text>\r\n",
       "<text text-anchor=\"start\" x=\"219\" y=\"-513.8\" font-family=\"Helvetica,sans-Serif\" font-size=\"14.00\">gini = 0.041</text>\r\n",
       "<text text-anchor=\"start\" x=\"205\" y=\"-498.8\" font-family=\"Helvetica,sans-Serif\" font-size=\"14.00\">samples = 1339</text>\r\n",
       "<text text-anchor=\"start\" x=\"199.5\" y=\"-483.8\" font-family=\"Helvetica,sans-Serif\" font-size=\"14.00\">value = [1311, 28]</text>\r\n",
       "<text text-anchor=\"start\" x=\"208\" y=\"-468.8\" font-family=\"Helvetica,sans-Serif\" font-size=\"14.00\">class = Arabica</text>\r\n",
       "</g>\r\n",
       "<!-- 1 -->\r\n",
       "<g id=\"node2\" class=\"node\"><title>1</title>\r\n",
       "<path fill=\"#c6e3f8\" stroke=\"black\" d=\"M235,-425C235,-425 140,-425 140,-425 134,-425 128,-419 128,-413 128,-413 128,-354 128,-354 128,-348 134,-342 140,-342 140,-342 235,-342 235,-342 241,-342 247,-348 247,-354 247,-354 247,-413 247,-413 247,-419 241,-425 235,-425\"/>\r\n",
       "<text text-anchor=\"start\" x=\"136\" y=\"-409.8\" font-family=\"Helvetica,sans-Serif\" font-size=\"14.00\">Clean.Cup ≤ 9.0</text>\r\n",
       "<text text-anchor=\"start\" x=\"150\" y=\"-394.8\" font-family=\"Helvetica,sans-Serif\" font-size=\"14.00\">gini = 0.486</text>\r\n",
       "<text text-anchor=\"start\" x=\"144\" y=\"-379.8\" font-family=\"Helvetica,sans-Serif\" font-size=\"14.00\">samples = 48</text>\r\n",
       "<text text-anchor=\"start\" x=\"139\" y=\"-364.8\" font-family=\"Helvetica,sans-Serif\" font-size=\"14.00\">value = [20, 28]</text>\r\n",
       "<text text-anchor=\"start\" x=\"136\" y=\"-349.8\" font-family=\"Helvetica,sans-Serif\" font-size=\"14.00\">class = Robusta</text>\r\n",
       "</g>\r\n",
       "<!-- 0&#45;&gt;1 -->\r\n",
       "<g id=\"edge1\" class=\"edge\"><title>0&#45;&gt;1</title>\r\n",
       "<path fill=\"none\" stroke=\"black\" d=\"M232.561,-460.907C227.423,-452.195 221.939,-442.897 216.629,-433.893\"/>\r\n",
       "<polygon fill=\"black\" stroke=\"black\" points=\"219.492,-431.857 211.397,-425.021 213.462,-435.412 219.492,-431.857\"/>\r\n",
       "<text text-anchor=\"middle\" x=\"205.15\" y=\"-445.528\" font-family=\"Helvetica,sans-Serif\" font-size=\"14.00\">True</text>\r\n",
       "</g>\r\n",
       "<!-- 10 -->\r\n",
       "<g id=\"node11\" class=\"node\"><title>10</title>\r\n",
       "<path fill=\"#e58139\" stroke=\"black\" d=\"M375.5,-417.5C375.5,-417.5 277.5,-417.5 277.5,-417.5 271.5,-417.5 265.5,-411.5 265.5,-405.5 265.5,-405.5 265.5,-361.5 265.5,-361.5 265.5,-355.5 271.5,-349.5 277.5,-349.5 277.5,-349.5 375.5,-349.5 375.5,-349.5 381.5,-349.5 387.5,-355.5 387.5,-361.5 387.5,-361.5 387.5,-405.5 387.5,-405.5 387.5,-411.5 381.5,-417.5 375.5,-417.5\"/>\r\n",
       "<text text-anchor=\"start\" x=\"297.5\" y=\"-402.3\" font-family=\"Helvetica,sans-Serif\" font-size=\"14.00\">gini = 0.0</text>\r\n",
       "<text text-anchor=\"start\" x=\"275\" y=\"-387.3\" font-family=\"Helvetica,sans-Serif\" font-size=\"14.00\">samples = 1291</text>\r\n",
       "<text text-anchor=\"start\" x=\"273.5\" y=\"-372.3\" font-family=\"Helvetica,sans-Serif\" font-size=\"14.00\">value = [1291, 0]</text>\r\n",
       "<text text-anchor=\"start\" x=\"278\" y=\"-357.3\" font-family=\"Helvetica,sans-Serif\" font-size=\"14.00\">class = Arabica</text>\r\n",
       "</g>\r\n",
       "<!-- 0&#45;&gt;10 -->\r\n",
       "<g id=\"edge10\" class=\"edge\"><title>0&#45;&gt;10</title>\r\n",
       "<path fill=\"none\" stroke=\"black\" d=\"M280.786,-460.907C287.454,-449.763 294.696,-437.658 301.408,-426.439\"/>\r\n",
       "<polygon fill=\"black\" stroke=\"black\" points=\"304.526,-428.045 306.657,-417.667 298.519,-424.451 304.526,-428.045\"/>\r\n",
       "<text text-anchor=\"middle\" x=\"312.75\" y=\"-438.213\" font-family=\"Helvetica,sans-Serif\" font-size=\"14.00\">False</text>\r\n",
       "</g>\r\n",
       "<!-- 2 -->\r\n",
       "<g id=\"node3\" class=\"node\"><title>2</title>\r\n",
       "<path fill=\"#e58139\" stroke=\"black\" d=\"M160,-298.5C160,-298.5 71,-298.5 71,-298.5 65,-298.5 59,-292.5 59,-286.5 59,-286.5 59,-242.5 59,-242.5 59,-236.5 65,-230.5 71,-230.5 71,-230.5 160,-230.5 160,-230.5 166,-230.5 172,-236.5 172,-242.5 172,-242.5 172,-286.5 172,-286.5 172,-292.5 166,-298.5 160,-298.5\"/>\r\n",
       "<text text-anchor=\"start\" x=\"86.5\" y=\"-283.3\" font-family=\"Helvetica,sans-Serif\" font-size=\"14.00\">gini = 0.0</text>\r\n",
       "<text text-anchor=\"start\" x=\"72\" y=\"-268.3\" font-family=\"Helvetica,sans-Serif\" font-size=\"14.00\">samples = 14</text>\r\n",
       "<text text-anchor=\"start\" x=\"71\" y=\"-253.3\" font-family=\"Helvetica,sans-Serif\" font-size=\"14.00\">value = [14, 0]</text>\r\n",
       "<text text-anchor=\"start\" x=\"67\" y=\"-238.3\" font-family=\"Helvetica,sans-Serif\" font-size=\"14.00\">class = Arabica</text>\r\n",
       "</g>\r\n",
       "<!-- 1&#45;&gt;2 -->\r\n",
       "<g id=\"edge2\" class=\"edge\"><title>1&#45;&gt;2</title>\r\n",
       "<path fill=\"none\" stroke=\"black\" d=\"M162.52,-341.907C155.662,-330.763 148.213,-318.658 141.309,-307.439\"/>\r\n",
       "<polygon fill=\"black\" stroke=\"black\" points=\"144.132,-305.349 135.91,-298.667 138.171,-309.018 144.132,-305.349\"/>\r\n",
       "</g>\r\n",
       "<!-- 3 -->\r\n",
       "<g id=\"node4\" class=\"node\"><title>3</title>\r\n",
       "<path fill=\"#63b2eb\" stroke=\"black\" d=\"M317,-306C317,-306 202,-306 202,-306 196,-306 190,-300 190,-294 190,-294 190,-235 190,-235 190,-229 196,-223 202,-223 202,-223 317,-223 317,-223 323,-223 329,-229 329,-235 329,-235 329,-294 329,-294 329,-300 323,-306 317,-306\"/>\r\n",
       "<text text-anchor=\"start\" x=\"198\" y=\"-290.8\" font-family=\"Helvetica,sans-Serif\" font-size=\"14.00\">Sweetness ≤ 6.875</text>\r\n",
       "<text text-anchor=\"start\" x=\"222\" y=\"-275.8\" font-family=\"Helvetica,sans-Serif\" font-size=\"14.00\">gini = 0.291</text>\r\n",
       "<text text-anchor=\"start\" x=\"216\" y=\"-260.8\" font-family=\"Helvetica,sans-Serif\" font-size=\"14.00\">samples = 34</text>\r\n",
       "<text text-anchor=\"start\" x=\"215\" y=\"-245.8\" font-family=\"Helvetica,sans-Serif\" font-size=\"14.00\">value = [6, 28]</text>\r\n",
       "<text text-anchor=\"start\" x=\"208\" y=\"-230.8\" font-family=\"Helvetica,sans-Serif\" font-size=\"14.00\">class = Robusta</text>\r\n",
       "</g>\r\n",
       "<!-- 1&#45;&gt;3 -->\r\n",
       "<g id=\"edge3\" class=\"edge\"><title>1&#45;&gt;3</title>\r\n",
       "<path fill=\"none\" stroke=\"black\" d=\"M212.48,-341.907C217.897,-333.105 223.683,-323.703 229.277,-314.612\"/>\r\n",
       "<polygon fill=\"black\" stroke=\"black\" points=\"232.304,-316.372 234.564,-306.021 226.342,-312.703 232.304,-316.372\"/>\r\n",
       "</g>\r\n",
       "<!-- 4 -->\r\n",
       "<g id=\"node5\" class=\"node\"><title>4</title>\r\n",
       "<path fill=\"#ea9a61\" stroke=\"black\" d=\"M237,-187C237,-187 148,-187 148,-187 142,-187 136,-181 136,-175 136,-175 136,-116 136,-116 136,-110 142,-104 148,-104 148,-104 237,-104 237,-104 243,-104 249,-110 249,-116 249,-116 249,-175 249,-175 249,-181 243,-187 237,-187\"/>\r\n",
       "<text text-anchor=\"start\" x=\"149.5\" y=\"-171.8\" font-family=\"Helvetica,sans-Serif\" font-size=\"14.00\">Aroma ≤ 6.96</text>\r\n",
       "<text text-anchor=\"start\" x=\"155\" y=\"-156.8\" font-family=\"Helvetica,sans-Serif\" font-size=\"14.00\">gini = 0.278</text>\r\n",
       "<text text-anchor=\"start\" x=\"153\" y=\"-141.8\" font-family=\"Helvetica,sans-Serif\" font-size=\"14.00\">samples = 6</text>\r\n",
       "<text text-anchor=\"start\" x=\"152\" y=\"-126.8\" font-family=\"Helvetica,sans-Serif\" font-size=\"14.00\">value = [5, 1]</text>\r\n",
       "<text text-anchor=\"start\" x=\"144\" y=\"-111.8\" font-family=\"Helvetica,sans-Serif\" font-size=\"14.00\">class = Arabica</text>\r\n",
       "</g>\r\n",
       "<!-- 3&#45;&gt;4 -->\r\n",
       "<g id=\"edge4\" class=\"edge\"><title>3&#45;&gt;4</title>\r\n",
       "<path fill=\"none\" stroke=\"black\" d=\"M236.255,-222.907C231.266,-214.195 225.941,-204.897 220.785,-195.893\"/>\r\n",
       "<polygon fill=\"black\" stroke=\"black\" points=\"223.711,-193.959 215.704,-187.021 217.636,-197.438 223.711,-193.959\"/>\r\n",
       "</g>\r\n",
       "<!-- 7 -->\r\n",
       "<g id=\"node8\" class=\"node\"><title>7</title>\r\n",
       "<path fill=\"#40a1e6\" stroke=\"black\" d=\"M374,-187C374,-187 279,-187 279,-187 273,-187 267,-181 267,-175 267,-175 267,-116 267,-116 267,-110 273,-104 279,-104 279,-104 374,-104 374,-104 380,-104 386,-110 386,-116 386,-116 386,-175 386,-175 386,-181 380,-187 374,-187\"/>\r\n",
       "<text text-anchor=\"start\" x=\"279.5\" y=\"-171.8\" font-family=\"Helvetica,sans-Serif\" font-size=\"14.00\">Acidity ≤ 7.085</text>\r\n",
       "<text text-anchor=\"start\" x=\"289\" y=\"-156.8\" font-family=\"Helvetica,sans-Serif\" font-size=\"14.00\">gini = 0.069</text>\r\n",
       "<text text-anchor=\"start\" x=\"283\" y=\"-141.8\" font-family=\"Helvetica,sans-Serif\" font-size=\"14.00\">samples = 28</text>\r\n",
       "<text text-anchor=\"start\" x=\"282\" y=\"-126.8\" font-family=\"Helvetica,sans-Serif\" font-size=\"14.00\">value = [1, 27]</text>\r\n",
       "<text text-anchor=\"start\" x=\"275\" y=\"-111.8\" font-family=\"Helvetica,sans-Serif\" font-size=\"14.00\">class = Robusta</text>\r\n",
       "</g>\r\n",
       "<!-- 3&#45;&gt;7 -->\r\n",
       "<g id=\"edge7\" class=\"edge\"><title>3&#45;&gt;7</title>\r\n",
       "<path fill=\"none\" stroke=\"black\" d=\"M282.745,-222.907C287.734,-214.195 293.059,-204.897 298.215,-195.893\"/>\r\n",
       "<polygon fill=\"black\" stroke=\"black\" points=\"301.364,-197.438 303.296,-187.021 295.289,-193.959 301.364,-197.438\"/>\r\n",
       "</g>\r\n",
       "<!-- 5 -->\r\n",
       "<g id=\"node6\" class=\"node\"><title>5</title>\r\n",
       "<path fill=\"#399de5\" stroke=\"black\" d=\"M107,-68C107,-68 12,-68 12,-68 6,-68 -7.10543e-015,-62 -7.10543e-015,-56 -7.10543e-015,-56 -7.10543e-015,-12 -7.10543e-015,-12 -7.10543e-015,-6 6,-0 12,-0 12,-0 107,-0 107,-0 113,-0 119,-6 119,-12 119,-12 119,-56 119,-56 119,-62 113,-68 107,-68\"/>\r\n",
       "<text text-anchor=\"start\" x=\"30.5\" y=\"-52.8\" font-family=\"Helvetica,sans-Serif\" font-size=\"14.00\">gini = 0.0</text>\r\n",
       "<text text-anchor=\"start\" x=\"20\" y=\"-37.8\" font-family=\"Helvetica,sans-Serif\" font-size=\"14.00\">samples = 1</text>\r\n",
       "<text text-anchor=\"start\" x=\"19\" y=\"-22.8\" font-family=\"Helvetica,sans-Serif\" font-size=\"14.00\">value = [0, 1]</text>\r\n",
       "<text text-anchor=\"start\" x=\"8\" y=\"-7.8\" font-family=\"Helvetica,sans-Serif\" font-size=\"14.00\">class = Robusta</text>\r\n",
       "</g>\r\n",
       "<!-- 4&#45;&gt;5 -->\r\n",
       "<g id=\"edge5\" class=\"edge\"><title>4&#45;&gt;5</title>\r\n",
       "<path fill=\"none\" stroke=\"black\" d=\"M142.976,-103.726C131.454,-94.2406 119.204,-84.1551 107.739,-74.7159\"/>\r\n",
       "<polygon fill=\"black\" stroke=\"black\" points=\"109.891,-71.9536 99.9461,-68.2996 105.442,-77.3577 109.891,-71.9536\"/>\r\n",
       "</g>\r\n",
       "<!-- 6 -->\r\n",
       "<g id=\"node7\" class=\"node\"><title>6</title>\r\n",
       "<path fill=\"#e58139\" stroke=\"black\" d=\"M238,-68C238,-68 149,-68 149,-68 143,-68 137,-62 137,-56 137,-56 137,-12 137,-12 137,-6 143,-0 149,-0 149,-0 238,-0 238,-0 244,-0 250,-6 250,-12 250,-12 250,-56 250,-56 250,-62 244,-68 238,-68\"/>\r\n",
       "<text text-anchor=\"start\" x=\"164.5\" y=\"-52.8\" font-family=\"Helvetica,sans-Serif\" font-size=\"14.00\">gini = 0.0</text>\r\n",
       "<text text-anchor=\"start\" x=\"154\" y=\"-37.8\" font-family=\"Helvetica,sans-Serif\" font-size=\"14.00\">samples = 5</text>\r\n",
       "<text text-anchor=\"start\" x=\"153\" y=\"-22.8\" font-family=\"Helvetica,sans-Serif\" font-size=\"14.00\">value = [5, 0]</text>\r\n",
       "<text text-anchor=\"start\" x=\"145\" y=\"-7.8\" font-family=\"Helvetica,sans-Serif\" font-size=\"14.00\">class = Arabica</text>\r\n",
       "</g>\r\n",
       "<!-- 4&#45;&gt;6 -->\r\n",
       "<g id=\"edge6\" class=\"edge\"><title>4&#45;&gt;6</title>\r\n",
       "<path fill=\"none\" stroke=\"black\" d=\"M192.872,-103.726C192.947,-95.5175 193.026,-86.8595 193.102,-78.56\"/>\r\n",
       "<polygon fill=\"black\" stroke=\"black\" points=\"196.604,-78.3312 193.196,-68.2996 189.605,-78.2672 196.604,-78.3312\"/>\r\n",
       "</g>\r\n",
       "<!-- 8 -->\r\n",
       "<g id=\"node9\" class=\"node\"><title>8</title>\r\n",
       "<path fill=\"#e58139\" stroke=\"black\" d=\"M370,-68C370,-68 281,-68 281,-68 275,-68 269,-62 269,-56 269,-56 269,-12 269,-12 269,-6 275,-0 281,-0 281,-0 370,-0 370,-0 376,-0 382,-6 382,-12 382,-12 382,-56 382,-56 382,-62 376,-68 370,-68\"/>\r\n",
       "<text text-anchor=\"start\" x=\"296.5\" y=\"-52.8\" font-family=\"Helvetica,sans-Serif\" font-size=\"14.00\">gini = 0.0</text>\r\n",
       "<text text-anchor=\"start\" x=\"286\" y=\"-37.8\" font-family=\"Helvetica,sans-Serif\" font-size=\"14.00\">samples = 1</text>\r\n",
       "<text text-anchor=\"start\" x=\"285\" y=\"-22.8\" font-family=\"Helvetica,sans-Serif\" font-size=\"14.00\">value = [1, 0]</text>\r\n",
       "<text text-anchor=\"start\" x=\"277\" y=\"-7.8\" font-family=\"Helvetica,sans-Serif\" font-size=\"14.00\">class = Arabica</text>\r\n",
       "</g>\r\n",
       "<!-- 7&#45;&gt;8 -->\r\n",
       "<g id=\"edge8\" class=\"edge\"><title>7&#45;&gt;8</title>\r\n",
       "<path fill=\"none\" stroke=\"black\" d=\"M326.128,-103.726C326.053,-95.5175 325.974,-86.8595 325.898,-78.56\"/>\r\n",
       "<polygon fill=\"black\" stroke=\"black\" points=\"329.395,-78.2672 325.804,-68.2996 322.396,-78.3312 329.395,-78.2672\"/>\r\n",
       "</g>\r\n",
       "<!-- 9 -->\r\n",
       "<g id=\"node10\" class=\"node\"><title>9</title>\r\n",
       "<path fill=\"#399de5\" stroke=\"black\" d=\"M507,-68C507,-68 412,-68 412,-68 406,-68 400,-62 400,-56 400,-56 400,-12 400,-12 400,-6 406,-0 412,-0 412,-0 507,-0 507,-0 513,-0 519,-6 519,-12 519,-12 519,-56 519,-56 519,-62 513,-68 507,-68\"/>\r\n",
       "<text text-anchor=\"start\" x=\"430.5\" y=\"-52.8\" font-family=\"Helvetica,sans-Serif\" font-size=\"14.00\">gini = 0.0</text>\r\n",
       "<text text-anchor=\"start\" x=\"416\" y=\"-37.8\" font-family=\"Helvetica,sans-Serif\" font-size=\"14.00\">samples = 27</text>\r\n",
       "<text text-anchor=\"start\" x=\"415\" y=\"-22.8\" font-family=\"Helvetica,sans-Serif\" font-size=\"14.00\">value = [0, 27]</text>\r\n",
       "<text text-anchor=\"start\" x=\"408\" y=\"-7.8\" font-family=\"Helvetica,sans-Serif\" font-size=\"14.00\">class = Robusta</text>\r\n",
       "</g>\r\n",
       "<!-- 7&#45;&gt;9 -->\r\n",
       "<g id=\"edge9\" class=\"edge\"><title>7&#45;&gt;9</title>\r\n",
       "<path fill=\"none\" stroke=\"black\" d=\"M376.024,-103.726C387.546,-94.2406 399.796,-84.1551 411.261,-74.7159\"/>\r\n",
       "<polygon fill=\"black\" stroke=\"black\" points=\"413.558,-77.3577 419.054,-68.2996 409.109,-71.9536 413.558,-77.3577\"/>\r\n",
       "</g>\r\n",
       "</g>\r\n",
       "</svg>\r\n"
      ],
      "text/plain": [
       "<graphviz.files.Source at 0x20c09a89848>"
      ]
     },
     "execution_count": 23,
     "metadata": {},
     "output_type": "execute_result"
    }
   ],
   "source": [
    "# Create a decision tree graph\n",
    "import graphviz \n",
    "dot_data = tree.export_graphviz(\n",
    "    clf, out_file=None, \n",
    "    feature_names=df_quality.iloc[:, 5:16].columns,  \n",
    "    class_names=df_quality.Species.unique(),  \n",
    "    filled=True, rounded=True,  \n",
    "    special_characters=True)  \n",
    "\n",
    "import pydotplus\n",
    "graph = pydotplus.graph_from_dot_data(dot_data)\n",
    "graph.write_png('coffee_quality_species.png')\n",
    "\n",
    "graph = graphviz.Source(dot_data)  \n",
    "graph "
   ]
  },
  {
   "cell_type": "code",
   "execution_count": 24,
   "metadata": {
    "ExecuteTime": {
     "end_time": "2021-02-15T12:54:37.743222Z",
     "start_time": "2021-02-15T12:54:37.721219Z"
    }
   },
   "outputs": [
    {
     "data": {
      "text/html": [
       "<div>\n",
       "<style scoped>\n",
       "    .dataframe tbody tr th:only-of-type {\n",
       "        vertical-align: middle;\n",
       "    }\n",
       "\n",
       "    .dataframe tbody tr th {\n",
       "        vertical-align: top;\n",
       "    }\n",
       "\n",
       "    .dataframe thead th {\n",
       "        text-align: right;\n",
       "    }\n",
       "</style>\n",
       "<table border=\"1\" class=\"dataframe\">\n",
       "  <thead>\n",
       "    <tr style=\"text-align: right;\">\n",
       "      <th></th>\n",
       "      <th>Prediction</th>\n",
       "      <th>Actual</th>\n",
       "    </tr>\n",
       "  </thead>\n",
       "  <tbody>\n",
       "    <tr>\n",
       "      <th>218</th>\n",
       "      <td>Arabica</td>\n",
       "      <td>Arabica</td>\n",
       "    </tr>\n",
       "    <tr>\n",
       "      <th>219</th>\n",
       "      <td>Arabica</td>\n",
       "      <td>Arabica</td>\n",
       "    </tr>\n",
       "    <tr>\n",
       "      <th>220</th>\n",
       "      <td>Arabica</td>\n",
       "      <td>Arabica</td>\n",
       "    </tr>\n",
       "    <tr>\n",
       "      <th>221</th>\n",
       "      <td>Arabica</td>\n",
       "      <td>Arabica</td>\n",
       "    </tr>\n",
       "    <tr>\n",
       "      <th>222</th>\n",
       "      <td>Arabica</td>\n",
       "      <td>Arabica</td>\n",
       "    </tr>\n",
       "    <tr>\n",
       "      <th>223</th>\n",
       "      <td>Arabica</td>\n",
       "      <td>Arabica</td>\n",
       "    </tr>\n",
       "    <tr>\n",
       "      <th>224</th>\n",
       "      <td>Arabica</td>\n",
       "      <td>Arabica</td>\n",
       "    </tr>\n",
       "    <tr>\n",
       "      <th>225</th>\n",
       "      <td>Arabica</td>\n",
       "      <td>Arabica</td>\n",
       "    </tr>\n",
       "    <tr>\n",
       "      <th>226</th>\n",
       "      <td>Arabica</td>\n",
       "      <td>Arabica</td>\n",
       "    </tr>\n",
       "    <tr>\n",
       "      <th>227</th>\n",
       "      <td>Arabica</td>\n",
       "      <td>Arabica</td>\n",
       "    </tr>\n",
       "    <tr>\n",
       "      <th>228</th>\n",
       "      <td>Arabica</td>\n",
       "      <td>Robusta</td>\n",
       "    </tr>\n",
       "    <tr>\n",
       "      <th>229</th>\n",
       "      <td>Arabica</td>\n",
       "      <td>Robusta</td>\n",
       "    </tr>\n",
       "    <tr>\n",
       "      <th>230</th>\n",
       "      <td>Arabica</td>\n",
       "      <td>Arabica</td>\n",
       "    </tr>\n",
       "    <tr>\n",
       "      <th>231</th>\n",
       "      <td>Arabica</td>\n",
       "      <td>Arabica</td>\n",
       "    </tr>\n",
       "    <tr>\n",
       "      <th>232</th>\n",
       "      <td>Arabica</td>\n",
       "      <td>Arabica</td>\n",
       "    </tr>\n",
       "    <tr>\n",
       "      <th>233</th>\n",
       "      <td>Arabica</td>\n",
       "      <td>Arabica</td>\n",
       "    </tr>\n",
       "    <tr>\n",
       "      <th>234</th>\n",
       "      <td>Arabica</td>\n",
       "      <td>Arabica</td>\n",
       "    </tr>\n",
       "    <tr>\n",
       "      <th>235</th>\n",
       "      <td>Arabica</td>\n",
       "      <td>Arabica</td>\n",
       "    </tr>\n",
       "    <tr>\n",
       "      <th>236</th>\n",
       "      <td>Arabica</td>\n",
       "      <td>Arabica</td>\n",
       "    </tr>\n",
       "    <tr>\n",
       "      <th>237</th>\n",
       "      <td>Arabica</td>\n",
       "      <td>Arabica</td>\n",
       "    </tr>\n",
       "    <tr>\n",
       "      <th>238</th>\n",
       "      <td>Arabica</td>\n",
       "      <td>Arabica</td>\n",
       "    </tr>\n",
       "    <tr>\n",
       "      <th>239</th>\n",
       "      <td>Arabica</td>\n",
       "      <td>Arabica</td>\n",
       "    </tr>\n",
       "    <tr>\n",
       "      <th>240</th>\n",
       "      <td>Arabica</td>\n",
       "      <td>Arabica</td>\n",
       "    </tr>\n",
       "    <tr>\n",
       "      <th>241</th>\n",
       "      <td>Arabica</td>\n",
       "      <td>Arabica</td>\n",
       "    </tr>\n",
       "    <tr>\n",
       "      <th>242</th>\n",
       "      <td>Arabica</td>\n",
       "      <td>Arabica</td>\n",
       "    </tr>\n",
       "    <tr>\n",
       "      <th>243</th>\n",
       "      <td>Arabica</td>\n",
       "      <td>Arabica</td>\n",
       "    </tr>\n",
       "    <tr>\n",
       "      <th>244</th>\n",
       "      <td>Arabica</td>\n",
       "      <td>Arabica</td>\n",
       "    </tr>\n",
       "    <tr>\n",
       "      <th>245</th>\n",
       "      <td>Arabica</td>\n",
       "      <td>Arabica</td>\n",
       "    </tr>\n",
       "    <tr>\n",
       "      <th>246</th>\n",
       "      <td>Arabica</td>\n",
       "      <td>Arabica</td>\n",
       "    </tr>\n",
       "    <tr>\n",
       "      <th>247</th>\n",
       "      <td>Arabica</td>\n",
       "      <td>Arabica</td>\n",
       "    </tr>\n",
       "    <tr>\n",
       "      <th>248</th>\n",
       "      <td>Arabica</td>\n",
       "      <td>Arabica</td>\n",
       "    </tr>\n",
       "    <tr>\n",
       "      <th>249</th>\n",
       "      <td>Arabica</td>\n",
       "      <td>Arabica</td>\n",
       "    </tr>\n",
       "    <tr>\n",
       "      <th>250</th>\n",
       "      <td>Arabica</td>\n",
       "      <td>Arabica</td>\n",
       "    </tr>\n",
       "    <tr>\n",
       "      <th>251</th>\n",
       "      <td>Arabica</td>\n",
       "      <td>Arabica</td>\n",
       "    </tr>\n",
       "    <tr>\n",
       "      <th>252</th>\n",
       "      <td>Arabica</td>\n",
       "      <td>Arabica</td>\n",
       "    </tr>\n",
       "    <tr>\n",
       "      <th>253</th>\n",
       "      <td>Arabica</td>\n",
       "      <td>Arabica</td>\n",
       "    </tr>\n",
       "    <tr>\n",
       "      <th>254</th>\n",
       "      <td>Arabica</td>\n",
       "      <td>Arabica</td>\n",
       "    </tr>\n",
       "    <tr>\n",
       "      <th>255</th>\n",
       "      <td>Arabica</td>\n",
       "      <td>Arabica</td>\n",
       "    </tr>\n",
       "    <tr>\n",
       "      <th>256</th>\n",
       "      <td>Arabica</td>\n",
       "      <td>Arabica</td>\n",
       "    </tr>\n",
       "    <tr>\n",
       "      <th>257</th>\n",
       "      <td>Arabica</td>\n",
       "      <td>Arabica</td>\n",
       "    </tr>\n",
       "    <tr>\n",
       "      <th>258</th>\n",
       "      <td>Arabica</td>\n",
       "      <td>Arabica</td>\n",
       "    </tr>\n",
       "    <tr>\n",
       "      <th>259</th>\n",
       "      <td>Arabica</td>\n",
       "      <td>Arabica</td>\n",
       "    </tr>\n",
       "    <tr>\n",
       "      <th>260</th>\n",
       "      <td>Arabica</td>\n",
       "      <td>Arabica</td>\n",
       "    </tr>\n",
       "    <tr>\n",
       "      <th>261</th>\n",
       "      <td>Arabica</td>\n",
       "      <td>Arabica</td>\n",
       "    </tr>\n",
       "    <tr>\n",
       "      <th>262</th>\n",
       "      <td>Arabica</td>\n",
       "      <td>Arabica</td>\n",
       "    </tr>\n",
       "    <tr>\n",
       "      <th>263</th>\n",
       "      <td>Arabica</td>\n",
       "      <td>Arabica</td>\n",
       "    </tr>\n",
       "    <tr>\n",
       "      <th>264</th>\n",
       "      <td>Arabica</td>\n",
       "      <td>Arabica</td>\n",
       "    </tr>\n",
       "    <tr>\n",
       "      <th>265</th>\n",
       "      <td>Arabica</td>\n",
       "      <td>Arabica</td>\n",
       "    </tr>\n",
       "    <tr>\n",
       "      <th>266</th>\n",
       "      <td>Arabica</td>\n",
       "      <td>Arabica</td>\n",
       "    </tr>\n",
       "    <tr>\n",
       "      <th>267</th>\n",
       "      <td>Arabica</td>\n",
       "      <td>Arabica</td>\n",
       "    </tr>\n",
       "  </tbody>\n",
       "</table>\n",
       "</div>"
      ],
      "text/plain": [
       "    Prediction   Actual\n",
       "218    Arabica  Arabica\n",
       "219    Arabica  Arabica\n",
       "220    Arabica  Arabica\n",
       "221    Arabica  Arabica\n",
       "222    Arabica  Arabica\n",
       "223    Arabica  Arabica\n",
       "224    Arabica  Arabica\n",
       "225    Arabica  Arabica\n",
       "226    Arabica  Arabica\n",
       "227    Arabica  Arabica\n",
       "228    Arabica  Robusta\n",
       "229    Arabica  Robusta\n",
       "230    Arabica  Arabica\n",
       "231    Arabica  Arabica\n",
       "232    Arabica  Arabica\n",
       "233    Arabica  Arabica\n",
       "234    Arabica  Arabica\n",
       "235    Arabica  Arabica\n",
       "236    Arabica  Arabica\n",
       "237    Arabica  Arabica\n",
       "238    Arabica  Arabica\n",
       "239    Arabica  Arabica\n",
       "240    Arabica  Arabica\n",
       "241    Arabica  Arabica\n",
       "242    Arabica  Arabica\n",
       "243    Arabica  Arabica\n",
       "244    Arabica  Arabica\n",
       "245    Arabica  Arabica\n",
       "246    Arabica  Arabica\n",
       "247    Arabica  Arabica\n",
       "248    Arabica  Arabica\n",
       "249    Arabica  Arabica\n",
       "250    Arabica  Arabica\n",
       "251    Arabica  Arabica\n",
       "252    Arabica  Arabica\n",
       "253    Arabica  Arabica\n",
       "254    Arabica  Arabica\n",
       "255    Arabica  Arabica\n",
       "256    Arabica  Arabica\n",
       "257    Arabica  Arabica\n",
       "258    Arabica  Arabica\n",
       "259    Arabica  Arabica\n",
       "260    Arabica  Arabica\n",
       "261    Arabica  Arabica\n",
       "262    Arabica  Arabica\n",
       "263    Arabica  Arabica\n",
       "264    Arabica  Arabica\n",
       "265    Arabica  Arabica\n",
       "266    Arabica  Arabica\n",
       "267    Arabica  Arabica"
      ]
     },
     "execution_count": 24,
     "metadata": {},
     "output_type": "execute_result"
    }
   ],
   "source": [
    "predictions = clf.predict(X_test_scaled)\n",
    "\n",
    "df_predictions = pd.DataFrame({\"Prediction\": predictions, \"Actual\": y_test}).reset_index(drop=True)\n",
    "df_predictions.tail(50)"
   ]
  },
  {
   "cell_type": "code",
   "execution_count": null,
   "metadata": {},
   "outputs": [],
   "source": []
  }
 ],
 "metadata": {
  "hide_input": false,
  "kernelspec": {
   "display_name": "Python 3",
   "language": "python",
   "name": "python3"
  },
  "language_info": {
   "codemirror_mode": {
    "name": "ipython",
    "version": 3
   },
   "file_extension": ".py",
   "mimetype": "text/x-python",
   "name": "python",
   "nbconvert_exporter": "python",
   "pygments_lexer": "ipython3",
   "version": "3.7.9"
  },
  "toc": {
   "base_numbering": 1,
   "nav_menu": {},
   "number_sections": true,
   "sideBar": true,
   "skip_h1_title": false,
   "title_cell": "Table of Contents",
   "title_sidebar": "Contents",
   "toc_cell": false,
   "toc_position": {},
   "toc_section_display": true,
   "toc_window_display": false
  },
  "varInspector": {
   "cols": {
    "lenName": 16,
    "lenType": 16,
    "lenVar": 40
   },
   "kernels_config": {
    "python": {
     "delete_cmd_postfix": "",
     "delete_cmd_prefix": "del ",
     "library": "var_list.py",
     "varRefreshCmd": "print(var_dic_list())"
    },
    "r": {
     "delete_cmd_postfix": ") ",
     "delete_cmd_prefix": "rm(",
     "library": "var_list.r",
     "varRefreshCmd": "cat(var_dic_list()) "
    }
   },
   "types_to_exclude": [
    "module",
    "function",
    "builtin_function_or_method",
    "instance",
    "_Feature"
   ],
   "window_display": false
  }
 },
 "nbformat": 4,
 "nbformat_minor": 4
}
