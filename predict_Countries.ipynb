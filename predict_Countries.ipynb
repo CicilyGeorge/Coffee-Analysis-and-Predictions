{
 "cells": [
  {
   "cell_type": "markdown",
   "metadata": {},
   "source": [
    "### Notes: \n",
    "* Check for Normal Distribution -  StandardScaler\n",
    "* Outliers -choose SVC, Decision Tree or Random Forest\n",
    "* Correlation between features - remove flavor \n",
    "* Correlation between any feature and labels\n",
    "* Imbalanced Dataset - SMOTE"
   ]
  },
  {
   "cell_type": "code",
   "execution_count": 1,
   "metadata": {
    "ExecuteTime": {
     "end_time": "2021-02-21T07:41:34.864545Z",
     "start_time": "2021-02-21T07:41:33.292921Z"
    }
   },
   "outputs": [],
   "source": [
    "import pandas as pd\n",
    "import numpy as np\n",
    "import matplotlib.pyplot as plt\n",
    "import seaborn as sns\n",
    "%matplotlib inline"
   ]
  },
  {
   "cell_type": "markdown",
   "metadata": {},
   "source": [
    "## Data Cleaning"
   ]
  },
  {
   "cell_type": "code",
   "execution_count": 2,
   "metadata": {
    "ExecuteTime": {
     "end_time": "2021-02-21T07:41:34.944555Z",
     "start_time": "2021-02-21T07:41:34.867556Z"
    }
   },
   "outputs": [
    {
     "data": {
      "text/html": [
       "<div>\n",
       "<style scoped>\n",
       "    .dataframe tbody tr th:only-of-type {\n",
       "        vertical-align: middle;\n",
       "    }\n",
       "\n",
       "    .dataframe tbody tr th {\n",
       "        vertical-align: top;\n",
       "    }\n",
       "\n",
       "    .dataframe thead th {\n",
       "        text-align: right;\n",
       "    }\n",
       "</style>\n",
       "<table border=\"1\" class=\"dataframe\">\n",
       "  <thead>\n",
       "    <tr style=\"text-align: right;\">\n",
       "      <th></th>\n",
       "      <th>Unnamed: 0</th>\n",
       "      <th>Species</th>\n",
       "      <th>Owner</th>\n",
       "      <th>Country.of.Origin</th>\n",
       "      <th>Farm.Name</th>\n",
       "      <th>Lot.Number</th>\n",
       "      <th>Mill</th>\n",
       "      <th>ICO.Number</th>\n",
       "      <th>Company</th>\n",
       "      <th>Altitude</th>\n",
       "      <th>...</th>\n",
       "      <th>Color</th>\n",
       "      <th>Category.Two.Defects</th>\n",
       "      <th>Expiration</th>\n",
       "      <th>Certification.Body</th>\n",
       "      <th>Certification.Address</th>\n",
       "      <th>Certification.Contact</th>\n",
       "      <th>unit_of_measurement</th>\n",
       "      <th>altitude_low_meters</th>\n",
       "      <th>altitude_high_meters</th>\n",
       "      <th>altitude_mean_meters</th>\n",
       "    </tr>\n",
       "  </thead>\n",
       "  <tbody>\n",
       "    <tr>\n",
       "      <th>0</th>\n",
       "      <td>0</td>\n",
       "      <td>Arabica</td>\n",
       "      <td>metad plc</td>\n",
       "      <td>Ethiopia</td>\n",
       "      <td>metad plc</td>\n",
       "      <td>NaN</td>\n",
       "      <td>metad plc</td>\n",
       "      <td>2014/2015</td>\n",
       "      <td>metad agricultural developmet plc</td>\n",
       "      <td>1950-2200</td>\n",
       "      <td>...</td>\n",
       "      <td>Green</td>\n",
       "      <td>0</td>\n",
       "      <td>April 3rd, 2016</td>\n",
       "      <td>METAD Agricultural Development plc</td>\n",
       "      <td>309fcf77415a3661ae83e027f7e5f05dad786e44</td>\n",
       "      <td>19fef5a731de2db57d16da10287413f5f99bc2dd</td>\n",
       "      <td>m</td>\n",
       "      <td>1950.0</td>\n",
       "      <td>2200.0</td>\n",
       "      <td>2075.0</td>\n",
       "    </tr>\n",
       "    <tr>\n",
       "      <th>1</th>\n",
       "      <td>1</td>\n",
       "      <td>Arabica</td>\n",
       "      <td>metad plc</td>\n",
       "      <td>Ethiopia</td>\n",
       "      <td>metad plc</td>\n",
       "      <td>NaN</td>\n",
       "      <td>metad plc</td>\n",
       "      <td>2014/2015</td>\n",
       "      <td>metad agricultural developmet plc</td>\n",
       "      <td>1950-2200</td>\n",
       "      <td>...</td>\n",
       "      <td>Green</td>\n",
       "      <td>1</td>\n",
       "      <td>April 3rd, 2016</td>\n",
       "      <td>METAD Agricultural Development plc</td>\n",
       "      <td>309fcf77415a3661ae83e027f7e5f05dad786e44</td>\n",
       "      <td>19fef5a731de2db57d16da10287413f5f99bc2dd</td>\n",
       "      <td>m</td>\n",
       "      <td>1950.0</td>\n",
       "      <td>2200.0</td>\n",
       "      <td>2075.0</td>\n",
       "    </tr>\n",
       "    <tr>\n",
       "      <th>2</th>\n",
       "      <td>2</td>\n",
       "      <td>Arabica</td>\n",
       "      <td>grounds for health admin</td>\n",
       "      <td>Guatemala</td>\n",
       "      <td>san marcos barrancas \"san cristobal cuch</td>\n",
       "      <td>NaN</td>\n",
       "      <td>NaN</td>\n",
       "      <td>NaN</td>\n",
       "      <td>NaN</td>\n",
       "      <td>1600 - 1800 m</td>\n",
       "      <td>...</td>\n",
       "      <td>NaN</td>\n",
       "      <td>0</td>\n",
       "      <td>May 31st, 2011</td>\n",
       "      <td>Specialty Coffee Association</td>\n",
       "      <td>36d0d00a3724338ba7937c52a378d085f2172daa</td>\n",
       "      <td>0878a7d4b9d35ddbf0fe2ce69a2062cceb45a660</td>\n",
       "      <td>m</td>\n",
       "      <td>1600.0</td>\n",
       "      <td>1800.0</td>\n",
       "      <td>1700.0</td>\n",
       "    </tr>\n",
       "    <tr>\n",
       "      <th>3</th>\n",
       "      <td>3</td>\n",
       "      <td>Arabica</td>\n",
       "      <td>yidnekachew dabessa</td>\n",
       "      <td>Ethiopia</td>\n",
       "      <td>yidnekachew dabessa coffee plantation</td>\n",
       "      <td>NaN</td>\n",
       "      <td>wolensu</td>\n",
       "      <td>NaN</td>\n",
       "      <td>yidnekachew debessa coffee plantation</td>\n",
       "      <td>1800-2200</td>\n",
       "      <td>...</td>\n",
       "      <td>Green</td>\n",
       "      <td>2</td>\n",
       "      <td>March 25th, 2016</td>\n",
       "      <td>METAD Agricultural Development plc</td>\n",
       "      <td>309fcf77415a3661ae83e027f7e5f05dad786e44</td>\n",
       "      <td>19fef5a731de2db57d16da10287413f5f99bc2dd</td>\n",
       "      <td>m</td>\n",
       "      <td>1800.0</td>\n",
       "      <td>2200.0</td>\n",
       "      <td>2000.0</td>\n",
       "    </tr>\n",
       "    <tr>\n",
       "      <th>4</th>\n",
       "      <td>4</td>\n",
       "      <td>Arabica</td>\n",
       "      <td>metad plc</td>\n",
       "      <td>Ethiopia</td>\n",
       "      <td>metad plc</td>\n",
       "      <td>NaN</td>\n",
       "      <td>metad plc</td>\n",
       "      <td>2014/2015</td>\n",
       "      <td>metad agricultural developmet plc</td>\n",
       "      <td>1950-2200</td>\n",
       "      <td>...</td>\n",
       "      <td>Green</td>\n",
       "      <td>2</td>\n",
       "      <td>April 3rd, 2016</td>\n",
       "      <td>METAD Agricultural Development plc</td>\n",
       "      <td>309fcf77415a3661ae83e027f7e5f05dad786e44</td>\n",
       "      <td>19fef5a731de2db57d16da10287413f5f99bc2dd</td>\n",
       "      <td>m</td>\n",
       "      <td>1950.0</td>\n",
       "      <td>2200.0</td>\n",
       "      <td>2075.0</td>\n",
       "    </tr>\n",
       "  </tbody>\n",
       "</table>\n",
       "<p>5 rows × 44 columns</p>\n",
       "</div>"
      ],
      "text/plain": [
       "   Unnamed: 0  Species                     Owner Country.of.Origin  \\\n",
       "0           0  Arabica                 metad plc          Ethiopia   \n",
       "1           1  Arabica                 metad plc          Ethiopia   \n",
       "2           2  Arabica  grounds for health admin         Guatemala   \n",
       "3           3  Arabica       yidnekachew dabessa          Ethiopia   \n",
       "4           4  Arabica                 metad plc          Ethiopia   \n",
       "\n",
       "                                  Farm.Name Lot.Number       Mill ICO.Number  \\\n",
       "0                                 metad plc        NaN  metad plc  2014/2015   \n",
       "1                                 metad plc        NaN  metad plc  2014/2015   \n",
       "2  san marcos barrancas \"san cristobal cuch        NaN        NaN        NaN   \n",
       "3     yidnekachew dabessa coffee plantation        NaN    wolensu        NaN   \n",
       "4                                 metad plc        NaN  metad plc  2014/2015   \n",
       "\n",
       "                                 Company       Altitude  ...  Color  \\\n",
       "0      metad agricultural developmet plc      1950-2200  ...  Green   \n",
       "1      metad agricultural developmet plc      1950-2200  ...  Green   \n",
       "2                                    NaN  1600 - 1800 m  ...    NaN   \n",
       "3  yidnekachew debessa coffee plantation      1800-2200  ...  Green   \n",
       "4      metad agricultural developmet plc      1950-2200  ...  Green   \n",
       "\n",
       "  Category.Two.Defects        Expiration                  Certification.Body  \\\n",
       "0                    0   April 3rd, 2016  METAD Agricultural Development plc   \n",
       "1                    1   April 3rd, 2016  METAD Agricultural Development plc   \n",
       "2                    0    May 31st, 2011        Specialty Coffee Association   \n",
       "3                    2  March 25th, 2016  METAD Agricultural Development plc   \n",
       "4                    2   April 3rd, 2016  METAD Agricultural Development plc   \n",
       "\n",
       "                      Certification.Address  \\\n",
       "0  309fcf77415a3661ae83e027f7e5f05dad786e44   \n",
       "1  309fcf77415a3661ae83e027f7e5f05dad786e44   \n",
       "2  36d0d00a3724338ba7937c52a378d085f2172daa   \n",
       "3  309fcf77415a3661ae83e027f7e5f05dad786e44   \n",
       "4  309fcf77415a3661ae83e027f7e5f05dad786e44   \n",
       "\n",
       "                      Certification.Contact unit_of_measurement  \\\n",
       "0  19fef5a731de2db57d16da10287413f5f99bc2dd                   m   \n",
       "1  19fef5a731de2db57d16da10287413f5f99bc2dd                   m   \n",
       "2  0878a7d4b9d35ddbf0fe2ce69a2062cceb45a660                   m   \n",
       "3  19fef5a731de2db57d16da10287413f5f99bc2dd                   m   \n",
       "4  19fef5a731de2db57d16da10287413f5f99bc2dd                   m   \n",
       "\n",
       "  altitude_low_meters altitude_high_meters altitude_mean_meters  \n",
       "0              1950.0               2200.0               2075.0  \n",
       "1              1950.0               2200.0               2075.0  \n",
       "2              1600.0               1800.0               1700.0  \n",
       "3              1800.0               2200.0               2000.0  \n",
       "4              1950.0               2200.0               2075.0  \n",
       "\n",
       "[5 rows x 44 columns]"
      ]
     },
     "execution_count": 2,
     "metadata": {},
     "output_type": "execute_result"
    }
   ],
   "source": [
    "# Reading merged data Arabica 98% and Robusta 2% of records\n",
    "df_quality = pd.read_csv(\"data/merged_data_cleaned.csv\")\n",
    "df_quality.head()"
   ]
  },
  {
   "cell_type": "code",
   "execution_count": 3,
   "metadata": {
    "ExecuteTime": {
     "end_time": "2021-02-21T07:41:34.976555Z",
     "start_time": "2021-02-21T07:41:34.946556Z"
    }
   },
   "outputs": [],
   "source": [
    "################### Quality Measures - Features ####################\n",
    "# Aroma\n",
    "# Flavor\n",
    "# Aftertaste\n",
    "# Acidity\n",
    "# Body\n",
    "# Balance\n",
    "# Uniformity\n",
    "# Cup Cleanliness\n",
    "# Sweetness\n",
    "# Moisture\n",
    "# Defects\n",
    "################### Bean Metadata - Labels ####################\n",
    "# Species (arabica / robusta)\n",
    "# Country of Origin\n",
    "\n",
    "df_quality = df_quality[['Country.of.Origin', 'Species', 'Aroma', 'Flavor', 'Aftertaste', 'Acidity', \n",
    "                         'Body', 'Balance', 'Uniformity', 'Clean.Cup', 'Sweetness',\n",
    "                         'Moisture', 'Category.One.Defects', 'Category.Two.Defects']]"
   ]
  },
  {
   "cell_type": "code",
   "execution_count": 4,
   "metadata": {
    "ExecuteTime": {
     "end_time": "2021-02-21T07:41:35.093620Z",
     "start_time": "2021-02-21T07:41:34.978557Z"
    }
   },
   "outputs": [
    {
     "data": {
      "text/plain": [
       "Country.of.Origin       1\n",
       "Species                 0\n",
       "Aroma                   0\n",
       "Flavor                  0\n",
       "Aftertaste              0\n",
       "Acidity                 0\n",
       "Body                    0\n",
       "Balance                 0\n",
       "Uniformity              0\n",
       "Clean.Cup               0\n",
       "Sweetness               0\n",
       "Moisture                0\n",
       "Category.One.Defects    0\n",
       "Category.Two.Defects    0\n",
       "dtype: int64"
      ]
     },
     "execution_count": 4,
     "metadata": {},
     "output_type": "execute_result"
    }
   ],
   "source": [
    "# check for null values in data\n",
    "df_quality.isnull().sum()"
   ]
  },
  {
   "cell_type": "code",
   "execution_count": 5,
   "metadata": {
    "ExecuteTime": {
     "end_time": "2021-02-21T07:41:35.205515Z",
     "start_time": "2021-02-21T07:41:35.095611Z"
    }
   },
   "outputs": [
    {
     "data": {
      "text/plain": [
       "0"
      ]
     },
     "execution_count": 5,
     "metadata": {},
     "output_type": "execute_result"
    }
   ],
   "source": [
    "# From Data, it was evident that the only missing country was Columbia \n",
    "# because the Owner \"racafe & cia s.c.a\" has records in Columbia only \n",
    "# and In.Country.Partner column value \"AlmacafÃ©\" is only for Columbia and United States\n",
    "\n",
    "df_quality['Country.of.Origin'] = df_quality['Country.of.Origin'].fillna('Colombia')\n",
    "# Checking again for null values in 'Country.of.Origin' column\n",
    "df_quality['Country.of.Origin'].isnull().sum()"
   ]
  },
  {
   "cell_type": "markdown",
   "metadata": {},
   "source": [
    "Data is not fully normaly distributed. There is skewness. Algorithms will perform better with a normalized or scaled dataset."
   ]
  },
  {
   "cell_type": "markdown",
   "metadata": {},
   "source": [
    "There are outliers in data, so better to select Models which are insensitive to outliers like SVC, Decision Tree, and Ensembling Techniques"
   ]
  },
  {
   "cell_type": "markdown",
   "metadata": {},
   "source": [
    "### Dummy Encoding Species to add it to feature columns"
   ]
  },
  {
   "cell_type": "code",
   "execution_count": 6,
   "metadata": {
    "ExecuteTime": {
     "end_time": "2021-02-21T07:41:35.348311Z",
     "start_time": "2021-02-21T07:41:35.207509Z"
    }
   },
   "outputs": [
    {
     "data": {
      "text/html": [
       "<div>\n",
       "<style scoped>\n",
       "    .dataframe tbody tr th:only-of-type {\n",
       "        vertical-align: middle;\n",
       "    }\n",
       "\n",
       "    .dataframe tbody tr th {\n",
       "        vertical-align: top;\n",
       "    }\n",
       "\n",
       "    .dataframe thead th {\n",
       "        text-align: right;\n",
       "    }\n",
       "</style>\n",
       "<table border=\"1\" class=\"dataframe\">\n",
       "  <thead>\n",
       "    <tr style=\"text-align: right;\">\n",
       "      <th></th>\n",
       "      <th>Country.of.Origin</th>\n",
       "      <th>Species</th>\n",
       "      <th>Aroma</th>\n",
       "      <th>Flavor</th>\n",
       "      <th>Aftertaste</th>\n",
       "      <th>Acidity</th>\n",
       "      <th>Body</th>\n",
       "      <th>Balance</th>\n",
       "      <th>Uniformity</th>\n",
       "      <th>Clean.Cup</th>\n",
       "      <th>Sweetness</th>\n",
       "      <th>Moisture</th>\n",
       "      <th>Category.One.Defects</th>\n",
       "      <th>Category.Two.Defects</th>\n",
       "    </tr>\n",
       "  </thead>\n",
       "  <tbody>\n",
       "    <tr>\n",
       "      <th>0</th>\n",
       "      <td>Ethiopia</td>\n",
       "      <td>0</td>\n",
       "      <td>8.67</td>\n",
       "      <td>8.83</td>\n",
       "      <td>8.67</td>\n",
       "      <td>8.75</td>\n",
       "      <td>8.50</td>\n",
       "      <td>8.42</td>\n",
       "      <td>10.0</td>\n",
       "      <td>10.0</td>\n",
       "      <td>10.0</td>\n",
       "      <td>0.12</td>\n",
       "      <td>0</td>\n",
       "      <td>0</td>\n",
       "    </tr>\n",
       "    <tr>\n",
       "      <th>1</th>\n",
       "      <td>Ethiopia</td>\n",
       "      <td>0</td>\n",
       "      <td>8.75</td>\n",
       "      <td>8.67</td>\n",
       "      <td>8.50</td>\n",
       "      <td>8.58</td>\n",
       "      <td>8.42</td>\n",
       "      <td>8.42</td>\n",
       "      <td>10.0</td>\n",
       "      <td>10.0</td>\n",
       "      <td>10.0</td>\n",
       "      <td>0.12</td>\n",
       "      <td>0</td>\n",
       "      <td>1</td>\n",
       "    </tr>\n",
       "    <tr>\n",
       "      <th>2</th>\n",
       "      <td>Guatemala</td>\n",
       "      <td>0</td>\n",
       "      <td>8.42</td>\n",
       "      <td>8.50</td>\n",
       "      <td>8.42</td>\n",
       "      <td>8.42</td>\n",
       "      <td>8.33</td>\n",
       "      <td>8.42</td>\n",
       "      <td>10.0</td>\n",
       "      <td>10.0</td>\n",
       "      <td>10.0</td>\n",
       "      <td>0.00</td>\n",
       "      <td>0</td>\n",
       "      <td>0</td>\n",
       "    </tr>\n",
       "    <tr>\n",
       "      <th>3</th>\n",
       "      <td>Ethiopia</td>\n",
       "      <td>0</td>\n",
       "      <td>8.17</td>\n",
       "      <td>8.58</td>\n",
       "      <td>8.42</td>\n",
       "      <td>8.42</td>\n",
       "      <td>8.50</td>\n",
       "      <td>8.25</td>\n",
       "      <td>10.0</td>\n",
       "      <td>10.0</td>\n",
       "      <td>10.0</td>\n",
       "      <td>0.11</td>\n",
       "      <td>0</td>\n",
       "      <td>2</td>\n",
       "    </tr>\n",
       "    <tr>\n",
       "      <th>4</th>\n",
       "      <td>Ethiopia</td>\n",
       "      <td>0</td>\n",
       "      <td>8.25</td>\n",
       "      <td>8.50</td>\n",
       "      <td>8.25</td>\n",
       "      <td>8.50</td>\n",
       "      <td>8.42</td>\n",
       "      <td>8.33</td>\n",
       "      <td>10.0</td>\n",
       "      <td>10.0</td>\n",
       "      <td>10.0</td>\n",
       "      <td>0.12</td>\n",
       "      <td>0</td>\n",
       "      <td>2</td>\n",
       "    </tr>\n",
       "  </tbody>\n",
       "</table>\n",
       "</div>"
      ],
      "text/plain": [
       "  Country.of.Origin  Species  Aroma  Flavor  Aftertaste  Acidity  Body  \\\n",
       "0          Ethiopia        0   8.67    8.83        8.67     8.75  8.50   \n",
       "1          Ethiopia        0   8.75    8.67        8.50     8.58  8.42   \n",
       "2         Guatemala        0   8.42    8.50        8.42     8.42  8.33   \n",
       "3          Ethiopia        0   8.17    8.58        8.42     8.42  8.50   \n",
       "4          Ethiopia        0   8.25    8.50        8.25     8.50  8.42   \n",
       "\n",
       "   Balance  Uniformity  Clean.Cup  Sweetness  Moisture  Category.One.Defects  \\\n",
       "0     8.42        10.0       10.0       10.0      0.12                     0   \n",
       "1     8.42        10.0       10.0       10.0      0.12                     0   \n",
       "2     8.42        10.0       10.0       10.0      0.00                     0   \n",
       "3     8.25        10.0       10.0       10.0      0.11                     0   \n",
       "4     8.33        10.0       10.0       10.0      0.12                     0   \n",
       "\n",
       "   Category.Two.Defects  \n",
       "0                     0  \n",
       "1                     1  \n",
       "2                     0  \n",
       "3                     2  \n",
       "4                     2  "
      ]
     },
     "execution_count": 6,
     "metadata": {},
     "output_type": "execute_result"
    }
   ],
   "source": [
    "df_quality['Species'] = pd.get_dummies(df_quality['Species'], drop_first=True)\n",
    "# Arabica - 0,  Robusta - 1\n",
    "df_quality.head()"
   ]
  },
  {
   "cell_type": "code",
   "execution_count": 7,
   "metadata": {
    "ExecuteTime": {
     "end_time": "2021-02-21T07:41:35.825395Z",
     "start_time": "2021-02-21T07:41:35.352300Z"
    }
   },
   "outputs": [],
   "source": [
    "df_qual = df_quality.copy()\n",
    "from sklearn.preprocessing import LabelEncoder\n",
    "\n",
    "df_qual = df_qual.apply(LabelEncoder().fit_transform)"
   ]
  },
  {
   "cell_type": "code",
   "execution_count": 8,
   "metadata": {
    "ExecuteTime": {
     "end_time": "2021-02-21T07:41:37.258097Z",
     "start_time": "2021-02-21T07:41:35.828395Z"
    }
   },
   "outputs": [
    {
     "data": {
      "text/plain": [
       "<AxesSubplot:>"
      ]
     },
     "execution_count": 8,
     "metadata": {},
     "output_type": "execute_result"
    },
    {
     "data": {
      "image/png": "[encoded data removed]",
      "text/plain": [
       "<Figure size 720x720 with 2 Axes>"
      ]
     },
     "metadata": {},
     "output_type": "display_data"
    }
   ],
   "source": [
    "# correlation matrix\n",
    "corr_mat = df_qual.corr()\n",
    "top_corr_features = corr_mat.index\n",
    "fig = plt.figure(figsize=(10,10))\n",
    "fig.patch.set_facecolor('white')\n",
    "# heatmap\n",
    "sns.heatmap(df_qual[top_corr_features].corr(), annot=True, cmap=\"RdYlGn\")"
   ]
  },
  {
   "cell_type": "code",
   "execution_count": 9,
   "metadata": {
    "ExecuteTime": {
     "end_time": "2021-02-21T07:41:37.337995Z",
     "start_time": "2021-02-21T07:41:37.260190Z"
    }
   },
   "outputs": [
    {
     "name": "stdout",
     "output_type": "stream",
     "text": [
      "<class 'pandas.core.frame.DataFrame'>\n",
      "RangeIndex: 1339 entries, 0 to 1338\n",
      "Data columns (total 13 columns):\n",
      " #   Column                Non-Null Count  Dtype\n",
      "---  ------                --------------  -----\n",
      " 0   Country.of.Origin     1339 non-null   int32\n",
      " 1   Species               1339 non-null   int64\n",
      " 2   Aroma                 1339 non-null   int64\n",
      " 3   Aftertaste            1339 non-null   int64\n",
      " 4   Acidity               1339 non-null   int64\n",
      " 5   Body                  1339 non-null   int64\n",
      " 6   Balance               1339 non-null   int64\n",
      " 7   Uniformity            1339 non-null   int64\n",
      " 8   Clean.Cup             1339 non-null   int64\n",
      " 9   Sweetness             1339 non-null   int64\n",
      " 10  Moisture              1339 non-null   int64\n",
      " 11  Category.One.Defects  1339 non-null   int64\n",
      " 12  Category.Two.Defects  1339 non-null   int64\n",
      "dtypes: int32(1), int64(12)\n",
      "memory usage: 130.9 KB\n"
     ]
    }
   ],
   "source": [
    "# From the Correlation heatmap we can see Flavor column is highly correlated to many other features\n",
    "# So we can remove that feature from training the model. It improved overall accuracy by 2% \n",
    "# but after SMOTE it doesn't matter\n",
    "\n",
    "df_qual.drop('Flavor', axis = 1, inplace = True) \n",
    "df_qual.info()"
   ]
  },
  {
   "cell_type": "code",
   "execution_count": 10,
   "metadata": {
    "ExecuteTime": {
     "end_time": "2021-02-21T07:41:37.433994Z",
     "start_time": "2021-02-21T07:41:37.339997Z"
    }
   },
   "outputs": [
    {
     "data": {
      "text/plain": [
       "19    236\n",
       "3     184\n",
       "9     181\n",
       "0     132\n",
       "27     75\n",
       "32     73\n",
       "11     53\n",
       "4      51\n",
       "8      44\n",
       "28     40\n",
       "30     36\n",
       "29     32\n",
       "21     26\n",
       "15     25\n",
       "7      21\n",
       "13     20\n",
       "2      16\n",
       "12     14\n",
       "17     11\n",
       "24     10\n",
       "31     10\n",
       "20      8\n",
       "34      8\n",
       "10      6\n",
       "25      5\n",
       "33      4\n",
       "22      4\n",
       "16      3\n",
       "6       3\n",
       "1       2\n",
       "18      1\n",
       "26      1\n",
       "23      1\n",
       "14      1\n",
       "5       1\n",
       "35      1\n",
       "Name: Country.of.Origin, dtype: int64"
      ]
     },
     "execution_count": 10,
     "metadata": {},
     "output_type": "execute_result"
    }
   ],
   "source": [
    "# Checking for imbalanced Dataset\n",
    "df_qual['Country.of.Origin'].value_counts()"
   ]
  },
  {
   "cell_type": "code",
   "execution_count": 11,
   "metadata": {
    "ExecuteTime": {
     "end_time": "2021-02-21T07:41:37.607328Z",
     "start_time": "2021-02-21T07:41:37.435994Z"
    }
   },
   "outputs": [
    {
     "data": {
      "text/plain": [
       "Mexico                          236\n",
       "Colombia                        184\n",
       "Guatemala                       181\n",
       "Brazil                          132\n",
       "Taiwan                           75\n",
       "United States (Hawaii)           73\n",
       "Honduras                         53\n",
       "Costa Rica                       51\n",
       "Other                            49\n",
       "Ethiopia                         44\n",
       "Tanzania, United Republic Of     40\n",
       "Uganda                           36\n",
       "Thailand                         32\n",
       "Nicaragua                        26\n",
       "Kenya                            25\n",
       "El Salvador                      21\n",
       "Indonesia                        20\n",
       "China                            16\n",
       "India                            14\n",
       "Malawi                           11\n",
       "Peru                             10\n",
       "United States                    10\n",
       "Name: Country.of.Origin, dtype: int64"
      ]
     },
     "execution_count": 11,
     "metadata": {},
     "output_type": "execute_result"
    }
   ],
   "source": [
    "# Changing Names of Countries with very few Records as 'Other' in dataframe and in a dictionary(to use in SMOTE)\n",
    "df_countries = df_quality.copy()\n",
    "countries, counts = np.unique(df_countries['Country.of.Origin'], return_counts=True)\n",
    "country_counts = dict(zip(countries, counts))\n",
    "country_counts_copy = country_counts.copy()\n",
    "country_counts_copy[\"Other\"] = 0\n",
    "key_list = []\n",
    "for key, value in country_counts.items():\n",
    "    if value < 10:\n",
    "        df_countries.loc[(df_countries['Country.of.Origin'] == key),'Country.of.Origin']='Other'\n",
    "        key_list.append(key)\n",
    "        country_counts_copy[\"Other\"] = country_counts_copy[\"Other\"] + value\n",
    "        \n",
    "list(map(country_counts_copy.pop, key_list))\n",
    "df_countries['Country.of.Origin'].value_counts()"
   ]
  },
  {
   "cell_type": "markdown",
   "metadata": {},
   "source": [
    "## Select your features (columns)"
   ]
  },
  {
   "cell_type": "code",
   "execution_count": 12,
   "metadata": {
    "ExecuteTime": {
     "end_time": "2021-02-21T07:41:37.734688Z",
     "start_time": "2021-02-21T07:41:37.610329Z"
    }
   },
   "outputs": [
    {
     "name": "stdout",
     "output_type": "stream",
     "text": [
      "(1339, 11) (1339,)\n"
     ]
    }
   ],
   "source": [
    "# Set features. This will also be used as your x values.\n",
    "data = df_countries.values\n",
    "X = df_countries.iloc[:, 1:12]\n",
    "y = df_countries.iloc[:, 0]\n",
    "print(X.shape, y.shape)"
   ]
  },
  {
   "cell_type": "markdown",
   "metadata": {},
   "source": [
    "# Train Test Split"
   ]
  },
  {
   "cell_type": "code",
   "execution_count": 13,
   "metadata": {
    "ExecuteTime": {
     "end_time": "2021-02-21T07:41:37.909148Z",
     "start_time": "2021-02-21T07:41:37.738698Z"
    }
   },
   "outputs": [],
   "source": [
    "# Creating train test split on oversampled data\n",
    "from sklearn.model_selection import train_test_split\n",
    "\n",
    "X_train_full, X_test, y_train_full, y_test = train_test_split(X, y, random_state=7, test_size=0.1)"
   ]
  },
  {
   "cell_type": "markdown",
   "metadata": {},
   "source": [
    "## Pre-processing\n",
    "Scale and Normalize the data using the StandardScaler"
   ]
  },
  {
   "cell_type": "code",
   "execution_count": 14,
   "metadata": {
    "ExecuteTime": {
     "end_time": "2021-02-21T07:41:37.988150Z",
     "start_time": "2021-02-21T07:41:37.911150Z"
    }
   },
   "outputs": [],
   "source": [
    "from sklearn.preprocessing import StandardScaler\n",
    "# Create a StandardScater model and fit it to the training data\n",
    "X_scaler = StandardScaler().fit(X_train_full)\n",
    "\n",
    "# Transform the training and testing data using the X_scaler\n",
    "X_train_scaled = X_scaler.transform(X_train_full)\n",
    "X_test_scaled = X_scaler.transform(X_test)"
   ]
  },
  {
   "cell_type": "markdown",
   "metadata": {},
   "source": [
    "#### Imbalanced Dataset\n",
    "##### Synthethetic Minority Over sampling Technique (SMOTE)"
   ]
  },
  {
   "cell_type": "code",
   "execution_count": 15,
   "metadata": {
    "ExecuteTime": {
     "end_time": "2021-02-21T07:41:38.433317Z",
     "start_time": "2021-02-21T07:41:37.990151Z"
    }
   },
   "outputs": [
    {
     "name": "stdout",
     "output_type": "stream",
     "text": [
      "Before SMOTE count: Counter({'Mexico': 210, 'Guatemala': 168, 'Colombia': 161, 'Brazil': 116, 'Taiwan': 69, 'United States (Hawaii)': 65, 'Honduras': 47, 'Costa Rica': 45, 'Other': 43, 'Ethiopia': 41, 'Tanzania, United Republic Of': 39, 'Uganda': 35, 'Thailand': 30, 'Nicaragua': 24, 'Kenya': 21, 'El Salvador': 18, 'Indonesia': 17, 'China': 15, 'India': 14, 'Peru': 9, 'Malawi': 9, 'United States': 9})\n",
      "After SMOTE count: Counter({'Colombia': 1500, 'India': 1500, 'Brazil': 1500, 'Taiwan': 1500, 'Mexico': 1500, 'Other': 1500, 'Kenya': 1500, 'El Salvador': 1500, 'Costa Rica': 1500, 'Uganda': 1500, 'Thailand': 1500, 'Nicaragua': 1500, 'Ethiopia': 1500, 'United States (Hawaii)': 1500, 'Honduras': 1500, 'Tanzania, United Republic Of': 1500, 'Guatemala': 1500, 'Peru': 1500, 'Malawi': 1500, 'United States': 1500, 'Indonesia': 1500, 'China': 1500})\n"
     ]
    },
    {
     "name": "stderr",
     "output_type": "stream",
     "text": [
      "C:\\Users\\Abraham\\anaconda3\\envs\\envcoffee\\lib\\site-packages\\imblearn\\utils\\_validation.py:326: UserWarning: After over-sampling, the number of samples (1500) in class Brazil will be larger than the number of samples in the majority class (class #Mexico -> 210)\n",
      "  n_samples_majority,\n",
      "C:\\Users\\Abraham\\anaconda3\\envs\\envcoffee\\lib\\site-packages\\imblearn\\utils\\_validation.py:326: UserWarning: After over-sampling, the number of samples (1500) in class China will be larger than the number of samples in the majority class (class #Mexico -> 210)\n",
      "  n_samples_majority,\n",
      "C:\\Users\\Abraham\\anaconda3\\envs\\envcoffee\\lib\\site-packages\\imblearn\\utils\\_validation.py:326: UserWarning: After over-sampling, the number of samples (1500) in class Colombia will be larger than the number of samples in the majority class (class #Mexico -> 210)\n",
      "  n_samples_majority,\n",
      "C:\\Users\\Abraham\\anaconda3\\envs\\envcoffee\\lib\\site-packages\\imblearn\\utils\\_validation.py:326: UserWarning: After over-sampling, the number of samples (1500) in class Costa Rica will be larger than the number of samples in the majority class (class #Mexico -> 210)\n",
      "  n_samples_majority,\n",
      "C:\\Users\\Abraham\\anaconda3\\envs\\envcoffee\\lib\\site-packages\\imblearn\\utils\\_validation.py:326: UserWarning: After over-sampling, the number of samples (1500) in class El Salvador will be larger than the number of samples in the majority class (class #Mexico -> 210)\n",
      "  n_samples_majority,\n",
      "C:\\Users\\Abraham\\anaconda3\\envs\\envcoffee\\lib\\site-packages\\imblearn\\utils\\_validation.py:326: UserWarning: After over-sampling, the number of samples (1500) in class Ethiopia will be larger than the number of samples in the majority class (class #Mexico -> 210)\n",
      "  n_samples_majority,\n",
      "C:\\Users\\Abraham\\anaconda3\\envs\\envcoffee\\lib\\site-packages\\imblearn\\utils\\_validation.py:326: UserWarning: After over-sampling, the number of samples (1500) in class Guatemala will be larger than the number of samples in the majority class (class #Mexico -> 210)\n",
      "  n_samples_majority,\n",
      "C:\\Users\\Abraham\\anaconda3\\envs\\envcoffee\\lib\\site-packages\\imblearn\\utils\\_validation.py:326: UserWarning: After over-sampling, the number of samples (1500) in class Honduras will be larger than the number of samples in the majority class (class #Mexico -> 210)\n",
      "  n_samples_majority,\n",
      "C:\\Users\\Abraham\\anaconda3\\envs\\envcoffee\\lib\\site-packages\\imblearn\\utils\\_validation.py:326: UserWarning: After over-sampling, the number of samples (1500) in class India will be larger than the number of samples in the majority class (class #Mexico -> 210)\n",
      "  n_samples_majority,\n",
      "C:\\Users\\Abraham\\anaconda3\\envs\\envcoffee\\lib\\site-packages\\imblearn\\utils\\_validation.py:326: UserWarning: After over-sampling, the number of samples (1500) in class Indonesia will be larger than the number of samples in the majority class (class #Mexico -> 210)\n",
      "  n_samples_majority,\n",
      "C:\\Users\\Abraham\\anaconda3\\envs\\envcoffee\\lib\\site-packages\\imblearn\\utils\\_validation.py:326: UserWarning: After over-sampling, the number of samples (1500) in class Kenya will be larger than the number of samples in the majority class (class #Mexico -> 210)\n",
      "  n_samples_majority,\n",
      "C:\\Users\\Abraham\\anaconda3\\envs\\envcoffee\\lib\\site-packages\\imblearn\\utils\\_validation.py:326: UserWarning: After over-sampling, the number of samples (1500) in class Malawi will be larger than the number of samples in the majority class (class #Mexico -> 210)\n",
      "  n_samples_majority,\n",
      "C:\\Users\\Abraham\\anaconda3\\envs\\envcoffee\\lib\\site-packages\\imblearn\\utils\\_validation.py:326: UserWarning: After over-sampling, the number of samples (1500) in class Mexico will be larger than the number of samples in the majority class (class #Mexico -> 210)\n",
      "  n_samples_majority,\n",
      "C:\\Users\\Abraham\\anaconda3\\envs\\envcoffee\\lib\\site-packages\\imblearn\\utils\\_validation.py:326: UserWarning: After over-sampling, the number of samples (1500) in class Nicaragua will be larger than the number of samples in the majority class (class #Mexico -> 210)\n",
      "  n_samples_majority,\n",
      "C:\\Users\\Abraham\\anaconda3\\envs\\envcoffee\\lib\\site-packages\\imblearn\\utils\\_validation.py:326: UserWarning: After over-sampling, the number of samples (1500) in class Peru will be larger than the number of samples in the majority class (class #Mexico -> 210)\n",
      "  n_samples_majority,\n",
      "C:\\Users\\Abraham\\anaconda3\\envs\\envcoffee\\lib\\site-packages\\imblearn\\utils\\_validation.py:326: UserWarning: After over-sampling, the number of samples (1500) in class Taiwan will be larger than the number of samples in the majority class (class #Mexico -> 210)\n",
      "  n_samples_majority,\n",
      "C:\\Users\\Abraham\\anaconda3\\envs\\envcoffee\\lib\\site-packages\\imblearn\\utils\\_validation.py:326: UserWarning: After over-sampling, the number of samples (1500) in class Tanzania, United Republic Of will be larger than the number of samples in the majority class (class #Mexico -> 210)\n",
      "  n_samples_majority,\n",
      "C:\\Users\\Abraham\\anaconda3\\envs\\envcoffee\\lib\\site-packages\\imblearn\\utils\\_validation.py:326: UserWarning: After over-sampling, the number of samples (1500) in class Thailand will be larger than the number of samples in the majority class (class #Mexico -> 210)\n",
      "  n_samples_majority,\n",
      "C:\\Users\\Abraham\\anaconda3\\envs\\envcoffee\\lib\\site-packages\\imblearn\\utils\\_validation.py:326: UserWarning: After over-sampling, the number of samples (1500) in class Uganda will be larger than the number of samples in the majority class (class #Mexico -> 210)\n",
      "  n_samples_majority,\n",
      "C:\\Users\\Abraham\\anaconda3\\envs\\envcoffee\\lib\\site-packages\\imblearn\\utils\\_validation.py:326: UserWarning: After over-sampling, the number of samples (1500) in class United States will be larger than the number of samples in the majority class (class #Mexico -> 210)\n",
      "  n_samples_majority,\n",
      "C:\\Users\\Abraham\\anaconda3\\envs\\envcoffee\\lib\\site-packages\\imblearn\\utils\\_validation.py:326: UserWarning: After over-sampling, the number of samples (1500) in class United States (Hawaii) will be larger than the number of samples in the majority class (class #Mexico -> 210)\n",
      "  n_samples_majority,\n",
      "C:\\Users\\Abraham\\anaconda3\\envs\\envcoffee\\lib\\site-packages\\imblearn\\utils\\_validation.py:326: UserWarning: After over-sampling, the number of samples (1500) in class Other will be larger than the number of samples in the majority class (class #Mexico -> 210)\n",
      "  n_samples_majority,\n"
     ]
    }
   ],
   "source": [
    "# Over sampling\n",
    "from imblearn.over_sampling import SMOTE\n",
    "\n",
    "strategy_dict = {x: 1500 for x in country_counts_copy}\n",
    "synth = SMOTE(random_state=13, sampling_strategy= strategy_dict)\n",
    "X_resampled, y_resampled = synth.fit_resample(X_train_scaled, y_train_full)\n",
    "\n",
    "from collections import Counter\n",
    "print(\"Before SMOTE count:\" , Counter(y_train_full))\n",
    "print(\"After SMOTE count:\" , Counter(y_resampled))"
   ]
  },
  {
   "cell_type": "markdown",
   "metadata": {},
   "source": [
    "## Create a Train Validation Split After SMOTE"
   ]
  },
  {
   "cell_type": "code",
   "execution_count": 16,
   "metadata": {
    "ExecuteTime": {
     "end_time": "2021-02-21T07:41:38.449294Z",
     "start_time": "2021-02-21T07:41:38.435284Z"
    }
   },
   "outputs": [],
   "source": [
    "# Creating train test split on oversampled data\n",
    "from sklearn.model_selection import train_test_split\n",
    "\n",
    "X_train, X_val, y_train, y_val = train_test_split(X_resampled, y_resampled, random_state=7, test_size=0.2)"
   ]
  },
  {
   "cell_type": "markdown",
   "metadata": {},
   "source": [
    "# Train the Model using SVC"
   ]
  },
  {
   "cell_type": "code",
   "execution_count": 17,
   "metadata": {
    "ExecuteTime": {
     "end_time": "2021-02-21T07:42:24.963488Z",
     "start_time": "2021-02-21T07:41:38.452287Z"
    }
   },
   "outputs": [
    {
     "name": "stdout",
     "output_type": "stream",
     "text": [
      "Training Data Score: 0.5104166666666666\n",
      "Testing Data Score: 0.5198484848484849\n"
     ]
    }
   ],
   "source": [
    "# Support vector machine linear classifier\n",
    "from sklearn.svm import SVC \n",
    "model = SVC(kernel='linear')\n",
    "model.fit(X_train, y_train)\n",
    "\n",
    "print(f\"Training Data Score: {model.score(X_train, y_train)}\")\n",
    "print(f\"Testing Data Score: {model.score(X_val, y_val)}\")"
   ]
  },
  {
   "cell_type": "markdown",
   "metadata": {},
   "source": [
    "## Evaluate the Model using Confusion Matrix"
   ]
  },
  {
   "cell_type": "code",
   "execution_count": 18,
   "metadata": {
    "ExecuteTime": {
     "end_time": "2021-02-21T07:42:29.693444Z",
     "start_time": "2021-02-21T07:42:24.963488Z"
    }
   },
   "outputs": [
    {
     "name": "stdout",
     "output_type": "stream",
     "text": [
      "Confusion matrix:\n",
      " [[ 39  11  18   4  27   3   6  21   0  15   4   2  16  18   5   4   9   0\n",
      "   41  23   1  21]\n",
      " [ 16 127  23  14   0   8  21  35   0   7   1   6   3   8   0   0   6   1\n",
      "    1   2   0   0]\n",
      " [ 17  25  71  28  34   6   5   1   0  20   6   6   0   0   7  10   3   1\n",
      "   32   2   2   3]\n",
      " [  3  21  26  89  35  17   9   1   0   9   3   7   8   0  10   4  10   2\n",
      "   17   1   0   2]\n",
      " [  0  11  27  13 163  24   0   0   0   0  21   0   0   0  13  11   0   2\n",
      "   13   0   0   6]\n",
      " [  0  12   9   1   5 158   4   2   0   7  39   0   0   3   0   7   0   0\n",
      "    9  10   7  23]\n",
      " [  3   6   8   3   4  16 130  24   0   5   7   1  13   6   0   7   7   5\n",
      "   24   1   0   6]\n",
      " [  5  27   7  12   0   2  16 135   0   4   0   2   8  24   1   0  17  10\n",
      "   22   0   0   4]\n",
      " [  0   0   0   0   0   0   0   0 299   0   0   0   0   0   0   0   0   0\n",
      "    0   0   0   0]\n",
      " [  3  22  21   0  16   8   2  12   0  87   0  11  17  11   0   0  15  11\n",
      "   18  33   0   0]\n",
      " [  0   6   7  13   4  10   0   0   0  13 205   0   0   8   0   8   1   0\n",
      "    6   1   1   0]\n",
      " [  0   0   0   0   0   0   0   0   0   3   0 298   3   0   0   0   0   0\n",
      "   15   0   0   0]\n",
      " [ 12  20   3   7   3   2  25  11   0  11   2  44  70  23   6  10   1  24\n",
      "   16   6   0   9]\n",
      " [ 16   9   6   0   0  16   2  23   0  17   0   2  11 159   8   0  27  14\n",
      "    3   0   0   7]\n",
      " [  4   2  18  16   6  12   2   9   0   4   5   3  18  23 132  16   6   0\n",
      "   24   1   0  16]\n",
      " [  1   0  12   0   0  28   2  21   0  10   0   0   0   1  10 237   1   0\n",
      "    0   8   0   2]\n",
      " [  7   7  25  24  14   4   8  18   0   2   7   4   2  28   6  20 111   1\n",
      "   16   3   3   1]\n",
      " [  0   0   0   1   0   0   0   0   0   6   4  15   7  20   4   0   5 208\n",
      "    5   0   0   0]\n",
      " [  7  10  28  11   0   8  21   2   0  10   8  15   4   3  21   1   9  24\n",
      "  111   0   0   5]\n",
      " [  4  21   0   2   0   0  21   0   0  32   0   0   2   0   0   4   0  12\n",
      "    0 206   0   0]\n",
      " [  0   0   6   1  12   0   0   0   0   0   0   0   0   0   9   0   0   0\n",
      "    0   0 298   0]\n",
      " [ 14   0  17  31  36  21   5   1   0   6   3   0   4  14   5  25   1   0\n",
      "   36   0  14  98]]\n"
     ]
    },
    {
     "name": "stderr",
     "output_type": "stream",
     "text": [
      "C:\\Users\\Abraham\\anaconda3\\envs\\envcoffee\\lib\\site-packages\\ipykernel_launcher.py:15: UserWarning: FixedFormatter should only be used together with FixedLocator\n",
      "  from ipykernel import kernelapp as app\n",
      "C:\\Users\\Abraham\\anaconda3\\envs\\envcoffee\\lib\\site-packages\\ipykernel_launcher.py:16: UserWarning: FixedFormatter should only be used together with FixedLocator\n",
      "  app.launch_new_instance()\n"
     ]
    },
    {
     "data": {
      "image/png": "[encoded data removed]",
      "text/plain": [
       "<Figure size 432x288 with 2 Axes>"
      ]
     },
     "metadata": {},
     "output_type": "display_data"
    }
   ],
   "source": [
    "# Make predictions with the model\n",
    "predictions = model.predict(X_val)  \n",
    "\n",
    "from sklearn.metrics import confusion_matrix\n",
    "\n",
    "conf_mat = confusion_matrix(y_true=y_val, y_pred=predictions)\n",
    "print('Confusion matrix:\\n', conf_mat)\n",
    "\n",
    "labels = df_countries['Country.of.Origin'].unique()\n",
    "fig = plt.figure()\n",
    "fig.patch.set_facecolor('white')\n",
    "ax = fig.add_subplot(111)\n",
    "cax = ax.matshow(conf_mat, cmap=plt.cm.Blues)\n",
    "fig.colorbar(cax)\n",
    "ax.set_xticklabels([''] + labels)\n",
    "ax.set_yticklabels([''] + labels)\n",
    "plt.xlabel('Predicted')\n",
    "plt.ylabel('Expected')\n",
    "plt.show()"
   ]
  },
  {
   "cell_type": "markdown",
   "metadata": {},
   "source": [
    "### Hyperparameter Tuning for SVC Model"
   ]
  },
  {
   "cell_type": "code",
   "execution_count": 19,
   "metadata": {
    "ExecuteTime": {
     "end_time": "2021-02-21T07:42:29.709445Z",
     "start_time": "2021-02-21T07:42:29.694433Z"
    }
   },
   "outputs": [],
   "source": [
    "# Create the GridSearch estimator along with a parameter object containing the values to adjust\n",
    "from sklearn.model_selection import GridSearchCV\n",
    "param_grid = {'C': [50,100],\n",
    "              'kernel': ['rbf','linear'],\n",
    "              'gamma': [0.001, 0.01]}\n",
    "grid = GridSearchCV(model, param_grid, cv=4)"
   ]
  },
  {
   "cell_type": "code",
   "execution_count": 20,
   "metadata": {
    "ExecuteTime": {
     "end_time": "2021-02-21T07:42:29.802621Z",
     "start_time": "2021-02-21T07:42:29.710433Z"
    }
   },
   "outputs": [],
   "source": [
    "# Train the model with GridSearch\n",
    "# This will take the SVC model and try each combination of parameters\n",
    "\n",
    "# grid.fit(X_train, y_train)\n",
    "\n",
    "# print(grid.best_params_)\n",
    "# print(grid.best_score_)"
   ]
  },
  {
   "cell_type": "markdown",
   "metadata": {},
   "source": [
    "# Decision Tree Model"
   ]
  },
  {
   "cell_type": "code",
   "execution_count": 21,
   "metadata": {
    "ExecuteTime": {
     "end_time": "2021-02-21T07:42:30.489040Z",
     "start_time": "2021-02-21T07:42:29.804614Z"
    }
   },
   "outputs": [
    {
     "name": "stdout",
     "output_type": "stream",
     "text": [
      "                              precision    recall  f1-score   support\n",
      "\n",
      "                      Brazil       0.83      0.79      0.81       288\n",
      "                       China       0.94      0.94      0.94       279\n",
      "                    Colombia       0.82      0.77      0.80       279\n",
      "                  Costa Rica       0.87      0.89      0.88       274\n",
      "                 El Salvador       0.95      0.96      0.95       304\n",
      "                    Ethiopia       0.92      0.94      0.93       296\n",
      "                   Guatemala       0.85      0.82      0.83       276\n",
      "                    Honduras       0.86      0.90      0.88       296\n",
      "                       India       1.00      0.99      0.99       299\n",
      "                   Indonesia       0.87      0.93      0.90       287\n",
      "                       Kenya       0.92      0.95      0.94       283\n",
      "                      Malawi       0.99      0.97      0.98       319\n",
      "                      Mexico       0.82      0.76      0.79       305\n",
      "                   Nicaragua       0.94      0.93      0.93       320\n",
      "                       Other       0.89      0.87      0.88       317\n",
      "                        Peru       0.97      0.95      0.96       333\n",
      "                      Taiwan       0.87      0.90      0.89       311\n",
      "Tanzania, United Republic Of       0.94      0.95      0.94       275\n",
      "                    Thailand       0.89      0.91      0.90       298\n",
      "                      Uganda       0.95      0.95      0.95       304\n",
      "               United States       0.97      0.98      0.98       326\n",
      "      United States (Hawaii)       0.88      0.91      0.89       331\n",
      "\n",
      "                    accuracy                           0.91      6600\n",
      "                   macro avg       0.91      0.91      0.91      6600\n",
      "                weighted avg       0.91      0.91      0.91      6600\n",
      "\n"
     ]
    }
   ],
   "source": [
    "from sklearn import tree\n",
    "\n",
    "# Create and score a decision tree classifier\n",
    "clfTree = tree.DecisionTreeClassifier()\n",
    "clf = clfTree.fit(X_train, y_train)\n",
    "\n",
    "# Make predictions with the hypertuned model\n",
    "treePredictions = clf.predict(X_val)\n",
    "# Calculate classification report\n",
    "from sklearn.metrics import classification_report\n",
    "print(classification_report(y_val, treePredictions))"
   ]
  },
  {
   "cell_type": "code",
   "execution_count": 22,
   "metadata": {
    "ExecuteTime": {
     "end_time": "2021-02-21T07:42:30.504041Z",
     "start_time": "2021-02-21T07:42:30.495042Z"
    }
   },
   "outputs": [
    {
     "name": "stdout",
     "output_type": "stream",
     "text": [
      "Test Accuracy: 0.2462686567164179\n"
     ]
    }
   ],
   "source": [
    "print(f\"Test Accuracy: {clf.score(X_test_scaled, y_test)}\")"
   ]
  },
  {
   "cell_type": "markdown",
   "metadata": {},
   "source": [
    "# Random Forest Grid Search"
   ]
  },
  {
   "cell_type": "code",
   "execution_count": 23,
   "metadata": {
    "ExecuteTime": {
     "end_time": "2021-02-21T07:42:50.582135Z",
     "start_time": "2021-02-21T07:42:30.507042Z"
    }
   },
   "outputs": [
    {
     "name": "stdout",
     "output_type": "stream",
     "text": [
      "{'max_samples': 0.5, 'min_samples_split': 3, 'n_estimators': 100}\n",
      "0.9573863636363636\n"
     ]
    }
   ],
   "source": [
    "from sklearn.ensemble import RandomForestClassifier\n",
    "from sklearn.model_selection import GridSearchCV\n",
    "\n",
    "model_params = {\n",
    "    'model': RandomForestClassifier(random_state=5),\n",
    "    'params' : {\n",
    "        'n_estimators': [100],  # no of trees\n",
    "        'min_samples_split':[3, 4],\n",
    "        'max_samples': [0.2, 0.5]\n",
    "    }\n",
    "}\n",
    "\n",
    "RFclf =  GridSearchCV(model_params['model'], model_params['params'], cv=5, n_jobs=-1, return_train_score=False)\n",
    "RFclf.fit(X_train, y_train)\n",
    "\n",
    "print(RFclf.best_params_)\n",
    "print(RFclf.best_score_)"
   ]
  },
  {
   "cell_type": "code",
   "execution_count": 24,
   "metadata": {
    "ExecuteTime": {
     "end_time": "2021-02-21T07:42:51.586726Z",
     "start_time": "2021-02-21T07:42:50.582135Z"
    }
   },
   "outputs": [
    {
     "name": "stdout",
     "output_type": "stream",
     "text": [
      "Train Accuracy: 0.9990909090909091\n",
      "Validation Accuracy: 0.9674242424242424\n"
     ]
    }
   ],
   "source": [
    "print(f\"Train Accuracy: {RFclf.score(X_train, y_train)}\")\n",
    "print(f\"Validation Accuracy: {RFclf.score(X_val, y_val)}\")"
   ]
  },
  {
   "cell_type": "code",
   "execution_count": 25,
   "metadata": {
    "ExecuteTime": {
     "end_time": "2021-02-21T07:42:51.618826Z",
     "start_time": "2021-02-21T07:42:51.588720Z"
    }
   },
   "outputs": [
    {
     "name": "stdout",
     "output_type": "stream",
     "text": [
      "Test Accuracy: 0.29850746268656714\n"
     ]
    }
   ],
   "source": [
    "print(f\"Test Accuracy: {RFclf.score(X_test_scaled, y_test)}\")"
   ]
  },
  {
   "cell_type": "markdown",
   "metadata": {},
   "source": [
    "# XGBOOST Hyper parameter tuning"
   ]
  },
  {
   "cell_type": "code",
   "execution_count": 26,
   "metadata": {
    "ExecuteTime": {
     "end_time": "2021-02-21T07:42:51.744034Z",
     "start_time": "2021-02-21T07:42:51.619834Z"
    }
   },
   "outputs": [],
   "source": [
    "# from xgboost import XGBClassifier\n",
    "\n",
    "# XGclf = XGBClassifier(max_depth=5,\n",
    "#                       n_estimators=[100, 1000])\n",
    "# XGclf.fit(X_train_scaled, y_train)\n",
    "\n",
    "# # Make predictions with the hypertuned model\n",
    "# XGPredictions = XGclf.predict(X_test_scaled)  \n",
    "# # Calculate classification report\n",
    "# print(classification_report(y_test, XGPredictions))"
   ]
  },
  {
   "cell_type": "code",
   "execution_count": 27,
   "metadata": {
    "ExecuteTime": {
     "end_time": "2021-02-21T07:42:51.865912Z",
     "start_time": "2021-02-21T07:42:51.746006Z"
    }
   },
   "outputs": [],
   "source": [
    "# print(f\"Train Accuracy: {XGclf.score(X_train_scaled, y_train)}\")\n",
    "# print(f\"Test Accuracy: {XGclf.score(X_test_scaled, y_test)}\")"
   ]
  },
  {
   "cell_type": "markdown",
   "metadata": {},
   "source": [
    "## UnderSampling"
   ]
  },
  {
   "cell_type": "code",
   "execution_count": 28,
   "metadata": {
    "ExecuteTime": {
     "end_time": "2021-02-21T07:42:52.536032Z",
     "start_time": "2021-02-21T07:42:51.867024Z"
    }
   },
   "outputs": [
    {
     "data": {
      "image/png": "[encoded data removed]",
      "text/plain": [
       "<Figure size 720x360 with 1 Axes>"
      ]
     },
     "metadata": {},
     "output_type": "display_data"
    }
   ],
   "source": [
    "target_count = df_countries['Country.of.Origin'].value_counts()\n",
    "fig = plt.figure(figsize=(10,5))\n",
    "fig.patch.set_facecolor('white')\n",
    "target_count.plot(kind='bar', title='Count of Country Records');"
   ]
  },
  {
   "cell_type": "code",
   "execution_count": 29,
   "metadata": {
    "ExecuteTime": {
     "end_time": "2021-02-21T07:42:52.848049Z",
     "start_time": "2021-02-21T07:42:52.538014Z"
    }
   },
   "outputs": [
    {
     "data": {
      "image/png": "[encoded data removed]",
      "text/plain": [
       "<Figure size 720x360 with 1 Axes>"
      ]
     },
     "metadata": {},
     "output_type": "display_data"
    }
   ],
   "source": [
    "undersample_indices = []\n",
    "for key, value in country_counts_copy.items():\n",
    "    indices = df_countries[df_countries['Country.of.Origin'] == key].index\n",
    "    if value > 10:\n",
    "        random_indices = np.random.choice(indices, 10, replace=False)\n",
    "        undersample_indices = np.concatenate([undersample_indices, random_indices])\n",
    "    else:\n",
    "        undersample_indices = np.concatenate([undersample_indices, indices])\n",
    "        \n",
    "undersample = df_countries.loc[undersample_indices]\n",
    "\n",
    "target_count = undersample['Country.of.Origin'].value_counts()\n",
    "fig = plt.figure(figsize=(10,5))\n",
    "fig.patch.set_facecolor('white')\n",
    "target_count.plot(kind='bar', title='Count of Country Records');"
   ]
  },
  {
   "cell_type": "code",
   "execution_count": 30,
   "metadata": {
    "ExecuteTime": {
     "end_time": "2021-02-21T07:42:52.864049Z",
     "start_time": "2021-02-21T07:42:52.850050Z"
    }
   },
   "outputs": [],
   "source": [
    "X_undersampled = undersample.loc[:,df_countries.columns != 'Country.of.Origin']\n",
    "y_undersampled = undersample.loc[:,df_countries.columns == 'Country.of.Origin']\n",
    "X_train2, X_test2, y_train2, y_test2 = train_test_split(X_undersampled, y_undersampled, random_state=10, test_size=0.1)\n",
    "\n",
    "X_scaler = StandardScaler().fit(X_train2)\n",
    "\n",
    "# Transform the training and testing data using the X_scaler\n",
    "X_train_scaled2 = X_scaler.transform(X_train2)\n",
    "X_test_scaled2 = X_scaler.transform(X_test2)"
   ]
  },
  {
   "cell_type": "code",
   "execution_count": 31,
   "metadata": {
    "ExecuteTime": {
     "end_time": "2021-02-21T07:43:01.815303Z",
     "start_time": "2021-02-21T07:42:52.866066Z"
    }
   },
   "outputs": [
    {
     "name": "stderr",
     "output_type": "stream",
     "text": [
      "C:\\Users\\Abraham\\anaconda3\\envs\\envcoffee\\lib\\site-packages\\sklearn\\model_selection\\_search.py:765: DataConversionWarning: A column-vector y was passed when a 1d array was expected. Please change the shape of y to (n_samples,), for example using ravel().\n",
      "  self.best_estimator_.fit(X, y, **fit_params)\n"
     ]
    },
    {
     "name": "stdout",
     "output_type": "stream",
     "text": [
      "{'n_estimators': 1000}\n",
      "0.33333333333333337\n"
     ]
    }
   ],
   "source": [
    "from sklearn.ensemble import RandomForestClassifier\n",
    "from sklearn.model_selection import GridSearchCV\n",
    "\n",
    "model_params = {\n",
    "    'model': RandomForestClassifier(random_state=10),\n",
    "    'params' : {\n",
    "        'n_estimators': [50,100,1000],  # no of trees\n",
    "    }\n",
    "}\n",
    "\n",
    "RFclf2 =  GridSearchCV(model_params['model'], model_params['params'], cv=5, n_jobs=4, return_train_score=False)\n",
    "RFclf2.fit(X_train_scaled2, y_train2)\n",
    "\n",
    "print(RFclf2.best_params_)\n",
    "print(RFclf2.best_score_)"
   ]
  },
  {
   "cell_type": "code",
   "execution_count": 32,
   "metadata": {
    "ExecuteTime": {
     "end_time": "2021-02-21T07:43:02.116282Z",
     "start_time": "2021-02-21T07:43:01.817327Z"
    }
   },
   "outputs": [
    {
     "name": "stdout",
     "output_type": "stream",
     "text": [
      "Train Accuracy: 1.0\n",
      "Test Accuracy: 0.3181818181818182\n"
     ]
    }
   ],
   "source": [
    "print(f\"Train Accuracy: {RFclf2.score(X_train_scaled2, y_train2)}\")\n",
    "print(f\"Test Accuracy: {RFclf2.score(X_test_scaled2, y_test2)}\")"
   ]
  },
  {
   "cell_type": "markdown",
   "metadata": {},
   "source": [
    "#   Adding Region Column to predict region instead of Countries"
   ]
  },
  {
   "cell_type": "code",
   "execution_count": 33,
   "metadata": {
    "ExecuteTime": {
     "end_time": "2021-02-21T07:43:02.234687Z",
     "start_time": "2021-02-21T07:43:02.118280Z"
    }
   },
   "outputs": [],
   "source": [
    "# Changing Country Names\n",
    "df_quality.loc[(df_countries['Country.of.Origin'] == \"United States\"),'Country.of.Origin']='United States of America'\n",
    "df_quality.loc[(df_countries['Country.of.Origin'] == \"United States (Puerto Rico)\"),'Country.of.Origin']='Puerto Rico'\n",
    "df_quality.loc[(df_countries['Country.of.Origin'] == \"Vietnam\"),'Country.of.Origin']='Viet Nam'"
   ]
  },
  {
   "cell_type": "code",
   "execution_count": 34,
   "metadata": {
    "ExecuteTime": {
     "end_time": "2021-02-21T07:43:03.028872Z",
     "start_time": "2021-02-21T07:43:02.236681Z"
    }
   },
   "outputs": [],
   "source": [
    "import requests\n",
    "# Getting Region data using API\n",
    "# URL for GET requests to retrieve Region data of Countries from Rest Countries API\n",
    "base_url = \"https://restcountries.eu/rest/v2/name/\"\n",
    "\n",
    "# Defining a function to fetch each Contries Region with API\n",
    "def fetchRegion(countries):\n",
    "\n",
    "    country_list = []\n",
    "    region_list = []\n",
    "    not_found = []\n",
    "\n",
    "    for country in countries:\n",
    "        try:  \n",
    "            # Appending country name to the base url\n",
    "            url = f\"{base_url}{country}?fullText=true\"\n",
    "\n",
    "            # Perform a get request for each country\n",
    "            response = requests.get(url)\n",
    "\n",
    "            # Storing the JSON response within a variable\n",
    "            data = response.json()\n",
    "            \n",
    "            # Adding the region and country name to lists\n",
    "            region_list.append(data[0]['subregion'])\n",
    "            country_list.append(country)\n",
    "\n",
    "        except:\n",
    "            not_found.append(country)\n",
    "    # function return all the list of values\n",
    "    return country_list, region_list, not_found"
   ]
  },
  {
   "cell_type": "code",
   "execution_count": 35,
   "metadata": {
    "ExecuteTime": {
     "end_time": "2021-02-21T07:43:27.721348Z",
     "start_time": "2021-02-21T07:43:03.028872Z"
    }
   },
   "outputs": [
    {
     "name": "stdout",
     "output_type": "stream",
     "text": [
      "Countries Not Found: ['United States (Hawaii)', 'United States (Puerto Rico)', 'Vietnam']\n"
     ]
    },
    {
     "data": {
      "text/html": [
       "<div>\n",
       "<style scoped>\n",
       "    .dataframe tbody tr th:only-of-type {\n",
       "        vertical-align: middle;\n",
       "    }\n",
       "\n",
       "    .dataframe tbody tr th {\n",
       "        vertical-align: top;\n",
       "    }\n",
       "\n",
       "    .dataframe thead th {\n",
       "        text-align: right;\n",
       "    }\n",
       "</style>\n",
       "<table border=\"1\" class=\"dataframe\">\n",
       "  <thead>\n",
       "    <tr style=\"text-align: right;\">\n",
       "      <th></th>\n",
       "      <th>Country.of.Origin</th>\n",
       "      <th>Region</th>\n",
       "    </tr>\n",
       "  </thead>\n",
       "  <tbody>\n",
       "    <tr>\n",
       "      <th>0</th>\n",
       "      <td>Ethiopia</td>\n",
       "      <td>Eastern Africa</td>\n",
       "    </tr>\n",
       "    <tr>\n",
       "      <th>1</th>\n",
       "      <td>Guatemala</td>\n",
       "      <td>Central America</td>\n",
       "    </tr>\n",
       "    <tr>\n",
       "      <th>2</th>\n",
       "      <td>Brazil</td>\n",
       "      <td>South America</td>\n",
       "    </tr>\n",
       "    <tr>\n",
       "      <th>3</th>\n",
       "      <td>Peru</td>\n",
       "      <td>South America</td>\n",
       "    </tr>\n",
       "    <tr>\n",
       "      <th>4</th>\n",
       "      <td>United States of America</td>\n",
       "      <td>Northern America</td>\n",
       "    </tr>\n",
       "    <tr>\n",
       "      <th>5</th>\n",
       "      <td>Indonesia</td>\n",
       "      <td>South-Eastern Asia</td>\n",
       "    </tr>\n",
       "    <tr>\n",
       "      <th>6</th>\n",
       "      <td>China</td>\n",
       "      <td>Eastern Asia</td>\n",
       "    </tr>\n",
       "    <tr>\n",
       "      <th>7</th>\n",
       "      <td>Costa Rica</td>\n",
       "      <td>Central America</td>\n",
       "    </tr>\n",
       "    <tr>\n",
       "      <th>8</th>\n",
       "      <td>Mexico</td>\n",
       "      <td>Central America</td>\n",
       "    </tr>\n",
       "    <tr>\n",
       "      <th>9</th>\n",
       "      <td>Uganda</td>\n",
       "      <td>Eastern Africa</td>\n",
       "    </tr>\n",
       "    <tr>\n",
       "      <th>10</th>\n",
       "      <td>Honduras</td>\n",
       "      <td>Central America</td>\n",
       "    </tr>\n",
       "    <tr>\n",
       "      <th>11</th>\n",
       "      <td>Taiwan</td>\n",
       "      <td>Eastern Asia</td>\n",
       "    </tr>\n",
       "    <tr>\n",
       "      <th>12</th>\n",
       "      <td>Nicaragua</td>\n",
       "      <td>Central America</td>\n",
       "    </tr>\n",
       "    <tr>\n",
       "      <th>13</th>\n",
       "      <td>Tanzania, United Republic Of</td>\n",
       "      <td>Eastern Africa</td>\n",
       "    </tr>\n",
       "    <tr>\n",
       "      <th>14</th>\n",
       "      <td>Kenya</td>\n",
       "      <td>Eastern Africa</td>\n",
       "    </tr>\n",
       "    <tr>\n",
       "      <th>15</th>\n",
       "      <td>Thailand</td>\n",
       "      <td>South-Eastern Asia</td>\n",
       "    </tr>\n",
       "    <tr>\n",
       "      <th>16</th>\n",
       "      <td>Colombia</td>\n",
       "      <td>South America</td>\n",
       "    </tr>\n",
       "    <tr>\n",
       "      <th>17</th>\n",
       "      <td>Panama</td>\n",
       "      <td>Central America</td>\n",
       "    </tr>\n",
       "    <tr>\n",
       "      <th>18</th>\n",
       "      <td>Papua New Guinea</td>\n",
       "      <td>Melanesia</td>\n",
       "    </tr>\n",
       "    <tr>\n",
       "      <th>19</th>\n",
       "      <td>El Salvador</td>\n",
       "      <td>Central America</td>\n",
       "    </tr>\n",
       "    <tr>\n",
       "      <th>20</th>\n",
       "      <td>Japan</td>\n",
       "      <td>Eastern Asia</td>\n",
       "    </tr>\n",
       "    <tr>\n",
       "      <th>21</th>\n",
       "      <td>Ecuador</td>\n",
       "      <td>South America</td>\n",
       "    </tr>\n",
       "    <tr>\n",
       "      <th>22</th>\n",
       "      <td>Haiti</td>\n",
       "      <td>Caribbean</td>\n",
       "    </tr>\n",
       "    <tr>\n",
       "      <th>23</th>\n",
       "      <td>Burundi</td>\n",
       "      <td>Eastern Africa</td>\n",
       "    </tr>\n",
       "    <tr>\n",
       "      <th>24</th>\n",
       "      <td>Philippines</td>\n",
       "      <td>South-Eastern Asia</td>\n",
       "    </tr>\n",
       "    <tr>\n",
       "      <th>25</th>\n",
       "      <td>Rwanda</td>\n",
       "      <td>Eastern Africa</td>\n",
       "    </tr>\n",
       "    <tr>\n",
       "      <th>26</th>\n",
       "      <td>Malawi</td>\n",
       "      <td>Eastern Africa</td>\n",
       "    </tr>\n",
       "    <tr>\n",
       "      <th>27</th>\n",
       "      <td>Laos</td>\n",
       "      <td>South-Eastern Asia</td>\n",
       "    </tr>\n",
       "    <tr>\n",
       "      <th>28</th>\n",
       "      <td>Zambia</td>\n",
       "      <td>Eastern Africa</td>\n",
       "    </tr>\n",
       "    <tr>\n",
       "      <th>29</th>\n",
       "      <td>Myanmar</td>\n",
       "      <td>South-Eastern Asia</td>\n",
       "    </tr>\n",
       "    <tr>\n",
       "      <th>30</th>\n",
       "      <td>Mauritius</td>\n",
       "      <td>Eastern Africa</td>\n",
       "    </tr>\n",
       "    <tr>\n",
       "      <th>31</th>\n",
       "      <td>Cote d?Ivoire</td>\n",
       "      <td>Western Africa</td>\n",
       "    </tr>\n",
       "    <tr>\n",
       "      <th>32</th>\n",
       "      <td>India</td>\n",
       "      <td>Southern Asia</td>\n",
       "    </tr>\n",
       "  </tbody>\n",
       "</table>\n",
       "</div>"
      ],
      "text/plain": [
       "               Country.of.Origin              Region\n",
       "0                       Ethiopia      Eastern Africa\n",
       "1                      Guatemala     Central America\n",
       "2                         Brazil       South America\n",
       "3                           Peru       South America\n",
       "4       United States of America    Northern America\n",
       "5                      Indonesia  South-Eastern Asia\n",
       "6                          China        Eastern Asia\n",
       "7                     Costa Rica     Central America\n",
       "8                         Mexico     Central America\n",
       "9                         Uganda      Eastern Africa\n",
       "10                      Honduras     Central America\n",
       "11                        Taiwan        Eastern Asia\n",
       "12                     Nicaragua     Central America\n",
       "13  Tanzania, United Republic Of      Eastern Africa\n",
       "14                         Kenya      Eastern Africa\n",
       "15                      Thailand  South-Eastern Asia\n",
       "16                      Colombia       South America\n",
       "17                        Panama     Central America\n",
       "18              Papua New Guinea           Melanesia\n",
       "19                   El Salvador     Central America\n",
       "20                         Japan        Eastern Asia\n",
       "21                       Ecuador       South America\n",
       "22                         Haiti           Caribbean\n",
       "23                       Burundi      Eastern Africa\n",
       "24                   Philippines  South-Eastern Asia\n",
       "25                        Rwanda      Eastern Africa\n",
       "26                        Malawi      Eastern Africa\n",
       "27                          Laos  South-Eastern Asia\n",
       "28                        Zambia      Eastern Africa\n",
       "29                       Myanmar  South-Eastern Asia\n",
       "30                     Mauritius      Eastern Africa\n",
       "31                 Cote d?Ivoire      Western Africa\n",
       "32                         India       Southern Asia"
      ]
     },
     "execution_count": 35,
     "metadata": {},
     "output_type": "execute_result"
    }
   ],
   "source": [
    "# Creating a list of all countries from each years data\n",
    "countries = df_quality['Country.of.Origin'].unique()\n",
    "\n",
    "# Calling out the function to fetch regions of countries in countries list\n",
    "country_list, region_list, not_found = fetchRegion(countries)\n",
    "\n",
    "# Creating a data frame with the list values returned from the function\n",
    "df_region = pd.DataFrame({\"Country.of.Origin\": country_list, \"Region\": region_list})\n",
    "\n",
    "print(f\"Countries Not Found: {not_found}\")\n",
    "df_region"
   ]
  },
  {
   "cell_type": "code",
   "execution_count": 36,
   "metadata": {
    "ExecuteTime": {
     "end_time": "2021-02-21T07:43:27.785346Z",
     "start_time": "2021-02-21T07:43:27.723348Z"
    }
   },
   "outputs": [
    {
     "data": {
      "text/html": [
       "<div>\n",
       "<style scoped>\n",
       "    .dataframe tbody tr th:only-of-type {\n",
       "        vertical-align: middle;\n",
       "    }\n",
       "\n",
       "    .dataframe tbody tr th {\n",
       "        vertical-align: top;\n",
       "    }\n",
       "\n",
       "    .dataframe thead th {\n",
       "        text-align: right;\n",
       "    }\n",
       "</style>\n",
       "<table border=\"1\" class=\"dataframe\">\n",
       "  <thead>\n",
       "    <tr style=\"text-align: right;\">\n",
       "      <th></th>\n",
       "      <th>Country.of.Origin</th>\n",
       "      <th>Species</th>\n",
       "      <th>Aroma</th>\n",
       "      <th>Flavor</th>\n",
       "      <th>Aftertaste</th>\n",
       "      <th>Acidity</th>\n",
       "      <th>Body</th>\n",
       "      <th>Balance</th>\n",
       "      <th>Uniformity</th>\n",
       "      <th>Clean.Cup</th>\n",
       "      <th>Sweetness</th>\n",
       "      <th>Moisture</th>\n",
       "      <th>Category.One.Defects</th>\n",
       "      <th>Category.Two.Defects</th>\n",
       "      <th>Region</th>\n",
       "    </tr>\n",
       "  </thead>\n",
       "  <tbody>\n",
       "    <tr>\n",
       "      <th>13</th>\n",
       "      <td>United States (Hawaii)</td>\n",
       "      <td>0</td>\n",
       "      <td>8.33</td>\n",
       "      <td>8.42</td>\n",
       "      <td>8.08</td>\n",
       "      <td>8.25</td>\n",
       "      <td>8.25</td>\n",
       "      <td>8.00</td>\n",
       "      <td>10.00</td>\n",
       "      <td>10.00</td>\n",
       "      <td>10.00</td>\n",
       "      <td>0.00</td>\n",
       "      <td>0</td>\n",
       "      <td>2</td>\n",
       "      <td>Northern America</td>\n",
       "    </tr>\n",
       "    <tr>\n",
       "      <th>36</th>\n",
       "      <td>United States (Hawaii)</td>\n",
       "      <td>0</td>\n",
       "      <td>8.08</td>\n",
       "      <td>8.17</td>\n",
       "      <td>8.00</td>\n",
       "      <td>7.92</td>\n",
       "      <td>7.92</td>\n",
       "      <td>7.83</td>\n",
       "      <td>10.00</td>\n",
       "      <td>10.00</td>\n",
       "      <td>10.00</td>\n",
       "      <td>0.00</td>\n",
       "      <td>1</td>\n",
       "      <td>4</td>\n",
       "      <td>Northern America</td>\n",
       "    </tr>\n",
       "    <tr>\n",
       "      <th>37</th>\n",
       "      <td>United States (Hawaii)</td>\n",
       "      <td>0</td>\n",
       "      <td>8.25</td>\n",
       "      <td>8.42</td>\n",
       "      <td>8.08</td>\n",
       "      <td>7.75</td>\n",
       "      <td>7.67</td>\n",
       "      <td>7.83</td>\n",
       "      <td>10.00</td>\n",
       "      <td>10.00</td>\n",
       "      <td>10.00</td>\n",
       "      <td>0.00</td>\n",
       "      <td>2</td>\n",
       "      <td>1</td>\n",
       "      <td>Northern America</td>\n",
       "    </tr>\n",
       "    <tr>\n",
       "      <th>51</th>\n",
       "      <td>United States (Hawaii)</td>\n",
       "      <td>0</td>\n",
       "      <td>8.33</td>\n",
       "      <td>8.17</td>\n",
       "      <td>7.75</td>\n",
       "      <td>8.00</td>\n",
       "      <td>7.75</td>\n",
       "      <td>7.83</td>\n",
       "      <td>10.00</td>\n",
       "      <td>10.00</td>\n",
       "      <td>10.00</td>\n",
       "      <td>0.00</td>\n",
       "      <td>0</td>\n",
       "      <td>0</td>\n",
       "      <td>Northern America</td>\n",
       "    </tr>\n",
       "    <tr>\n",
       "      <th>64</th>\n",
       "      <td>United States (Hawaii)</td>\n",
       "      <td>0</td>\n",
       "      <td>7.83</td>\n",
       "      <td>8.00</td>\n",
       "      <td>7.92</td>\n",
       "      <td>7.75</td>\n",
       "      <td>8.08</td>\n",
       "      <td>8.00</td>\n",
       "      <td>10.00</td>\n",
       "      <td>10.00</td>\n",
       "      <td>10.00</td>\n",
       "      <td>0.00</td>\n",
       "      <td>0</td>\n",
       "      <td>1</td>\n",
       "      <td>Northern America</td>\n",
       "    </tr>\n",
       "    <tr>\n",
       "      <th>...</th>\n",
       "      <td>...</td>\n",
       "      <td>...</td>\n",
       "      <td>...</td>\n",
       "      <td>...</td>\n",
       "      <td>...</td>\n",
       "      <td>...</td>\n",
       "      <td>...</td>\n",
       "      <td>...</td>\n",
       "      <td>...</td>\n",
       "      <td>...</td>\n",
       "      <td>...</td>\n",
       "      <td>...</td>\n",
       "      <td>...</td>\n",
       "      <td>...</td>\n",
       "      <td>...</td>\n",
       "    </tr>\n",
       "    <tr>\n",
       "      <th>1266</th>\n",
       "      <td>United States (Hawaii)</td>\n",
       "      <td>0</td>\n",
       "      <td>7.25</td>\n",
       "      <td>7.08</td>\n",
       "      <td>6.83</td>\n",
       "      <td>7.17</td>\n",
       "      <td>7.33</td>\n",
       "      <td>6.83</td>\n",
       "      <td>8.67</td>\n",
       "      <td>8.67</td>\n",
       "      <td>9.33</td>\n",
       "      <td>0.00</td>\n",
       "      <td>0</td>\n",
       "      <td>0</td>\n",
       "      <td>Northern America</td>\n",
       "    </tr>\n",
       "    <tr>\n",
       "      <th>1267</th>\n",
       "      <td>United States (Hawaii)</td>\n",
       "      <td>0</td>\n",
       "      <td>7.50</td>\n",
       "      <td>7.33</td>\n",
       "      <td>7.33</td>\n",
       "      <td>7.58</td>\n",
       "      <td>7.67</td>\n",
       "      <td>7.25</td>\n",
       "      <td>8.00</td>\n",
       "      <td>8.00</td>\n",
       "      <td>8.00</td>\n",
       "      <td>0.00</td>\n",
       "      <td>0</td>\n",
       "      <td>3</td>\n",
       "      <td>Northern America</td>\n",
       "    </tr>\n",
       "    <tr>\n",
       "      <th>1286</th>\n",
       "      <td>United States (Hawaii)</td>\n",
       "      <td>0</td>\n",
       "      <td>7.50</td>\n",
       "      <td>7.25</td>\n",
       "      <td>7.00</td>\n",
       "      <td>7.25</td>\n",
       "      <td>7.42</td>\n",
       "      <td>7.33</td>\n",
       "      <td>8.00</td>\n",
       "      <td>8.67</td>\n",
       "      <td>6.67</td>\n",
       "      <td>0.00</td>\n",
       "      <td>1</td>\n",
       "      <td>2</td>\n",
       "      <td>Northern America</td>\n",
       "    </tr>\n",
       "    <tr>\n",
       "      <th>1291</th>\n",
       "      <td>United States (Hawaii)</td>\n",
       "      <td>0</td>\n",
       "      <td>7.17</td>\n",
       "      <td>7.17</td>\n",
       "      <td>7.17</td>\n",
       "      <td>7.58</td>\n",
       "      <td>7.67</td>\n",
       "      <td>6.92</td>\n",
       "      <td>9.33</td>\n",
       "      <td>6.67</td>\n",
       "      <td>6.67</td>\n",
       "      <td>0.00</td>\n",
       "      <td>9</td>\n",
       "      <td>17</td>\n",
       "      <td>Northern America</td>\n",
       "    </tr>\n",
       "    <tr>\n",
       "      <th>1296</th>\n",
       "      <td>United States (Hawaii)</td>\n",
       "      <td>0</td>\n",
       "      <td>6.92</td>\n",
       "      <td>6.92</td>\n",
       "      <td>6.92</td>\n",
       "      <td>7.50</td>\n",
       "      <td>7.58</td>\n",
       "      <td>7.17</td>\n",
       "      <td>6.67</td>\n",
       "      <td>6.67</td>\n",
       "      <td>9.33</td>\n",
       "      <td>0.11</td>\n",
       "      <td>5</td>\n",
       "      <td>9</td>\n",
       "      <td>Northern America</td>\n",
       "    </tr>\n",
       "  </tbody>\n",
       "</table>\n",
       "<p>73 rows × 15 columns</p>\n",
       "</div>"
      ],
      "text/plain": [
       "           Country.of.Origin  Species  Aroma  Flavor  Aftertaste  Acidity  \\\n",
       "13    United States (Hawaii)        0   8.33    8.42        8.08     8.25   \n",
       "36    United States (Hawaii)        0   8.08    8.17        8.00     7.92   \n",
       "37    United States (Hawaii)        0   8.25    8.42        8.08     7.75   \n",
       "51    United States (Hawaii)        0   8.33    8.17        7.75     8.00   \n",
       "64    United States (Hawaii)        0   7.83    8.00        7.92     7.75   \n",
       "...                      ...      ...    ...     ...         ...      ...   \n",
       "1266  United States (Hawaii)        0   7.25    7.08        6.83     7.17   \n",
       "1267  United States (Hawaii)        0   7.50    7.33        7.33     7.58   \n",
       "1286  United States (Hawaii)        0   7.50    7.25        7.00     7.25   \n",
       "1291  United States (Hawaii)        0   7.17    7.17        7.17     7.58   \n",
       "1296  United States (Hawaii)        0   6.92    6.92        6.92     7.50   \n",
       "\n",
       "      Body  Balance  Uniformity  Clean.Cup  Sweetness  Moisture  \\\n",
       "13    8.25     8.00       10.00      10.00      10.00      0.00   \n",
       "36    7.92     7.83       10.00      10.00      10.00      0.00   \n",
       "37    7.67     7.83       10.00      10.00      10.00      0.00   \n",
       "51    7.75     7.83       10.00      10.00      10.00      0.00   \n",
       "64    8.08     8.00       10.00      10.00      10.00      0.00   \n",
       "...    ...      ...         ...        ...        ...       ...   \n",
       "1266  7.33     6.83        8.67       8.67       9.33      0.00   \n",
       "1267  7.67     7.25        8.00       8.00       8.00      0.00   \n",
       "1286  7.42     7.33        8.00       8.67       6.67      0.00   \n",
       "1291  7.67     6.92        9.33       6.67       6.67      0.00   \n",
       "1296  7.58     7.17        6.67       6.67       9.33      0.11   \n",
       "\n",
       "      Category.One.Defects  Category.Two.Defects            Region  \n",
       "13                       0                     2  Northern America  \n",
       "36                       1                     4  Northern America  \n",
       "37                       2                     1  Northern America  \n",
       "51                       0                     0  Northern America  \n",
       "64                       0                     1  Northern America  \n",
       "...                    ...                   ...               ...  \n",
       "1266                     0                     0  Northern America  \n",
       "1267                     0                     3  Northern America  \n",
       "1286                     1                     2  Northern America  \n",
       "1291                     9                    17  Northern America  \n",
       "1296                     5                     9  Northern America  \n",
       "\n",
       "[73 rows x 15 columns]"
      ]
     },
     "execution_count": 36,
     "metadata": {},
     "output_type": "execute_result"
    }
   ],
   "source": [
    "# Merging region with the coffee quality's data frame\n",
    "merge_df = df_quality.merge(df_region, on=\"Country.of.Origin\", how=\"left\")\n",
    "\n",
    "merge_df.loc[merge_df['Country.of.Origin'] == \"United States (Hawaii)\",'Region']='Northern America'\n",
    "merge_df.loc[merge_df['Country.of.Origin'] == \"United States (Hawaii)\"]"
   ]
  },
  {
   "cell_type": "code",
   "execution_count": 37,
   "metadata": {
    "ExecuteTime": {
     "end_time": "2021-02-21T07:43:28.089347Z",
     "start_time": "2021-02-21T07:43:27.787346Z"
    }
   },
   "outputs": [
    {
     "data": {
      "text/plain": [
       "Central America       572\n",
       "South America         329\n",
       "Eastern Africa        161\n",
       "Eastern Asia           92\n",
       "Northern America       83\n",
       "South-Eastern Asia     68\n",
       "Southern Asia          14\n",
       "Caribbean               6\n",
       "Melanesia               1\n",
       "Western Africa          1\n",
       "Name: Region, dtype: int64"
      ]
     },
     "execution_count": 37,
     "metadata": {},
     "output_type": "execute_result"
    },
    {
     "data": {
      "image/png": "[encoded data removed]",
      "text/plain": [
       "<Figure size 720x360 with 1 Axes>"
      ]
     },
     "metadata": {},
     "output_type": "display_data"
    }
   ],
   "source": [
    "target_count = merge_df['Region'].value_counts()\n",
    "fig = plt.figure(figsize=(10,5))\n",
    "fig.patch.set_facecolor('white')\n",
    "target_count.plot(kind='bar', title='Count of Country Records');\n",
    "merge_df['Region'].value_counts()"
   ]
  },
  {
   "cell_type": "code",
   "execution_count": null,
   "metadata": {},
   "outputs": [],
   "source": []
  }
 ],
 "metadata": {
  "hide_input": false,
  "kernelspec": {
   "display_name": "Python 3",
   "language": "python",
   "name": "python3"
  },
  "language_info": {
   "codemirror_mode": {
    "name": "ipython",
    "version": 3
   },
   "file_extension": ".py",
   "mimetype": "text/x-python",
   "name": "python",
   "nbconvert_exporter": "python",
   "pygments_lexer": "ipython3",
   "version": "3.7.9"
  },
  "toc": {
   "base_numbering": 1,
   "nav_menu": {},
   "number_sections": true,
   "sideBar": true,
   "skip_h1_title": false,
   "title_cell": "Table of Contents",
   "title_sidebar": "Contents",
   "toc_cell": false,
   "toc_position": {},
   "toc_section_display": true,
   "toc_window_display": false
  },
  "varInspector": {
   "cols": {
    "lenName": 16,
    "lenType": 16,
    "lenVar": 40
   },
   "kernels_config": {
    "python": {
     "delete_cmd_postfix": "",
     "delete_cmd_prefix": "del ",
     "library": "var_list.py",
     "varRefreshCmd": "print(var_dic_list())"
    },
    "r": {
     "delete_cmd_postfix": ") ",
     "delete_cmd_prefix": "rm(",
     "library": "var_list.r",
     "varRefreshCmd": "cat(var_dic_list()) "
    }
   },
   "types_to_exclude": [
    "module",
    "function",
    "builtin_function_or_method",
    "instance",
    "_Feature"
   ],
   "window_display": false
  }
 },
 "nbformat": 4,
 "nbformat_minor": 4
}
