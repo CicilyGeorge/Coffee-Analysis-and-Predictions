{
 "cells": [
  {
   "cell_type": "code",
   "execution_count": 1,
   "metadata": {
    "ExecuteTime": {
     "end_time": "2021-02-24T07:02:37.652997Z",
     "start_time": "2021-02-24T07:02:36.062715Z"
    }
   },
   "outputs": [],
   "source": [
    "import pandas as pd\n",
    "import numpy as np\n",
    "import matplotlib.pyplot as plt\n",
    "import seaborn as sns\n",
    "%matplotlib inline"
   ]
  },
  {
   "cell_type": "markdown",
   "metadata": {},
   "source": [
    "## Data Cleaning"
   ]
  },
  {
   "cell_type": "code",
   "execution_count": 2,
   "metadata": {
    "ExecuteTime": {
     "end_time": "2021-02-24T07:02:37.716983Z",
     "start_time": "2021-02-24T07:02:37.655981Z"
    }
   },
   "outputs": [
    {
     "data": {
      "text/html": [
       "<div>\n",
       "<style scoped>\n",
       "    .dataframe tbody tr th:only-of-type {\n",
       "        vertical-align: middle;\n",
       "    }\n",
       "\n",
       "    .dataframe tbody tr th {\n",
       "        vertical-align: top;\n",
       "    }\n",
       "\n",
       "    .dataframe thead th {\n",
       "        text-align: right;\n",
       "    }\n",
       "</style>\n",
       "<table border=\"1\" class=\"dataframe\">\n",
       "  <thead>\n",
       "    <tr style=\"text-align: right;\">\n",
       "      <th></th>\n",
       "      <th>Unnamed: 0</th>\n",
       "      <th>Species</th>\n",
       "      <th>Owner</th>\n",
       "      <th>Country.of.Origin</th>\n",
       "      <th>Farm.Name</th>\n",
       "      <th>Lot.Number</th>\n",
       "      <th>Mill</th>\n",
       "      <th>ICO.Number</th>\n",
       "      <th>Company</th>\n",
       "      <th>Altitude</th>\n",
       "      <th>...</th>\n",
       "      <th>Color</th>\n",
       "      <th>Category.Two.Defects</th>\n",
       "      <th>Expiration</th>\n",
       "      <th>Certification.Body</th>\n",
       "      <th>Certification.Address</th>\n",
       "      <th>Certification.Contact</th>\n",
       "      <th>unit_of_measurement</th>\n",
       "      <th>altitude_low_meters</th>\n",
       "      <th>altitude_high_meters</th>\n",
       "      <th>altitude_mean_meters</th>\n",
       "    </tr>\n",
       "  </thead>\n",
       "  <tbody>\n",
       "    <tr>\n",
       "      <th>0</th>\n",
       "      <td>0</td>\n",
       "      <td>Arabica</td>\n",
       "      <td>metad plc</td>\n",
       "      <td>Ethiopia</td>\n",
       "      <td>metad plc</td>\n",
       "      <td>NaN</td>\n",
       "      <td>metad plc</td>\n",
       "      <td>2014/2015</td>\n",
       "      <td>metad agricultural developmet plc</td>\n",
       "      <td>1950-2200</td>\n",
       "      <td>...</td>\n",
       "      <td>Green</td>\n",
       "      <td>0</td>\n",
       "      <td>April 3rd, 2016</td>\n",
       "      <td>METAD Agricultural Development plc</td>\n",
       "      <td>309fcf77415a3661ae83e027f7e5f05dad786e44</td>\n",
       "      <td>19fef5a731de2db57d16da10287413f5f99bc2dd</td>\n",
       "      <td>m</td>\n",
       "      <td>1950.0</td>\n",
       "      <td>2200.0</td>\n",
       "      <td>2075.0</td>\n",
       "    </tr>\n",
       "    <tr>\n",
       "      <th>1</th>\n",
       "      <td>1</td>\n",
       "      <td>Arabica</td>\n",
       "      <td>metad plc</td>\n",
       "      <td>Ethiopia</td>\n",
       "      <td>metad plc</td>\n",
       "      <td>NaN</td>\n",
       "      <td>metad plc</td>\n",
       "      <td>2014/2015</td>\n",
       "      <td>metad agricultural developmet plc</td>\n",
       "      <td>1950-2200</td>\n",
       "      <td>...</td>\n",
       "      <td>Green</td>\n",
       "      <td>1</td>\n",
       "      <td>April 3rd, 2016</td>\n",
       "      <td>METAD Agricultural Development plc</td>\n",
       "      <td>309fcf77415a3661ae83e027f7e5f05dad786e44</td>\n",
       "      <td>19fef5a731de2db57d16da10287413f5f99bc2dd</td>\n",
       "      <td>m</td>\n",
       "      <td>1950.0</td>\n",
       "      <td>2200.0</td>\n",
       "      <td>2075.0</td>\n",
       "    </tr>\n",
       "    <tr>\n",
       "      <th>2</th>\n",
       "      <td>2</td>\n",
       "      <td>Arabica</td>\n",
       "      <td>grounds for health admin</td>\n",
       "      <td>Guatemala</td>\n",
       "      <td>san marcos barrancas \"san cristobal cuch</td>\n",
       "      <td>NaN</td>\n",
       "      <td>NaN</td>\n",
       "      <td>NaN</td>\n",
       "      <td>NaN</td>\n",
       "      <td>1600 - 1800 m</td>\n",
       "      <td>...</td>\n",
       "      <td>NaN</td>\n",
       "      <td>0</td>\n",
       "      <td>May 31st, 2011</td>\n",
       "      <td>Specialty Coffee Association</td>\n",
       "      <td>36d0d00a3724338ba7937c52a378d085f2172daa</td>\n",
       "      <td>0878a7d4b9d35ddbf0fe2ce69a2062cceb45a660</td>\n",
       "      <td>m</td>\n",
       "      <td>1600.0</td>\n",
       "      <td>1800.0</td>\n",
       "      <td>1700.0</td>\n",
       "    </tr>\n",
       "    <tr>\n",
       "      <th>3</th>\n",
       "      <td>3</td>\n",
       "      <td>Arabica</td>\n",
       "      <td>yidnekachew dabessa</td>\n",
       "      <td>Ethiopia</td>\n",
       "      <td>yidnekachew dabessa coffee plantation</td>\n",
       "      <td>NaN</td>\n",
       "      <td>wolensu</td>\n",
       "      <td>NaN</td>\n",
       "      <td>yidnekachew debessa coffee plantation</td>\n",
       "      <td>1800-2200</td>\n",
       "      <td>...</td>\n",
       "      <td>Green</td>\n",
       "      <td>2</td>\n",
       "      <td>March 25th, 2016</td>\n",
       "      <td>METAD Agricultural Development plc</td>\n",
       "      <td>309fcf77415a3661ae83e027f7e5f05dad786e44</td>\n",
       "      <td>19fef5a731de2db57d16da10287413f5f99bc2dd</td>\n",
       "      <td>m</td>\n",
       "      <td>1800.0</td>\n",
       "      <td>2200.0</td>\n",
       "      <td>2000.0</td>\n",
       "    </tr>\n",
       "    <tr>\n",
       "      <th>4</th>\n",
       "      <td>4</td>\n",
       "      <td>Arabica</td>\n",
       "      <td>metad plc</td>\n",
       "      <td>Ethiopia</td>\n",
       "      <td>metad plc</td>\n",
       "      <td>NaN</td>\n",
       "      <td>metad plc</td>\n",
       "      <td>2014/2015</td>\n",
       "      <td>metad agricultural developmet plc</td>\n",
       "      <td>1950-2200</td>\n",
       "      <td>...</td>\n",
       "      <td>Green</td>\n",
       "      <td>2</td>\n",
       "      <td>April 3rd, 2016</td>\n",
       "      <td>METAD Agricultural Development plc</td>\n",
       "      <td>309fcf77415a3661ae83e027f7e5f05dad786e44</td>\n",
       "      <td>19fef5a731de2db57d16da10287413f5f99bc2dd</td>\n",
       "      <td>m</td>\n",
       "      <td>1950.0</td>\n",
       "      <td>2200.0</td>\n",
       "      <td>2075.0</td>\n",
       "    </tr>\n",
       "  </tbody>\n",
       "</table>\n",
       "<p>5 rows × 44 columns</p>\n",
       "</div>"
      ],
      "text/plain": [
       "   Unnamed: 0  Species                     Owner Country.of.Origin  \\\n",
       "0           0  Arabica                 metad plc          Ethiopia   \n",
       "1           1  Arabica                 metad plc          Ethiopia   \n",
       "2           2  Arabica  grounds for health admin         Guatemala   \n",
       "3           3  Arabica       yidnekachew dabessa          Ethiopia   \n",
       "4           4  Arabica                 metad plc          Ethiopia   \n",
       "\n",
       "                                  Farm.Name Lot.Number       Mill ICO.Number  \\\n",
       "0                                 metad plc        NaN  metad plc  2014/2015   \n",
       "1                                 metad plc        NaN  metad plc  2014/2015   \n",
       "2  san marcos barrancas \"san cristobal cuch        NaN        NaN        NaN   \n",
       "3     yidnekachew dabessa coffee plantation        NaN    wolensu        NaN   \n",
       "4                                 metad plc        NaN  metad plc  2014/2015   \n",
       "\n",
       "                                 Company       Altitude  ...  Color  \\\n",
       "0      metad agricultural developmet plc      1950-2200  ...  Green   \n",
       "1      metad agricultural developmet plc      1950-2200  ...  Green   \n",
       "2                                    NaN  1600 - 1800 m  ...    NaN   \n",
       "3  yidnekachew debessa coffee plantation      1800-2200  ...  Green   \n",
       "4      metad agricultural developmet plc      1950-2200  ...  Green   \n",
       "\n",
       "  Category.Two.Defects        Expiration                  Certification.Body  \\\n",
       "0                    0   April 3rd, 2016  METAD Agricultural Development plc   \n",
       "1                    1   April 3rd, 2016  METAD Agricultural Development plc   \n",
       "2                    0    May 31st, 2011        Specialty Coffee Association   \n",
       "3                    2  March 25th, 2016  METAD Agricultural Development plc   \n",
       "4                    2   April 3rd, 2016  METAD Agricultural Development plc   \n",
       "\n",
       "                      Certification.Address  \\\n",
       "0  309fcf77415a3661ae83e027f7e5f05dad786e44   \n",
       "1  309fcf77415a3661ae83e027f7e5f05dad786e44   \n",
       "2  36d0d00a3724338ba7937c52a378d085f2172daa   \n",
       "3  309fcf77415a3661ae83e027f7e5f05dad786e44   \n",
       "4  309fcf77415a3661ae83e027f7e5f05dad786e44   \n",
       "\n",
       "                      Certification.Contact unit_of_measurement  \\\n",
       "0  19fef5a731de2db57d16da10287413f5f99bc2dd                   m   \n",
       "1  19fef5a731de2db57d16da10287413f5f99bc2dd                   m   \n",
       "2  0878a7d4b9d35ddbf0fe2ce69a2062cceb45a660                   m   \n",
       "3  19fef5a731de2db57d16da10287413f5f99bc2dd                   m   \n",
       "4  19fef5a731de2db57d16da10287413f5f99bc2dd                   m   \n",
       "\n",
       "  altitude_low_meters altitude_high_meters altitude_mean_meters  \n",
       "0              1950.0               2200.0               2075.0  \n",
       "1              1950.0               2200.0               2075.0  \n",
       "2              1600.0               1800.0               1700.0  \n",
       "3              1800.0               2200.0               2000.0  \n",
       "4              1950.0               2200.0               2075.0  \n",
       "\n",
       "[5 rows x 44 columns]"
      ]
     },
     "execution_count": 2,
     "metadata": {},
     "output_type": "execute_result"
    }
   ],
   "source": [
    "# Reading merged data Arabica 98% and Robusta 2% of records\n",
    "df_quality = pd.read_csv(\"data/merged_data_cleaned.csv\")\n",
    "df_quality.head()"
   ]
  },
  {
   "cell_type": "code",
   "execution_count": 3,
   "metadata": {
    "ExecuteTime": {
     "end_time": "2021-02-24T07:02:37.889776Z",
     "start_time": "2021-02-24T07:02:37.718983Z"
    }
   },
   "outputs": [],
   "source": [
    "################### Quality Measures - Features ####################\n",
    "# Aroma\n",
    "# Flavor\n",
    "# Aftertaste\n",
    "# Acidity\n",
    "# Body\n",
    "# Balance\n",
    "# Uniformity\n",
    "# Cup Cleanliness\n",
    "# Sweetness\n",
    "# Moisture\n",
    "# Defects\n",
    "################### Bean Metadata - Labels ####################\n",
    "# Species (arabica / robusta)\n",
    "# Country of Origin\n",
    "# Processing.Method'\n",
    "\n",
    "df_quality = df_quality[['altitude_mean_meters', 'unit_of_measurement', 'Country.of.Origin', 'Species', 'Aroma', 'Flavor', 'Aftertaste', 'Acidity', \n",
    "                         'Body', 'Balance', 'Uniformity', 'Clean.Cup', 'Sweetness',\n",
    "                         'Moisture', 'Category.One.Defects', 'Category.Two.Defects']]"
   ]
  },
  {
   "cell_type": "code",
   "execution_count": 4,
   "metadata": {
    "ExecuteTime": {
     "end_time": "2021-02-24T07:02:38.091510Z",
     "start_time": "2021-02-24T07:02:37.890759Z"
    }
   },
   "outputs": [
    {
     "data": {
      "text/plain": [
       "altitude_mean_meters    230\n",
       "unit_of_measurement       0\n",
       "Country.of.Origin         1\n",
       "Species                   0\n",
       "Aroma                     0\n",
       "Flavor                    0\n",
       "Aftertaste                0\n",
       "Acidity                   0\n",
       "Body                      0\n",
       "Balance                   0\n",
       "Uniformity                0\n",
       "Clean.Cup                 0\n",
       "Sweetness                 0\n",
       "Moisture                  0\n",
       "Category.One.Defects      0\n",
       "Category.Two.Defects      0\n",
       "dtype: int64"
      ]
     },
     "execution_count": 4,
     "metadata": {},
     "output_type": "execute_result"
    }
   ],
   "source": [
    "# check for null values in data\n",
    "df_quality.isnull().sum()"
   ]
  },
  {
   "cell_type": "code",
   "execution_count": 5,
   "metadata": {
    "ExecuteTime": {
     "end_time": "2021-02-24T07:02:38.311246Z",
     "start_time": "2021-02-24T07:02:38.093508Z"
    }
   },
   "outputs": [
    {
     "data": {
      "text/plain": [
       "altitude_mean_meters    0\n",
       "unit_of_measurement     0\n",
       "Country.of.Origin       0\n",
       "Species                 0\n",
       "Aroma                   0\n",
       "Flavor                  0\n",
       "Aftertaste              0\n",
       "Acidity                 0\n",
       "Body                    0\n",
       "Balance                 0\n",
       "Uniformity              0\n",
       "Clean.Cup               0\n",
       "Sweetness               0\n",
       "Moisture                0\n",
       "Category.One.Defects    0\n",
       "Category.Two.Defects    0\n",
       "dtype: int64"
      ]
     },
     "execution_count": 5,
     "metadata": {},
     "output_type": "execute_result"
    }
   ],
   "source": [
    "# # From Data, it was evident that the only missing country was Columbia \n",
    "# # because the Owner \"racafe & cia s.c.a\" has records in Columbia only \n",
    "# # and In.Country.Partner column value \"AlmacafÃ©\" is only for Columbia and United States\n",
    "\n",
    "df_quality['Country.of.Origin'] = df_quality['Country.of.Origin'].fillna('Colombia')\n",
    "# Dropping all other null value rows\n",
    "df_quality.dropna(inplace=True)\n",
    "# checking again for null values in data\n",
    "df_quality.isnull().sum()"
   ]
  },
  {
   "cell_type": "code",
   "execution_count": 6,
   "metadata": {
    "ExecuteTime": {
     "end_time": "2021-02-24T07:02:38.497907Z",
     "start_time": "2021-02-24T07:02:38.312236Z"
    }
   },
   "outputs": [
    {
     "data": {
      "text/html": [
       "<div>\n",
       "<style scoped>\n",
       "    .dataframe tbody tr th:only-of-type {\n",
       "        vertical-align: middle;\n",
       "    }\n",
       "\n",
       "    .dataframe tbody tr th {\n",
       "        vertical-align: top;\n",
       "    }\n",
       "\n",
       "    .dataframe thead th {\n",
       "        text-align: right;\n",
       "    }\n",
       "</style>\n",
       "<table border=\"1\" class=\"dataframe\">\n",
       "  <thead>\n",
       "    <tr style=\"text-align: right;\">\n",
       "      <th></th>\n",
       "      <th>altitude_mean_meters</th>\n",
       "      <th>unit_of_measurement</th>\n",
       "      <th>Country.of.Origin</th>\n",
       "      <th>Species</th>\n",
       "      <th>Aroma</th>\n",
       "      <th>Flavor</th>\n",
       "      <th>Aftertaste</th>\n",
       "      <th>Acidity</th>\n",
       "      <th>Body</th>\n",
       "      <th>Balance</th>\n",
       "      <th>Uniformity</th>\n",
       "      <th>Clean.Cup</th>\n",
       "      <th>Sweetness</th>\n",
       "      <th>Moisture</th>\n",
       "      <th>Category.One.Defects</th>\n",
       "      <th>Category.Two.Defects</th>\n",
       "    </tr>\n",
       "  </thead>\n",
       "  <tbody>\n",
       "    <tr>\n",
       "      <th>13</th>\n",
       "      <td>609.600</td>\n",
       "      <td>ft</td>\n",
       "      <td>United States (Hawaii)</td>\n",
       "      <td>Arabica</td>\n",
       "      <td>8.33</td>\n",
       "      <td>8.42</td>\n",
       "      <td>8.08</td>\n",
       "      <td>8.25</td>\n",
       "      <td>8.25</td>\n",
       "      <td>8.00</td>\n",
       "      <td>10.00</td>\n",
       "      <td>10.00</td>\n",
       "      <td>10.00</td>\n",
       "      <td>0.00</td>\n",
       "      <td>0</td>\n",
       "      <td>2</td>\n",
       "    </tr>\n",
       "    <tr>\n",
       "      <th>51</th>\n",
       "      <td>426.720</td>\n",
       "      <td>ft</td>\n",
       "      <td>United States (Hawaii)</td>\n",
       "      <td>Arabica</td>\n",
       "      <td>8.33</td>\n",
       "      <td>8.17</td>\n",
       "      <td>7.75</td>\n",
       "      <td>8.00</td>\n",
       "      <td>7.75</td>\n",
       "      <td>7.83</td>\n",
       "      <td>10.00</td>\n",
       "      <td>10.00</td>\n",
       "      <td>10.00</td>\n",
       "      <td>0.00</td>\n",
       "      <td>0</td>\n",
       "      <td>0</td>\n",
       "    </tr>\n",
       "    <tr>\n",
       "      <th>57</th>\n",
       "      <td>1524.000</td>\n",
       "      <td>ft</td>\n",
       "      <td>Guatemala</td>\n",
       "      <td>Arabica</td>\n",
       "      <td>7.83</td>\n",
       "      <td>8.00</td>\n",
       "      <td>8.00</td>\n",
       "      <td>8.17</td>\n",
       "      <td>7.83</td>\n",
       "      <td>8.00</td>\n",
       "      <td>10.00</td>\n",
       "      <td>10.00</td>\n",
       "      <td>10.00</td>\n",
       "      <td>0.12</td>\n",
       "      <td>0</td>\n",
       "      <td>3</td>\n",
       "    </tr>\n",
       "    <tr>\n",
       "      <th>58</th>\n",
       "      <td>1417.320</td>\n",
       "      <td>ft</td>\n",
       "      <td>Guatemala</td>\n",
       "      <td>Arabica</td>\n",
       "      <td>8.00</td>\n",
       "      <td>8.00</td>\n",
       "      <td>7.83</td>\n",
       "      <td>8.33</td>\n",
       "      <td>7.83</td>\n",
       "      <td>7.83</td>\n",
       "      <td>10.00</td>\n",
       "      <td>10.00</td>\n",
       "      <td>10.00</td>\n",
       "      <td>0.10</td>\n",
       "      <td>0</td>\n",
       "      <td>1</td>\n",
       "    </tr>\n",
       "    <tr>\n",
       "      <th>69</th>\n",
       "      <td>1731.264</td>\n",
       "      <td>ft</td>\n",
       "      <td>Guatemala</td>\n",
       "      <td>Arabica</td>\n",
       "      <td>8.00</td>\n",
       "      <td>7.83</td>\n",
       "      <td>7.67</td>\n",
       "      <td>8.33</td>\n",
       "      <td>7.83</td>\n",
       "      <td>8.00</td>\n",
       "      <td>10.00</td>\n",
       "      <td>10.00</td>\n",
       "      <td>10.00</td>\n",
       "      <td>0.11</td>\n",
       "      <td>0</td>\n",
       "      <td>1</td>\n",
       "    </tr>\n",
       "    <tr>\n",
       "      <th>...</th>\n",
       "      <td>...</td>\n",
       "      <td>...</td>\n",
       "      <td>...</td>\n",
       "      <td>...</td>\n",
       "      <td>...</td>\n",
       "      <td>...</td>\n",
       "      <td>...</td>\n",
       "      <td>...</td>\n",
       "      <td>...</td>\n",
       "      <td>...</td>\n",
       "      <td>...</td>\n",
       "      <td>...</td>\n",
       "      <td>...</td>\n",
       "      <td>...</td>\n",
       "      <td>...</td>\n",
       "      <td>...</td>\n",
       "    </tr>\n",
       "    <tr>\n",
       "      <th>1254</th>\n",
       "      <td>1219.200</td>\n",
       "      <td>ft</td>\n",
       "      <td>Guatemala</td>\n",
       "      <td>Arabica</td>\n",
       "      <td>7.33</td>\n",
       "      <td>7.00</td>\n",
       "      <td>6.83</td>\n",
       "      <td>7.17</td>\n",
       "      <td>7.17</td>\n",
       "      <td>7.17</td>\n",
       "      <td>9.33</td>\n",
       "      <td>9.33</td>\n",
       "      <td>9.33</td>\n",
       "      <td>0.10</td>\n",
       "      <td>1</td>\n",
       "      <td>2</td>\n",
       "    </tr>\n",
       "    <tr>\n",
       "      <th>1264</th>\n",
       "      <td>1310.640</td>\n",
       "      <td>ft</td>\n",
       "      <td>Guatemala</td>\n",
       "      <td>Arabica</td>\n",
       "      <td>7.50</td>\n",
       "      <td>7.00</td>\n",
       "      <td>6.83</td>\n",
       "      <td>7.50</td>\n",
       "      <td>7.17</td>\n",
       "      <td>7.33</td>\n",
       "      <td>8.67</td>\n",
       "      <td>8.67</td>\n",
       "      <td>8.67</td>\n",
       "      <td>0.11</td>\n",
       "      <td>0</td>\n",
       "      <td>8</td>\n",
       "    </tr>\n",
       "    <tr>\n",
       "      <th>1274</th>\n",
       "      <td>1310.640</td>\n",
       "      <td>ft</td>\n",
       "      <td>Guatemala</td>\n",
       "      <td>Arabica</td>\n",
       "      <td>7.92</td>\n",
       "      <td>7.58</td>\n",
       "      <td>7.17</td>\n",
       "      <td>7.58</td>\n",
       "      <td>7.33</td>\n",
       "      <td>7.17</td>\n",
       "      <td>8.00</td>\n",
       "      <td>8.00</td>\n",
       "      <td>8.00</td>\n",
       "      <td>0.11</td>\n",
       "      <td>0</td>\n",
       "      <td>15</td>\n",
       "    </tr>\n",
       "    <tr>\n",
       "      <th>1287</th>\n",
       "      <td>1310.640</td>\n",
       "      <td>ft</td>\n",
       "      <td>Guatemala</td>\n",
       "      <td>Arabica</td>\n",
       "      <td>6.50</td>\n",
       "      <td>6.33</td>\n",
       "      <td>6.50</td>\n",
       "      <td>7.50</td>\n",
       "      <td>7.33</td>\n",
       "      <td>6.83</td>\n",
       "      <td>8.67</td>\n",
       "      <td>10.00</td>\n",
       "      <td>8.67</td>\n",
       "      <td>0.11</td>\n",
       "      <td>1</td>\n",
       "      <td>1</td>\n",
       "    </tr>\n",
       "    <tr>\n",
       "      <th>1309</th>\n",
       "      <td>1417.320</td>\n",
       "      <td>ft</td>\n",
       "      <td>Guatemala</td>\n",
       "      <td>Arabica</td>\n",
       "      <td>7.50</td>\n",
       "      <td>6.67</td>\n",
       "      <td>6.67</td>\n",
       "      <td>7.67</td>\n",
       "      <td>7.33</td>\n",
       "      <td>6.67</td>\n",
       "      <td>8.00</td>\n",
       "      <td>1.33</td>\n",
       "      <td>1.33</td>\n",
       "      <td>0.10</td>\n",
       "      <td>0</td>\n",
       "      <td>4</td>\n",
       "    </tr>\n",
       "  </tbody>\n",
       "</table>\n",
       "<p>111 rows × 16 columns</p>\n",
       "</div>"
      ],
      "text/plain": [
       "      altitude_mean_meters unit_of_measurement       Country.of.Origin  \\\n",
       "13                 609.600                  ft  United States (Hawaii)   \n",
       "51                 426.720                  ft  United States (Hawaii)   \n",
       "57                1524.000                  ft               Guatemala   \n",
       "58                1417.320                  ft               Guatemala   \n",
       "69                1731.264                  ft               Guatemala   \n",
       "...                    ...                 ...                     ...   \n",
       "1254              1219.200                  ft               Guatemala   \n",
       "1264              1310.640                  ft               Guatemala   \n",
       "1274              1310.640                  ft               Guatemala   \n",
       "1287              1310.640                  ft               Guatemala   \n",
       "1309              1417.320                  ft               Guatemala   \n",
       "\n",
       "      Species  Aroma  Flavor  Aftertaste  Acidity  Body  Balance  Uniformity  \\\n",
       "13    Arabica   8.33    8.42        8.08     8.25  8.25     8.00       10.00   \n",
       "51    Arabica   8.33    8.17        7.75     8.00  7.75     7.83       10.00   \n",
       "57    Arabica   7.83    8.00        8.00     8.17  7.83     8.00       10.00   \n",
       "58    Arabica   8.00    8.00        7.83     8.33  7.83     7.83       10.00   \n",
       "69    Arabica   8.00    7.83        7.67     8.33  7.83     8.00       10.00   \n",
       "...       ...    ...     ...         ...      ...   ...      ...         ...   \n",
       "1254  Arabica   7.33    7.00        6.83     7.17  7.17     7.17        9.33   \n",
       "1264  Arabica   7.50    7.00        6.83     7.50  7.17     7.33        8.67   \n",
       "1274  Arabica   7.92    7.58        7.17     7.58  7.33     7.17        8.00   \n",
       "1287  Arabica   6.50    6.33        6.50     7.50  7.33     6.83        8.67   \n",
       "1309  Arabica   7.50    6.67        6.67     7.67  7.33     6.67        8.00   \n",
       "\n",
       "      Clean.Cup  Sweetness  Moisture  Category.One.Defects  \\\n",
       "13        10.00      10.00      0.00                     0   \n",
       "51        10.00      10.00      0.00                     0   \n",
       "57        10.00      10.00      0.12                     0   \n",
       "58        10.00      10.00      0.10                     0   \n",
       "69        10.00      10.00      0.11                     0   \n",
       "...         ...        ...       ...                   ...   \n",
       "1254       9.33       9.33      0.10                     1   \n",
       "1264       8.67       8.67      0.11                     0   \n",
       "1274       8.00       8.00      0.11                     0   \n",
       "1287      10.00       8.67      0.11                     1   \n",
       "1309       1.33       1.33      0.10                     0   \n",
       "\n",
       "      Category.Two.Defects  \n",
       "13                       2  \n",
       "51                       0  \n",
       "57                       3  \n",
       "58                       1  \n",
       "69                       1  \n",
       "...                    ...  \n",
       "1254                     2  \n",
       "1264                     8  \n",
       "1274                    15  \n",
       "1287                     1  \n",
       "1309                     4  \n",
       "\n",
       "[111 rows x 16 columns]"
      ]
     },
     "execution_count": 6,
     "metadata": {},
     "output_type": "execute_result"
    }
   ],
   "source": [
    "df_quality.loc[df_quality['unit_of_measurement']==\"ft\"]"
   ]
  },
  {
   "cell_type": "markdown",
   "metadata": {},
   "source": [
    "*    m = ft /  3.2808"
   ]
  },
  {
   "cell_type": "code",
   "execution_count": 7,
   "metadata": {
    "ExecuteTime": {
     "end_time": "2021-02-24T07:02:38.748097Z",
     "start_time": "2021-02-24T07:02:38.501922Z"
    }
   },
   "outputs": [
    {
     "data": {
      "text/html": [
       "<div>\n",
       "<style scoped>\n",
       "    .dataframe tbody tr th:only-of-type {\n",
       "        vertical-align: middle;\n",
       "    }\n",
       "\n",
       "    .dataframe tbody tr th {\n",
       "        vertical-align: top;\n",
       "    }\n",
       "\n",
       "    .dataframe thead th {\n",
       "        text-align: right;\n",
       "    }\n",
       "</style>\n",
       "<table border=\"1\" class=\"dataframe\">\n",
       "  <thead>\n",
       "    <tr style=\"text-align: right;\">\n",
       "      <th></th>\n",
       "      <th>altitude_mean_meters</th>\n",
       "      <th>unit_of_measurement</th>\n",
       "      <th>Country.of.Origin</th>\n",
       "      <th>Species</th>\n",
       "      <th>Aroma</th>\n",
       "      <th>Flavor</th>\n",
       "      <th>Aftertaste</th>\n",
       "      <th>Acidity</th>\n",
       "      <th>Body</th>\n",
       "      <th>Balance</th>\n",
       "      <th>Uniformity</th>\n",
       "      <th>Clean.Cup</th>\n",
       "      <th>Sweetness</th>\n",
       "      <th>Moisture</th>\n",
       "      <th>Category.One.Defects</th>\n",
       "      <th>Category.Two.Defects</th>\n",
       "    </tr>\n",
       "  </thead>\n",
       "  <tbody>\n",
       "    <tr>\n",
       "      <th>13</th>\n",
       "      <td>185.808339</td>\n",
       "      <td>ft</td>\n",
       "      <td>United States (Hawaii)</td>\n",
       "      <td>Arabica</td>\n",
       "      <td>8.33</td>\n",
       "      <td>8.42</td>\n",
       "      <td>8.08</td>\n",
       "      <td>8.25</td>\n",
       "      <td>8.25</td>\n",
       "      <td>8.00</td>\n",
       "      <td>10.00</td>\n",
       "      <td>10.00</td>\n",
       "      <td>10.00</td>\n",
       "      <td>0.00</td>\n",
       "      <td>0</td>\n",
       "      <td>2</td>\n",
       "    </tr>\n",
       "    <tr>\n",
       "      <th>51</th>\n",
       "      <td>130.065838</td>\n",
       "      <td>ft</td>\n",
       "      <td>United States (Hawaii)</td>\n",
       "      <td>Arabica</td>\n",
       "      <td>8.33</td>\n",
       "      <td>8.17</td>\n",
       "      <td>7.75</td>\n",
       "      <td>8.00</td>\n",
       "      <td>7.75</td>\n",
       "      <td>7.83</td>\n",
       "      <td>10.00</td>\n",
       "      <td>10.00</td>\n",
       "      <td>10.00</td>\n",
       "      <td>0.00</td>\n",
       "      <td>0</td>\n",
       "      <td>0</td>\n",
       "    </tr>\n",
       "    <tr>\n",
       "      <th>57</th>\n",
       "      <td>464.520849</td>\n",
       "      <td>ft</td>\n",
       "      <td>Guatemala</td>\n",
       "      <td>Arabica</td>\n",
       "      <td>7.83</td>\n",
       "      <td>8.00</td>\n",
       "      <td>8.00</td>\n",
       "      <td>8.17</td>\n",
       "      <td>7.83</td>\n",
       "      <td>8.00</td>\n",
       "      <td>10.00</td>\n",
       "      <td>10.00</td>\n",
       "      <td>10.00</td>\n",
       "      <td>0.12</td>\n",
       "      <td>0</td>\n",
       "      <td>3</td>\n",
       "    </tr>\n",
       "    <tr>\n",
       "      <th>58</th>\n",
       "      <td>432.004389</td>\n",
       "      <td>ft</td>\n",
       "      <td>Guatemala</td>\n",
       "      <td>Arabica</td>\n",
       "      <td>8.00</td>\n",
       "      <td>8.00</td>\n",
       "      <td>7.83</td>\n",
       "      <td>8.33</td>\n",
       "      <td>7.83</td>\n",
       "      <td>7.83</td>\n",
       "      <td>10.00</td>\n",
       "      <td>10.00</td>\n",
       "      <td>10.00</td>\n",
       "      <td>0.10</td>\n",
       "      <td>0</td>\n",
       "      <td>1</td>\n",
       "    </tr>\n",
       "    <tr>\n",
       "      <th>69</th>\n",
       "      <td>527.695684</td>\n",
       "      <td>ft</td>\n",
       "      <td>Guatemala</td>\n",
       "      <td>Arabica</td>\n",
       "      <td>8.00</td>\n",
       "      <td>7.83</td>\n",
       "      <td>7.67</td>\n",
       "      <td>8.33</td>\n",
       "      <td>7.83</td>\n",
       "      <td>8.00</td>\n",
       "      <td>10.00</td>\n",
       "      <td>10.00</td>\n",
       "      <td>10.00</td>\n",
       "      <td>0.11</td>\n",
       "      <td>0</td>\n",
       "      <td>1</td>\n",
       "    </tr>\n",
       "    <tr>\n",
       "      <th>...</th>\n",
       "      <td>...</td>\n",
       "      <td>...</td>\n",
       "      <td>...</td>\n",
       "      <td>...</td>\n",
       "      <td>...</td>\n",
       "      <td>...</td>\n",
       "      <td>...</td>\n",
       "      <td>...</td>\n",
       "      <td>...</td>\n",
       "      <td>...</td>\n",
       "      <td>...</td>\n",
       "      <td>...</td>\n",
       "      <td>...</td>\n",
       "      <td>...</td>\n",
       "      <td>...</td>\n",
       "      <td>...</td>\n",
       "    </tr>\n",
       "    <tr>\n",
       "      <th>1254</th>\n",
       "      <td>371.616679</td>\n",
       "      <td>ft</td>\n",
       "      <td>Guatemala</td>\n",
       "      <td>Arabica</td>\n",
       "      <td>7.33</td>\n",
       "      <td>7.00</td>\n",
       "      <td>6.83</td>\n",
       "      <td>7.17</td>\n",
       "      <td>7.17</td>\n",
       "      <td>7.17</td>\n",
       "      <td>9.33</td>\n",
       "      <td>9.33</td>\n",
       "      <td>9.33</td>\n",
       "      <td>0.10</td>\n",
       "      <td>1</td>\n",
       "      <td>2</td>\n",
       "    </tr>\n",
       "    <tr>\n",
       "      <th>1264</th>\n",
       "      <td>399.487930</td>\n",
       "      <td>ft</td>\n",
       "      <td>Guatemala</td>\n",
       "      <td>Arabica</td>\n",
       "      <td>7.50</td>\n",
       "      <td>7.00</td>\n",
       "      <td>6.83</td>\n",
       "      <td>7.50</td>\n",
       "      <td>7.17</td>\n",
       "      <td>7.33</td>\n",
       "      <td>8.67</td>\n",
       "      <td>8.67</td>\n",
       "      <td>8.67</td>\n",
       "      <td>0.11</td>\n",
       "      <td>0</td>\n",
       "      <td>8</td>\n",
       "    </tr>\n",
       "    <tr>\n",
       "      <th>1274</th>\n",
       "      <td>399.487930</td>\n",
       "      <td>ft</td>\n",
       "      <td>Guatemala</td>\n",
       "      <td>Arabica</td>\n",
       "      <td>7.92</td>\n",
       "      <td>7.58</td>\n",
       "      <td>7.17</td>\n",
       "      <td>7.58</td>\n",
       "      <td>7.33</td>\n",
       "      <td>7.17</td>\n",
       "      <td>8.00</td>\n",
       "      <td>8.00</td>\n",
       "      <td>8.00</td>\n",
       "      <td>0.11</td>\n",
       "      <td>0</td>\n",
       "      <td>15</td>\n",
       "    </tr>\n",
       "    <tr>\n",
       "      <th>1287</th>\n",
       "      <td>399.487930</td>\n",
       "      <td>ft</td>\n",
       "      <td>Guatemala</td>\n",
       "      <td>Arabica</td>\n",
       "      <td>6.50</td>\n",
       "      <td>6.33</td>\n",
       "      <td>6.50</td>\n",
       "      <td>7.50</td>\n",
       "      <td>7.33</td>\n",
       "      <td>6.83</td>\n",
       "      <td>8.67</td>\n",
       "      <td>10.00</td>\n",
       "      <td>8.67</td>\n",
       "      <td>0.11</td>\n",
       "      <td>1</td>\n",
       "      <td>1</td>\n",
       "    </tr>\n",
       "    <tr>\n",
       "      <th>1309</th>\n",
       "      <td>432.004389</td>\n",
       "      <td>ft</td>\n",
       "      <td>Guatemala</td>\n",
       "      <td>Arabica</td>\n",
       "      <td>7.50</td>\n",
       "      <td>6.67</td>\n",
       "      <td>6.67</td>\n",
       "      <td>7.67</td>\n",
       "      <td>7.33</td>\n",
       "      <td>6.67</td>\n",
       "      <td>8.00</td>\n",
       "      <td>1.33</td>\n",
       "      <td>1.33</td>\n",
       "      <td>0.10</td>\n",
       "      <td>0</td>\n",
       "      <td>4</td>\n",
       "    </tr>\n",
       "  </tbody>\n",
       "</table>\n",
       "<p>111 rows × 16 columns</p>\n",
       "</div>"
      ],
      "text/plain": [
       "      altitude_mean_meters unit_of_measurement       Country.of.Origin  \\\n",
       "13              185.808339                  ft  United States (Hawaii)   \n",
       "51              130.065838                  ft  United States (Hawaii)   \n",
       "57              464.520849                  ft               Guatemala   \n",
       "58              432.004389                  ft               Guatemala   \n",
       "69              527.695684                  ft               Guatemala   \n",
       "...                    ...                 ...                     ...   \n",
       "1254            371.616679                  ft               Guatemala   \n",
       "1264            399.487930                  ft               Guatemala   \n",
       "1274            399.487930                  ft               Guatemala   \n",
       "1287            399.487930                  ft               Guatemala   \n",
       "1309            432.004389                  ft               Guatemala   \n",
       "\n",
       "      Species  Aroma  Flavor  Aftertaste  Acidity  Body  Balance  Uniformity  \\\n",
       "13    Arabica   8.33    8.42        8.08     8.25  8.25     8.00       10.00   \n",
       "51    Arabica   8.33    8.17        7.75     8.00  7.75     7.83       10.00   \n",
       "57    Arabica   7.83    8.00        8.00     8.17  7.83     8.00       10.00   \n",
       "58    Arabica   8.00    8.00        7.83     8.33  7.83     7.83       10.00   \n",
       "69    Arabica   8.00    7.83        7.67     8.33  7.83     8.00       10.00   \n",
       "...       ...    ...     ...         ...      ...   ...      ...         ...   \n",
       "1254  Arabica   7.33    7.00        6.83     7.17  7.17     7.17        9.33   \n",
       "1264  Arabica   7.50    7.00        6.83     7.50  7.17     7.33        8.67   \n",
       "1274  Arabica   7.92    7.58        7.17     7.58  7.33     7.17        8.00   \n",
       "1287  Arabica   6.50    6.33        6.50     7.50  7.33     6.83        8.67   \n",
       "1309  Arabica   7.50    6.67        6.67     7.67  7.33     6.67        8.00   \n",
       "\n",
       "      Clean.Cup  Sweetness  Moisture  Category.One.Defects  \\\n",
       "13        10.00      10.00      0.00                     0   \n",
       "51        10.00      10.00      0.00                     0   \n",
       "57        10.00      10.00      0.12                     0   \n",
       "58        10.00      10.00      0.10                     0   \n",
       "69        10.00      10.00      0.11                     0   \n",
       "...         ...        ...       ...                   ...   \n",
       "1254       9.33       9.33      0.10                     1   \n",
       "1264       8.67       8.67      0.11                     0   \n",
       "1274       8.00       8.00      0.11                     0   \n",
       "1287      10.00       8.67      0.11                     1   \n",
       "1309       1.33       1.33      0.10                     0   \n",
       "\n",
       "      Category.Two.Defects  \n",
       "13                       2  \n",
       "51                       0  \n",
       "57                       3  \n",
       "58                       1  \n",
       "69                       1  \n",
       "...                    ...  \n",
       "1254                     2  \n",
       "1264                     8  \n",
       "1274                    15  \n",
       "1287                     1  \n",
       "1309                     4  \n",
       "\n",
       "[111 rows x 16 columns]"
      ]
     },
     "execution_count": 7,
     "metadata": {},
     "output_type": "execute_result"
    }
   ],
   "source": [
    "df_quality.loc[(df_quality['unit_of_measurement']==\"ft\"),'altitude_mean_meters'] = (df_quality['altitude_mean_meters'] / 3.2808)\n",
    "df_quality.loc[df_quality['unit_of_measurement']==\"ft\"]"
   ]
  },
  {
   "cell_type": "code",
   "execution_count": 8,
   "metadata": {
    "ExecuteTime": {
     "end_time": "2021-02-24T07:02:38.890389Z",
     "start_time": "2021-02-24T07:02:38.751087Z"
    }
   },
   "outputs": [],
   "source": [
    "df_quality.drop('unit_of_measurement', axis = 1, inplace = True) "
   ]
  },
  {
   "cell_type": "code",
   "execution_count": 9,
   "metadata": {
    "ExecuteTime": {
     "end_time": "2021-02-24T07:02:39.184252Z",
     "start_time": "2021-02-24T07:02:38.891389Z"
    }
   },
   "outputs": [
    {
     "data": {
      "text/html": [
       "<div>\n",
       "<style scoped>\n",
       "    .dataframe tbody tr th:only-of-type {\n",
       "        vertical-align: middle;\n",
       "    }\n",
       "\n",
       "    .dataframe tbody tr th {\n",
       "        vertical-align: top;\n",
       "    }\n",
       "\n",
       "    .dataframe thead th {\n",
       "        text-align: right;\n",
       "    }\n",
       "</style>\n",
       "<table border=\"1\" class=\"dataframe\">\n",
       "  <thead>\n",
       "    <tr style=\"text-align: right;\">\n",
       "      <th></th>\n",
       "      <th>altitude_mean_meters</th>\n",
       "      <th>Country.of.Origin</th>\n",
       "      <th>Species</th>\n",
       "      <th>Aroma</th>\n",
       "      <th>Flavor</th>\n",
       "      <th>Aftertaste</th>\n",
       "      <th>Acidity</th>\n",
       "      <th>Body</th>\n",
       "      <th>Balance</th>\n",
       "      <th>Uniformity</th>\n",
       "      <th>Clean.Cup</th>\n",
       "      <th>Sweetness</th>\n",
       "      <th>Moisture</th>\n",
       "      <th>Category.One.Defects</th>\n",
       "      <th>Category.Two.Defects</th>\n",
       "    </tr>\n",
       "  </thead>\n",
       "  <tbody>\n",
       "    <tr>\n",
       "      <th>543</th>\n",
       "      <td>11000.0</td>\n",
       "      <td>Brazil</td>\n",
       "      <td>Arabica</td>\n",
       "      <td>7.08</td>\n",
       "      <td>7.50</td>\n",
       "      <td>7.50</td>\n",
       "      <td>7.83</td>\n",
       "      <td>7.75</td>\n",
       "      <td>7.67</td>\n",
       "      <td>10.00</td>\n",
       "      <td>10.00</td>\n",
       "      <td>10.00</td>\n",
       "      <td>0.11</td>\n",
       "      <td>0</td>\n",
       "      <td>16</td>\n",
       "    </tr>\n",
       "    <tr>\n",
       "      <th>896</th>\n",
       "      <td>190164.0</td>\n",
       "      <td>Guatemala</td>\n",
       "      <td>Arabica</td>\n",
       "      <td>7.42</td>\n",
       "      <td>7.42</td>\n",
       "      <td>7.08</td>\n",
       "      <td>7.50</td>\n",
       "      <td>7.42</td>\n",
       "      <td>7.33</td>\n",
       "      <td>10.00</td>\n",
       "      <td>10.00</td>\n",
       "      <td>10.00</td>\n",
       "      <td>0.12</td>\n",
       "      <td>0</td>\n",
       "      <td>0</td>\n",
       "    </tr>\n",
       "    <tr>\n",
       "      <th>1040</th>\n",
       "      <td>110000.0</td>\n",
       "      <td>Nicaragua</td>\n",
       "      <td>Arabica</td>\n",
       "      <td>7.25</td>\n",
       "      <td>7.25</td>\n",
       "      <td>7.17</td>\n",
       "      <td>7.25</td>\n",
       "      <td>7.33</td>\n",
       "      <td>7.25</td>\n",
       "      <td>10.00</td>\n",
       "      <td>10.00</td>\n",
       "      <td>10.00</td>\n",
       "      <td>0.12</td>\n",
       "      <td>0</td>\n",
       "      <td>5</td>\n",
       "    </tr>\n",
       "    <tr>\n",
       "      <th>1144</th>\n",
       "      <td>190164.0</td>\n",
       "      <td>Guatemala</td>\n",
       "      <td>Arabica</td>\n",
       "      <td>7.50</td>\n",
       "      <td>7.42</td>\n",
       "      <td>7.25</td>\n",
       "      <td>7.58</td>\n",
       "      <td>7.33</td>\n",
       "      <td>7.42</td>\n",
       "      <td>9.33</td>\n",
       "      <td>9.33</td>\n",
       "      <td>9.33</td>\n",
       "      <td>0.10</td>\n",
       "      <td>0</td>\n",
       "      <td>1</td>\n",
       "    </tr>\n",
       "  </tbody>\n",
       "</table>\n",
       "</div>"
      ],
      "text/plain": [
       "      altitude_mean_meters Country.of.Origin  Species  Aroma  Flavor  \\\n",
       "543                11000.0            Brazil  Arabica   7.08    7.50   \n",
       "896               190164.0         Guatemala  Arabica   7.42    7.42   \n",
       "1040              110000.0         Nicaragua  Arabica   7.25    7.25   \n",
       "1144              190164.0         Guatemala  Arabica   7.50    7.42   \n",
       "\n",
       "      Aftertaste  Acidity  Body  Balance  Uniformity  Clean.Cup  Sweetness  \\\n",
       "543         7.50     7.83  7.75     7.67       10.00      10.00      10.00   \n",
       "896         7.08     7.50  7.42     7.33       10.00      10.00      10.00   \n",
       "1040        7.17     7.25  7.33     7.25       10.00      10.00      10.00   \n",
       "1144        7.25     7.58  7.33     7.42        9.33       9.33       9.33   \n",
       "\n",
       "      Moisture  Category.One.Defects  Category.Two.Defects  \n",
       "543       0.11                     0                    16  \n",
       "896       0.12                     0                     0  \n",
       "1040      0.12                     0                     5  \n",
       "1144      0.10                     0                     1  "
      ]
     },
     "execution_count": 9,
     "metadata": {},
     "output_type": "execute_result"
    }
   ],
   "source": [
    "df_quality.loc[df_quality[\"altitude_mean_meters\"] > 4500] "
   ]
  },
  {
   "cell_type": "code",
   "execution_count": 10,
   "metadata": {
    "ExecuteTime": {
     "end_time": "2021-02-24T07:02:39.372064Z",
     "start_time": "2021-02-24T07:02:39.186264Z"
    }
   },
   "outputs": [],
   "source": [
    "df_quality = df_quality.loc[df_quality[\"altitude_mean_meters\"] < 4500] "
   ]
  },
  {
   "cell_type": "code",
   "execution_count": 11,
   "metadata": {
    "ExecuteTime": {
     "end_time": "2021-02-24T07:02:39.624159Z",
     "start_time": "2021-02-24T07:02:39.374046Z"
    }
   },
   "outputs": [
    {
     "name": "stdout",
     "output_type": "stream",
     "text": [
      "<class 'pandas.core.frame.DataFrame'>\n",
      "Int64Index: 1105 entries, 0 to 1336\n",
      "Data columns (total 15 columns):\n",
      " #   Column                Non-Null Count  Dtype   \n",
      "---  ------                --------------  -----   \n",
      " 0   Country.of.Origin     1105 non-null   object  \n",
      " 1   Species               1105 non-null   object  \n",
      " 2   Aroma                 1105 non-null   float64 \n",
      " 3   Flavor                1105 non-null   float64 \n",
      " 4   Aftertaste            1105 non-null   float64 \n",
      " 5   Acidity               1105 non-null   float64 \n",
      " 6   Body                  1105 non-null   float64 \n",
      " 7   Balance               1105 non-null   float64 \n",
      " 8   Uniformity            1105 non-null   float64 \n",
      " 9   Clean.Cup             1105 non-null   float64 \n",
      " 10  Sweetness             1105 non-null   float64 \n",
      " 11  Moisture              1105 non-null   float64 \n",
      " 12  Category.One.Defects  1105 non-null   int64   \n",
      " 13  Category.Two.Defects  1105 non-null   int64   \n",
      " 14  Altitude              1105 non-null   category\n",
      "dtypes: category(1), float64(10), int64(2), object(2)\n",
      "memory usage: 130.8+ KB\n"
     ]
    }
   ],
   "source": [
    "# Binning Altitude column \n",
    "df_quality[\"Altitude\"] = pd.cut(df_quality[\"altitude_mean_meters\"],\n",
    "                               bins = [0, 500, 1000, 1500, 2000, 3000, 4500],\n",
    "                               labels = ['1-500', '500-1000', '1000-1500', '1500-2000',\n",
    "                                        '2000-3000','3000+']\n",
    "                            )\n",
    "df_quality.drop(\"altitude_mean_meters\", axis=1, inplace=True)\n",
    "df_quality.info()"
   ]
  },
  {
   "cell_type": "code",
   "execution_count": 12,
   "metadata": {
    "ExecuteTime": {
     "end_time": "2021-02-24T07:02:39.812103Z",
     "start_time": "2021-02-24T07:02:39.626151Z"
    }
   },
   "outputs": [
    {
     "data": {
      "text/plain": [
       "1000-1500    445\n",
       "1500-2000    306\n",
       "500-1000     166\n",
       "1-500        160\n",
       "2000-3000     16\n",
       "3000+         12\n",
       "Name: Altitude, dtype: int64"
      ]
     },
     "execution_count": 12,
     "metadata": {},
     "output_type": "execute_result"
    }
   ],
   "source": [
    "# Checking for imbalanced Dataset\n",
    "df_quality['Altitude'].value_counts()"
   ]
  },
  {
   "cell_type": "code",
   "execution_count": 13,
   "metadata": {
    "ExecuteTime": {
     "end_time": "2021-02-24T07:02:40.030407Z",
     "start_time": "2021-02-24T07:02:39.814040Z"
    }
   },
   "outputs": [
    {
     "data": {
      "text/html": [
       "<div>\n",
       "<style scoped>\n",
       "    .dataframe tbody tr th:only-of-type {\n",
       "        vertical-align: middle;\n",
       "    }\n",
       "\n",
       "    .dataframe tbody tr th {\n",
       "        vertical-align: top;\n",
       "    }\n",
       "\n",
       "    .dataframe thead th {\n",
       "        text-align: right;\n",
       "    }\n",
       "</style>\n",
       "<table border=\"1\" class=\"dataframe\">\n",
       "  <thead>\n",
       "    <tr style=\"text-align: right;\">\n",
       "      <th></th>\n",
       "      <th>Country.of.Origin</th>\n",
       "      <th>Species</th>\n",
       "      <th>Aroma</th>\n",
       "      <th>Aftertaste</th>\n",
       "      <th>Acidity</th>\n",
       "      <th>Body</th>\n",
       "      <th>Balance</th>\n",
       "      <th>Uniformity</th>\n",
       "      <th>Clean.Cup</th>\n",
       "      <th>Sweetness</th>\n",
       "      <th>Moisture</th>\n",
       "      <th>Category.One.Defects</th>\n",
       "      <th>Category.Two.Defects</th>\n",
       "      <th>Altitude</th>\n",
       "    </tr>\n",
       "  </thead>\n",
       "  <tbody>\n",
       "    <tr>\n",
       "      <th>0</th>\n",
       "      <td>Ethiopia</td>\n",
       "      <td>Arabica</td>\n",
       "      <td>8.67</td>\n",
       "      <td>8.67</td>\n",
       "      <td>8.75</td>\n",
       "      <td>8.50</td>\n",
       "      <td>8.42</td>\n",
       "      <td>10.0</td>\n",
       "      <td>10.0</td>\n",
       "      <td>10.0</td>\n",
       "      <td>0.12</td>\n",
       "      <td>0</td>\n",
       "      <td>0</td>\n",
       "      <td>2000-3000</td>\n",
       "    </tr>\n",
       "    <tr>\n",
       "      <th>1</th>\n",
       "      <td>Ethiopia</td>\n",
       "      <td>Arabica</td>\n",
       "      <td>8.75</td>\n",
       "      <td>8.50</td>\n",
       "      <td>8.58</td>\n",
       "      <td>8.42</td>\n",
       "      <td>8.42</td>\n",
       "      <td>10.0</td>\n",
       "      <td>10.0</td>\n",
       "      <td>10.0</td>\n",
       "      <td>0.12</td>\n",
       "      <td>0</td>\n",
       "      <td>1</td>\n",
       "      <td>2000-3000</td>\n",
       "    </tr>\n",
       "    <tr>\n",
       "      <th>2</th>\n",
       "      <td>Guatemala</td>\n",
       "      <td>Arabica</td>\n",
       "      <td>8.42</td>\n",
       "      <td>8.42</td>\n",
       "      <td>8.42</td>\n",
       "      <td>8.33</td>\n",
       "      <td>8.42</td>\n",
       "      <td>10.0</td>\n",
       "      <td>10.0</td>\n",
       "      <td>10.0</td>\n",
       "      <td>0.00</td>\n",
       "      <td>0</td>\n",
       "      <td>0</td>\n",
       "      <td>1500-2000</td>\n",
       "    </tr>\n",
       "    <tr>\n",
       "      <th>3</th>\n",
       "      <td>Ethiopia</td>\n",
       "      <td>Arabica</td>\n",
       "      <td>8.17</td>\n",
       "      <td>8.42</td>\n",
       "      <td>8.42</td>\n",
       "      <td>8.50</td>\n",
       "      <td>8.25</td>\n",
       "      <td>10.0</td>\n",
       "      <td>10.0</td>\n",
       "      <td>10.0</td>\n",
       "      <td>0.11</td>\n",
       "      <td>0</td>\n",
       "      <td>2</td>\n",
       "      <td>1500-2000</td>\n",
       "    </tr>\n",
       "    <tr>\n",
       "      <th>4</th>\n",
       "      <td>Ethiopia</td>\n",
       "      <td>Arabica</td>\n",
       "      <td>8.25</td>\n",
       "      <td>8.25</td>\n",
       "      <td>8.50</td>\n",
       "      <td>8.42</td>\n",
       "      <td>8.33</td>\n",
       "      <td>10.0</td>\n",
       "      <td>10.0</td>\n",
       "      <td>10.0</td>\n",
       "      <td>0.12</td>\n",
       "      <td>0</td>\n",
       "      <td>2</td>\n",
       "      <td>2000-3000</td>\n",
       "    </tr>\n",
       "  </tbody>\n",
       "</table>\n",
       "</div>"
      ],
      "text/plain": [
       "  Country.of.Origin  Species  Aroma  Aftertaste  Acidity  Body  Balance  \\\n",
       "0          Ethiopia  Arabica   8.67        8.67     8.75  8.50     8.42   \n",
       "1          Ethiopia  Arabica   8.75        8.50     8.58  8.42     8.42   \n",
       "2         Guatemala  Arabica   8.42        8.42     8.42  8.33     8.42   \n",
       "3          Ethiopia  Arabica   8.17        8.42     8.42  8.50     8.25   \n",
       "4          Ethiopia  Arabica   8.25        8.25     8.50  8.42     8.33   \n",
       "\n",
       "   Uniformity  Clean.Cup  Sweetness  Moisture  Category.One.Defects  \\\n",
       "0        10.0       10.0       10.0      0.12                     0   \n",
       "1        10.0       10.0       10.0      0.12                     0   \n",
       "2        10.0       10.0       10.0      0.00                     0   \n",
       "3        10.0       10.0       10.0      0.11                     0   \n",
       "4        10.0       10.0       10.0      0.12                     0   \n",
       "\n",
       "   Category.Two.Defects   Altitude  \n",
       "0                     0  2000-3000  \n",
       "1                     1  2000-3000  \n",
       "2                     0  1500-2000  \n",
       "3                     2  1500-2000  \n",
       "4                     2  2000-3000  "
      ]
     },
     "execution_count": 13,
     "metadata": {},
     "output_type": "execute_result"
    }
   ],
   "source": [
    "# From the Correlation heatmap we can see Flavor column is highly correlated to many other features\n",
    "# So we can remove that feature from training the model. It improved overall accuracy by 2% \n",
    "# but after SMOTE it doesn't matter\n",
    "\n",
    "df_quality.drop('Flavor', axis = 1, inplace = True) \n",
    "df_quality.head()"
   ]
  },
  {
   "cell_type": "markdown",
   "metadata": {},
   "source": [
    "Data is not fully normaly distributed. There is skewness. Algorithms will perform better with a normalized or scaled dataset."
   ]
  },
  {
   "cell_type": "markdown",
   "metadata": {},
   "source": [
    "There are outliers in data, so better to select Models which are insensitive to outliers like SVC, Decision Tree, and Ensembling Techniques"
   ]
  },
  {
   "cell_type": "markdown",
   "metadata": {},
   "source": [
    "## Select your features (columns)"
   ]
  },
  {
   "cell_type": "code",
   "execution_count": 14,
   "metadata": {
    "ExecuteTime": {
     "end_time": "2021-02-24T07:02:40.233541Z",
     "start_time": "2021-02-24T07:02:40.032405Z"
    }
   },
   "outputs": [
    {
     "name": "stdout",
     "output_type": "stream",
     "text": [
      "(1105, 12) (1105,)\n"
     ]
    }
   ],
   "source": [
    "# Set features. This will also be used as your x values.\n",
    "X = df_quality.iloc[:, 0:12]\n",
    "y = df_quality.iloc[:, 13]\n",
    "print(X.shape, y.shape)"
   ]
  },
  {
   "cell_type": "markdown",
   "metadata": {},
   "source": [
    "### Label Encoding columns with not numeric values"
   ]
  },
  {
   "cell_type": "code",
   "execution_count": 15,
   "metadata": {
    "ExecuteTime": {
     "end_time": "2021-02-24T07:02:40.769698Z",
     "start_time": "2021-02-24T07:02:40.234521Z"
    }
   },
   "outputs": [],
   "source": [
    "from sklearn.preprocessing import LabelEncoder\n",
    "\n",
    "X_encoded = X.apply(LabelEncoder().fit_transform)"
   ]
  },
  {
   "cell_type": "markdown",
   "metadata": {},
   "source": [
    "# Train Test Split"
   ]
  },
  {
   "cell_type": "code",
   "execution_count": 16,
   "metadata": {
    "ExecuteTime": {
     "end_time": "2021-02-24T07:02:40.816699Z",
     "start_time": "2021-02-24T07:02:40.770699Z"
    }
   },
   "outputs": [],
   "source": [
    "# Creating train test split on oversampled data\n",
    "from sklearn.model_selection import train_test_split\n",
    "\n",
    "X_train_full, X_test, y_train_full, y_test = train_test_split(X_encoded, y, random_state=7, test_size=0.05)"
   ]
  },
  {
   "cell_type": "code",
   "execution_count": 17,
   "metadata": {
    "ExecuteTime": {
     "end_time": "2021-02-24T07:02:40.972334Z",
     "start_time": "2021-02-24T07:02:40.817700Z"
    }
   },
   "outputs": [
    {
     "data": {
      "text/plain": [
       "1000-1500    20\n",
       "1500-2000    20\n",
       "1-500         8\n",
       "500-1000      6\n",
       "2000-3000     1\n",
       "3000+         1\n",
       "Name: Altitude, dtype: int64"
      ]
     },
     "execution_count": 17,
     "metadata": {},
     "output_type": "execute_result"
    }
   ],
   "source": [
    "y_test.value_counts()"
   ]
  },
  {
   "cell_type": "markdown",
   "metadata": {},
   "source": [
    "## Pre-processing\n",
    "Scale and Normalize the data using the StandardScaler"
   ]
  },
  {
   "cell_type": "code",
   "execution_count": 18,
   "metadata": {
    "ExecuteTime": {
     "end_time": "2021-02-24T07:02:41.144001Z",
     "start_time": "2021-02-24T07:02:40.973350Z"
    }
   },
   "outputs": [],
   "source": [
    "from sklearn.preprocessing import StandardScaler\n",
    "# Create a StandardScater model and fit it to the training data\n",
    "X_scaler = StandardScaler().fit(X_train_full)\n",
    "\n",
    "# Transform the training and testing data using the X_scaler\n",
    "X_train_scaled = X_scaler.transform(X_train_full)\n",
    "X_test_scaled = X_scaler.transform(X_test)"
   ]
  },
  {
   "cell_type": "markdown",
   "metadata": {},
   "source": [
    "#### Imbalanced Dataset\n",
    "##### Synthethetic Minority Over sampling Technique (SMOTE)"
   ]
  },
  {
   "cell_type": "code",
   "execution_count": 19,
   "metadata": {
    "ExecuteTime": {
     "end_time": "2021-02-24T07:02:41.519953Z",
     "start_time": "2021-02-24T07:02:41.146002Z"
    }
   },
   "outputs": [
    {
     "name": "stdout",
     "output_type": "stream",
     "text": [
      "Before SMOTE count: Counter({'1000-1500': 425, '1500-2000': 286, '500-1000': 160, '1-500': 152, '2000-3000': 15, '3000+': 11})\n",
      "After SMOTE count: Counter({'1500-2000': 1000, '1-500': 1000, '1000-1500': 1000, '3000+': 1000, '500-1000': 1000, '2000-3000': 1000})\n"
     ]
    },
    {
     "name": "stderr",
     "output_type": "stream",
     "text": [
      "C:\\Users\\Abraham\\anaconda3\\envs\\envcoffee\\lib\\site-packages\\imblearn\\utils\\_validation.py:326: UserWarning: After over-sampling, the number of samples (1000) in class 1-500 will be larger than the number of samples in the majority class (class #1000-1500 -> 425)\n",
      "  n_samples_majority,\n",
      "C:\\Users\\Abraham\\anaconda3\\envs\\envcoffee\\lib\\site-packages\\imblearn\\utils\\_validation.py:326: UserWarning: After over-sampling, the number of samples (1000) in class 500-1000 will be larger than the number of samples in the majority class (class #1000-1500 -> 425)\n",
      "  n_samples_majority,\n",
      "C:\\Users\\Abraham\\anaconda3\\envs\\envcoffee\\lib\\site-packages\\imblearn\\utils\\_validation.py:326: UserWarning: After over-sampling, the number of samples (1000) in class 1000-1500 will be larger than the number of samples in the majority class (class #1000-1500 -> 425)\n",
      "  n_samples_majority,\n",
      "C:\\Users\\Abraham\\anaconda3\\envs\\envcoffee\\lib\\site-packages\\imblearn\\utils\\_validation.py:326: UserWarning: After over-sampling, the number of samples (1000) in class 1500-2000 will be larger than the number of samples in the majority class (class #1000-1500 -> 425)\n",
      "  n_samples_majority,\n",
      "C:\\Users\\Abraham\\anaconda3\\envs\\envcoffee\\lib\\site-packages\\imblearn\\utils\\_validation.py:326: UserWarning: After over-sampling, the number of samples (1000) in class 2000-3000 will be larger than the number of samples in the majority class (class #1000-1500 -> 425)\n",
      "  n_samples_majority,\n",
      "C:\\Users\\Abraham\\anaconda3\\envs\\envcoffee\\lib\\site-packages\\imblearn\\utils\\_validation.py:326: UserWarning: After over-sampling, the number of samples (1000) in class 3000+ will be larger than the number of samples in the majority class (class #1000-1500 -> 425)\n",
      "  n_samples_majority,\n"
     ]
    }
   ],
   "source": [
    "# Over sampling\n",
    "from imblearn.over_sampling import SMOTE\n",
    "sampling_strategy= {'1-500': 1000, '500-1000': 1000, '1000-1500': 1000, '1500-2000': 1000, '2000-3000': 1000, '3000+': 1000}\n",
    "synth = SMOTE(random_state=13, sampling_strategy=sampling_strategy)\n",
    "X_resampled, y_resampled = synth.fit_resample(X_train_scaled, y_train_full)\n",
    "\n",
    "from collections import Counter\n",
    "print(\"Before SMOTE count:\" , Counter(y_train_full))\n",
    "print(\"After SMOTE count:\" , Counter(y_resampled))"
   ]
  },
  {
   "cell_type": "markdown",
   "metadata": {},
   "source": [
    "## Create a Train Validation Split After SMOTE"
   ]
  },
  {
   "cell_type": "code",
   "execution_count": 20,
   "metadata": {
    "ExecuteTime": {
     "end_time": "2021-02-24T07:02:41.535957Z",
     "start_time": "2021-02-24T07:02:41.521947Z"
    }
   },
   "outputs": [],
   "source": [
    "# Creating train test split on oversampled data\n",
    "from sklearn.model_selection import train_test_split\n",
    "\n",
    "X_train, X_val, y_train, y_val = train_test_split(X_resampled, y_resampled, random_state=7, test_size=0.1)"
   ]
  },
  {
   "cell_type": "markdown",
   "metadata": {},
   "source": [
    "# Train the Model using SVC"
   ]
  },
  {
   "cell_type": "code",
   "execution_count": 21,
   "metadata": {
    "ExecuteTime": {
     "end_time": "2021-02-24T07:02:42.278409Z",
     "start_time": "2021-02-24T07:02:41.537955Z"
    }
   },
   "outputs": [
    {
     "name": "stdout",
     "output_type": "stream",
     "text": [
      "Training Data Score: 0.4432793136320305\n",
      "Testing Data Score: 0.35714285714285715\n"
     ]
    }
   ],
   "source": [
    "# Support vector machine linear classifier\n",
    "from sklearn.svm import SVC \n",
    "model = SVC(kernel='linear')\n",
    "model.fit(X_train_full, y_train_full)\n",
    "\n",
    "print(f\"Training Data Score: {model.score(X_train_full, y_train_full)}\")\n",
    "print(f\"Testing Data Score: {model.score(X_test_scaled, y_test)}\")"
   ]
  },
  {
   "cell_type": "markdown",
   "metadata": {},
   "source": [
    "## Evaluate the Model using Confusion Matrix"
   ]
  },
  {
   "cell_type": "code",
   "execution_count": 22,
   "metadata": {
    "ExecuteTime": {
     "end_time": "2021-02-24T07:02:42.646431Z",
     "start_time": "2021-02-24T07:02:42.284400Z"
    }
   },
   "outputs": [
    {
     "name": "stdout",
     "output_type": "stream",
     "text": [
      "Confusion matrix:\n",
      " [[  0  91   0   0   0   0]\n",
      " [  0  83   0   0   0   1]\n",
      " [  0 112   0   0   0   1]\n",
      " [  1  91   0   0   0  12]\n",
      " [  0  79   0   0   0  13]\n",
      " [  0 108   0   0   0   8]]\n"
     ]
    },
    {
     "data": {
      "image/png": "[encoded data removed]",
      "text/plain": [
       "<Figure size 432x288 with 2 Axes>"
      ]
     },
     "metadata": {},
     "output_type": "display_data"
    }
   ],
   "source": [
    "# Make predictions with the model\n",
    "predictions = model.predict(X_val)  \n",
    "\n",
    "from sklearn.metrics import confusion_matrix\n",
    "\n",
    "conf_mat = confusion_matrix(y_true=y_val, y_pred=predictions)\n",
    "print('Confusion matrix:\\n', conf_mat)\n",
    "\n",
    "labels = df_quality['Altitude'].unique()\n",
    "fig = plt.figure()\n",
    "fig.patch.set_facecolor('white')\n",
    "ax = fig.add_subplot(111)\n",
    "cax = ax.matshow(conf_mat, cmap=plt.cm.Blues)\n",
    "fig.colorbar(cax)\n",
    "# ax.set_xticklabels([''] + labels)\n",
    "# ax.set_yticklabels([''] + labels)\n",
    "plt.xlabel('Predicted')\n",
    "plt.ylabel('Expected')\n",
    "plt.show()"
   ]
  },
  {
   "cell_type": "markdown",
   "metadata": {},
   "source": [
    "# Decision Tree Model"
   ]
  },
  {
   "cell_type": "code",
   "execution_count": 23,
   "metadata": {
    "ExecuteTime": {
     "end_time": "2021-02-24T07:02:42.726410Z",
     "start_time": "2021-02-24T07:02:42.650400Z"
    }
   },
   "outputs": [
    {
     "name": "stdout",
     "output_type": "stream",
     "text": [
      "              precision    recall  f1-score   support\n",
      "\n",
      "       1-500       0.78      0.88      0.82        91\n",
      "   1000-1500       0.67      0.76      0.72        84\n",
      "   1500-2000       0.87      0.73      0.80       113\n",
      "   2000-3000       0.95      0.96      0.96       104\n",
      "       3000+       0.98      0.99      0.98        92\n",
      "    500-1000       0.93      0.87      0.90       116\n",
      "\n",
      "    accuracy                           0.86       600\n",
      "   macro avg       0.86      0.87      0.86       600\n",
      "weighted avg       0.87      0.86      0.87       600\n",
      "\n"
     ]
    }
   ],
   "source": [
    "from sklearn import tree\n",
    "\n",
    "# Create and score a decision tree classifier\n",
    "clfTree = tree.DecisionTreeClassifier(min_samples_split=4)\n",
    "clf = clfTree.fit(X_train, y_train)\n",
    "\n",
    "# Make predictions with the hypertuned model\n",
    "treePredictions = clf.predict(X_val)\n",
    "# Calculate classification report\n",
    "from sklearn.metrics import classification_report\n",
    "print(classification_report(y_val, treePredictions))"
   ]
  },
  {
   "cell_type": "code",
   "execution_count": 24,
   "metadata": {
    "ExecuteTime": {
     "end_time": "2021-02-24T07:02:42.834818Z",
     "start_time": "2021-02-24T07:02:42.728399Z"
    }
   },
   "outputs": [
    {
     "name": "stdout",
     "output_type": "stream",
     "text": [
      "Test Accuracy: 0.44642857142857145\n"
     ]
    }
   ],
   "source": [
    "print(f\"Test Accuracy: {clf.score(X_test_scaled, y_test)}\")"
   ]
  },
  {
   "cell_type": "markdown",
   "metadata": {},
   "source": [
    "# Random Forest Grid Search"
   ]
  },
  {
   "cell_type": "code",
   "execution_count": 25,
   "metadata": {
    "ExecuteTime": {
     "end_time": "2021-02-24T07:03:16.927959Z",
     "start_time": "2021-02-24T07:02:42.836800Z"
    }
   },
   "outputs": [
    {
     "name": "stdout",
     "output_type": "stream",
     "text": [
      "{'max_samples': 0.5, 'min_samples_split': 3, 'n_estimators': 1000}\n",
      "0.9088888888888889\n"
     ]
    }
   ],
   "source": [
    "from sklearn.ensemble import RandomForestClassifier\n",
    "from sklearn.model_selection import GridSearchCV\n",
    "\n",
    "model_params = {\n",
    "    'model': RandomForestClassifier(random_state=5),\n",
    "    'params' : {\n",
    "        'n_estimators': [100,1000],  # no of trees\n",
    "        'min_samples_split':[3, 4],\n",
    "        'max_samples': [0.2, 0.5]\n",
    "    }\n",
    "}\n",
    "\n",
    "RFclf =  GridSearchCV(model_params['model'], model_params['params'], cv=5, n_jobs=-1, return_train_score=False)\n",
    "RFclf.fit(X_train, y_train)\n",
    "\n",
    "print(RFclf.best_params_)\n",
    "print(RFclf.best_score_)"
   ]
  },
  {
   "cell_type": "code",
   "execution_count": 26,
   "metadata": {
    "ExecuteTime": {
     "end_time": "2021-02-24T07:03:18.170926Z",
     "start_time": "2021-02-24T07:03:16.929930Z"
    }
   },
   "outputs": [
    {
     "name": "stdout",
     "output_type": "stream",
     "text": [
      "Train Accuracy: 0.9946296296296296\n",
      "Validation Accuracy: 0.9233333333333333\n"
     ]
    }
   ],
   "source": [
    "print(f\"Train Accuracy: {RFclf.score(X_train, y_train)}\")\n",
    "print(f\"Validation Accuracy: {RFclf.score(X_val, y_val)}\")"
   ]
  },
  {
   "cell_type": "code",
   "execution_count": 27,
   "metadata": {
    "ExecuteTime": {
     "end_time": "2021-02-24T07:03:18.324940Z",
     "start_time": "2021-02-24T07:03:18.172928Z"
    }
   },
   "outputs": [
    {
     "name": "stdout",
     "output_type": "stream",
     "text": [
      "Test Accuracy: 0.625\n"
     ]
    }
   ],
   "source": [
    "print(f\"Test Accuracy: {RFclf.score(X_test_scaled, y_test)}\")"
   ]
  },
  {
   "cell_type": "code",
   "execution_count": null,
   "metadata": {},
   "outputs": [],
   "source": []
  }
 ],
 "metadata": {
  "hide_input": false,
  "kernelspec": {
   "display_name": "Python 3",
   "language": "python",
   "name": "python3"
  },
  "language_info": {
   "codemirror_mode": {
    "name": "ipython",
    "version": 3
   },
   "file_extension": ".py",
   "mimetype": "text/x-python",
   "name": "python",
   "nbconvert_exporter": "python",
   "pygments_lexer": "ipython3",
   "version": "3.7.9"
  },
  "toc": {
   "base_numbering": 1,
   "nav_menu": {},
   "number_sections": true,
   "sideBar": true,
   "skip_h1_title": false,
   "title_cell": "Table of Contents",
   "title_sidebar": "Contents",
   "toc_cell": false,
   "toc_position": {},
   "toc_section_display": true,
   "toc_window_display": false
  },
  "varInspector": {
   "cols": {
    "lenName": 16,
    "lenType": 16,
    "lenVar": 40
   },
   "kernels_config": {
    "python": {
     "delete_cmd_postfix": "",
     "delete_cmd_prefix": "del ",
     "library": "var_list.py",
     "varRefreshCmd": "print(var_dic_list())"
    },
    "r": {
     "delete_cmd_postfix": ") ",
     "delete_cmd_prefix": "rm(",
     "library": "var_list.r",
     "varRefreshCmd": "cat(var_dic_list()) "
    }
   },
   "types_to_exclude": [
    "module",
    "function",
    "builtin_function_or_method",
    "instance",
    "_Feature"
   ],
   "window_display": false
  }
 },
 "nbformat": 4,
 "nbformat_minor": 4
}
