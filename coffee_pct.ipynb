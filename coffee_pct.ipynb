{
 "cells": [
  {
   "cell_type": "code",
   "execution_count": 12,
   "metadata": {
    "ExecuteTime": {
     "end_time": "2021-02-16T05:14:12.920816Z",
     "start_time": "2021-02-16T05:14:12.659024Z"
    }
   },
   "outputs": [],
   "source": [
    "import pandas as pd\n",
    "import numpy as np\n",
    "import matplotlib.pyplot as plt\n",
    "import seaborn as sns\n",
    "%matplotlib inline\n",
    "pd.set_option('display.min_rows', 500)"
   ]
  },
  {
   "cell_type": "code",
   "execution_count": 13,
   "metadata": {
    "ExecuteTime": {
     "end_time": "2021-02-16T05:14:13.409272Z",
     "start_time": "2021-02-16T05:14:12.924814Z"
    }
   },
   "outputs": [
    {
     "data": {
      "text/html": [
       "<div>\n",
       "<style scoped>\n",
       "    .dataframe tbody tr th:only-of-type {\n",
       "        vertical-align: middle;\n",
       "    }\n",
       "\n",
       "    .dataframe tbody tr th {\n",
       "        vertical-align: top;\n",
       "    }\n",
       "\n",
       "    .dataframe thead th {\n",
       "        text-align: right;\n",
       "    }\n",
       "</style>\n",
       "<table border=\"1\" class=\"dataframe\">\n",
       "  <thead>\n",
       "    <tr style=\"text-align: right;\">\n",
       "      <th></th>\n",
       "      <th>Commodity_Code</th>\n",
       "      <th>Commodity_Description</th>\n",
       "      <th>Country_Code</th>\n",
       "      <th>Country_Name</th>\n",
       "      <th>Market_Year</th>\n",
       "      <th>Calendar_Year</th>\n",
       "      <th>Month</th>\n",
       "      <th>Attribute_ID</th>\n",
       "      <th>Attribute_Description</th>\n",
       "      <th>Unit_ID</th>\n",
       "      <th>Unit_Description</th>\n",
       "      <th>Value</th>\n",
       "    </tr>\n",
       "  </thead>\n",
       "  <tbody>\n",
       "    <tr>\n",
       "      <th>0</th>\n",
       "      <td>711100</td>\n",
       "      <td>Coffee, Green</td>\n",
       "      <td>AG</td>\n",
       "      <td>Algeria</td>\n",
       "      <td>2003</td>\n",
       "      <td>2012</td>\n",
       "      <td>6</td>\n",
       "      <td>29</td>\n",
       "      <td>Arabica Production</td>\n",
       "      <td>2</td>\n",
       "      <td>(1000 60 KG BAGS)</td>\n",
       "      <td>0.0</td>\n",
       "    </tr>\n",
       "    <tr>\n",
       "      <th>1</th>\n",
       "      <td>711100</td>\n",
       "      <td>Coffee, Green</td>\n",
       "      <td>AG</td>\n",
       "      <td>Algeria</td>\n",
       "      <td>2003</td>\n",
       "      <td>2012</td>\n",
       "      <td>6</td>\n",
       "      <td>90</td>\n",
       "      <td>Bean Exports</td>\n",
       "      <td>2</td>\n",
       "      <td>(1000 60 KG BAGS)</td>\n",
       "      <td>0.0</td>\n",
       "    </tr>\n",
       "    <tr>\n",
       "      <th>2</th>\n",
       "      <td>711100</td>\n",
       "      <td>Coffee, Green</td>\n",
       "      <td>AG</td>\n",
       "      <td>Algeria</td>\n",
       "      <td>2003</td>\n",
       "      <td>2012</td>\n",
       "      <td>6</td>\n",
       "      <td>58</td>\n",
       "      <td>Bean Imports</td>\n",
       "      <td>2</td>\n",
       "      <td>(1000 60 KG BAGS)</td>\n",
       "      <td>1800.0</td>\n",
       "    </tr>\n",
       "    <tr>\n",
       "      <th>3</th>\n",
       "      <td>711100</td>\n",
       "      <td>Coffee, Green</td>\n",
       "      <td>AG</td>\n",
       "      <td>Algeria</td>\n",
       "      <td>2003</td>\n",
       "      <td>2012</td>\n",
       "      <td>6</td>\n",
       "      <td>20</td>\n",
       "      <td>Beginning Stocks</td>\n",
       "      <td>2</td>\n",
       "      <td>(1000 60 KG BAGS)</td>\n",
       "      <td>0.0</td>\n",
       "    </tr>\n",
       "    <tr>\n",
       "      <th>4</th>\n",
       "      <td>711100</td>\n",
       "      <td>Coffee, Green</td>\n",
       "      <td>AG</td>\n",
       "      <td>Algeria</td>\n",
       "      <td>2003</td>\n",
       "      <td>2012</td>\n",
       "      <td>6</td>\n",
       "      <td>125</td>\n",
       "      <td>Domestic Consumption</td>\n",
       "      <td>2</td>\n",
       "      <td>(1000 60 KG BAGS)</td>\n",
       "      <td>1805.0</td>\n",
       "    </tr>\n",
       "  </tbody>\n",
       "</table>\n",
       "</div>"
      ],
      "text/plain": [
       "   Commodity_Code Commodity_Description Country_Code Country_Name  \\\n",
       "0          711100         Coffee, Green           AG      Algeria   \n",
       "1          711100         Coffee, Green           AG      Algeria   \n",
       "2          711100         Coffee, Green           AG      Algeria   \n",
       "3          711100         Coffee, Green           AG      Algeria   \n",
       "4          711100         Coffee, Green           AG      Algeria   \n",
       "\n",
       "   Market_Year  Calendar_Year  Month  Attribute_ID Attribute_Description  \\\n",
       "0         2003           2012      6            29    Arabica Production   \n",
       "1         2003           2012      6            90          Bean Exports   \n",
       "2         2003           2012      6            58          Bean Imports   \n",
       "3         2003           2012      6            20      Beginning Stocks   \n",
       "4         2003           2012      6           125  Domestic Consumption   \n",
       "\n",
       "   Unit_ID   Unit_Description   Value  \n",
       "0        2  (1000 60 KG BAGS)     0.0  \n",
       "1        2  (1000 60 KG BAGS)     0.0  \n",
       "2        2  (1000 60 KG BAGS)  1800.0  \n",
       "3        2  (1000 60 KG BAGS)     0.0  \n",
       "4        2  (1000 60 KG BAGS)  1805.0  "
      ]
     },
     "execution_count": 13,
     "metadata": {},
     "output_type": "execute_result"
    }
   ],
   "source": [
    "# Reading data from csv file\n",
    "df_coffee = pd.read_csv(\"data/psd_coffee.csv\")\n",
    "df_coffee.head()"
   ]
  },
  {
   "cell_type": "code",
   "execution_count": 14,
   "metadata": {
    "ExecuteTime": {
     "end_time": "2021-02-16T05:14:13.552057Z",
     "start_time": "2021-02-16T05:14:13.411262Z"
    }
   },
   "outputs": [
    {
     "data": {
      "text/html": [
       "<div>\n",
       "<style scoped>\n",
       "    .dataframe tbody tr th:only-of-type {\n",
       "        vertical-align: middle;\n",
       "    }\n",
       "\n",
       "    .dataframe tbody tr th {\n",
       "        vertical-align: top;\n",
       "    }\n",
       "\n",
       "    .dataframe thead th {\n",
       "        text-align: right;\n",
       "    }\n",
       "</style>\n",
       "<table border=\"1\" class=\"dataframe\">\n",
       "  <thead>\n",
       "    <tr style=\"text-align: right;\">\n",
       "      <th></th>\n",
       "      <th>Country_Name</th>\n",
       "      <th>Market_Year</th>\n",
       "      <th>Attribute_Description</th>\n",
       "      <th>Value</th>\n",
       "    </tr>\n",
       "  </thead>\n",
       "  <tbody>\n",
       "    <tr>\n",
       "      <th>0</th>\n",
       "      <td>Algeria</td>\n",
       "      <td>2003</td>\n",
       "      <td>Arabica Production</td>\n",
       "      <td>0.0</td>\n",
       "    </tr>\n",
       "    <tr>\n",
       "      <th>1</th>\n",
       "      <td>Algeria</td>\n",
       "      <td>2003</td>\n",
       "      <td>Bean Exports</td>\n",
       "      <td>0.0</td>\n",
       "    </tr>\n",
       "    <tr>\n",
       "      <th>2</th>\n",
       "      <td>Algeria</td>\n",
       "      <td>2003</td>\n",
       "      <td>Bean Imports</td>\n",
       "      <td>1800.0</td>\n",
       "    </tr>\n",
       "    <tr>\n",
       "      <th>4</th>\n",
       "      <td>Algeria</td>\n",
       "      <td>2003</td>\n",
       "      <td>Domestic Consumption</td>\n",
       "      <td>1805.0</td>\n",
       "    </tr>\n",
       "    <tr>\n",
       "      <th>6</th>\n",
       "      <td>Algeria</td>\n",
       "      <td>2003</td>\n",
       "      <td>Exports</td>\n",
       "      <td>0.0</td>\n",
       "    </tr>\n",
       "    <tr>\n",
       "      <th>7</th>\n",
       "      <td>Algeria</td>\n",
       "      <td>2003</td>\n",
       "      <td>Imports</td>\n",
       "      <td>1805.0</td>\n",
       "    </tr>\n",
       "    <tr>\n",
       "      <th>9</th>\n",
       "      <td>Algeria</td>\n",
       "      <td>2003</td>\n",
       "      <td>Production</td>\n",
       "      <td>0.0</td>\n",
       "    </tr>\n",
       "    <tr>\n",
       "      <th>10</th>\n",
       "      <td>Algeria</td>\n",
       "      <td>2003</td>\n",
       "      <td>Roast &amp; Ground Exports</td>\n",
       "      <td>0.0</td>\n",
       "    </tr>\n",
       "    <tr>\n",
       "      <th>11</th>\n",
       "      <td>Algeria</td>\n",
       "      <td>2003</td>\n",
       "      <td>Roast &amp; Ground Imports</td>\n",
       "      <td>0.0</td>\n",
       "    </tr>\n",
       "    <tr>\n",
       "      <th>12</th>\n",
       "      <td>Algeria</td>\n",
       "      <td>2003</td>\n",
       "      <td>Robusta Production</td>\n",
       "      <td>0.0</td>\n",
       "    </tr>\n",
       "  </tbody>\n",
       "</table>\n",
       "</div>"
      ],
      "text/plain": [
       "   Country_Name  Market_Year   Attribute_Description   Value\n",
       "0       Algeria         2003      Arabica Production     0.0\n",
       "1       Algeria         2003            Bean Exports     0.0\n",
       "2       Algeria         2003            Bean Imports  1800.0\n",
       "4       Algeria         2003    Domestic Consumption  1805.0\n",
       "6       Algeria         2003                 Exports     0.0\n",
       "7       Algeria         2003                 Imports  1805.0\n",
       "9       Algeria         2003              Production     0.0\n",
       "10      Algeria         2003  Roast & Ground Exports     0.0\n",
       "11      Algeria         2003  Roast & Ground Imports     0.0\n",
       "12      Algeria         2003      Robusta Production     0.0"
      ]
     },
     "execution_count": 14,
     "metadata": {},
     "output_type": "execute_result"
    }
   ],
   "source": [
    "# Removing unnecessary data(columns and rows)\n",
    "df_coffee = df_coffee[['Country_Name', 'Market_Year',\n",
    "                       'Attribute_Description','Value']]\n",
    "attr_rmlist = ['Beginning Stocks', 'Ending Stocks', 'Other Production', 'Rst,Ground Dom. Consum', 'Soluble Dom. Cons.', 'Total Distribution', 'Total Supply']\n",
    "df_coffee = df_coffee[~df_coffee['Attribute_Description'].isin(attr_rmlist)]\n",
    "df_coffee.head(10)"
   ]
  },
  {
   "cell_type": "code",
   "execution_count": 15,
   "metadata": {
    "ExecuteTime": {
     "end_time": "2021-02-16T05:14:17.710706Z",
     "start_time": "2021-02-16T05:14:13.554046Z"
    }
   },
   "outputs": [
    {
     "data": {
      "text/html": [
       "<div>\n",
       "<style scoped>\n",
       "    .dataframe tbody tr th:only-of-type {\n",
       "        vertical-align: middle;\n",
       "    }\n",
       "\n",
       "    .dataframe tbody tr th {\n",
       "        vertical-align: top;\n",
       "    }\n",
       "\n",
       "    .dataframe thead th {\n",
       "        text-align: right;\n",
       "    }\n",
       "</style>\n",
       "<table border=\"1\" class=\"dataframe\">\n",
       "  <thead>\n",
       "    <tr style=\"text-align: right;\">\n",
       "      <th></th>\n",
       "      <th>Country_Name</th>\n",
       "      <th>Country_Code</th>\n",
       "    </tr>\n",
       "  </thead>\n",
       "  <tbody>\n",
       "    <tr>\n",
       "      <th>0</th>\n",
       "      <td>Afghanistan</td>\n",
       "      <td>AFG</td>\n",
       "    </tr>\n",
       "    <tr>\n",
       "      <th>1</th>\n",
       "      <td>Åland Islands</td>\n",
       "      <td>ALA</td>\n",
       "    </tr>\n",
       "    <tr>\n",
       "      <th>2</th>\n",
       "      <td>Albania</td>\n",
       "      <td>ALB</td>\n",
       "    </tr>\n",
       "    <tr>\n",
       "      <th>3</th>\n",
       "      <td>Algeria</td>\n",
       "      <td>DZA</td>\n",
       "    </tr>\n",
       "    <tr>\n",
       "      <th>4</th>\n",
       "      <td>American Samoa</td>\n",
       "      <td>ASM</td>\n",
       "    </tr>\n",
       "  </tbody>\n",
       "</table>\n",
       "</div>"
      ],
      "text/plain": [
       "     Country_Name Country_Code\n",
       "0     Afghanistan          AFG\n",
       "1   Åland Islands          ALA\n",
       "2         Albania          ALB\n",
       "3         Algeria          DZA\n",
       "4  American Samoa          ASM"
      ]
     },
     "execution_count": 15,
     "metadata": {},
     "output_type": "execute_result"
    }
   ],
   "source": [
    "# Getting Country Code format, ISO Alpha-3 which other data sources follow\n",
    "# url to scrape for ISO 3166 country codes Alpha-2 and Alpha-3 from www.iban.com\n",
    "country_code_url =\"https://www.iban.com/country-codes\"\n",
    "# Use panda's `read_html` to parse the url\n",
    "df_countryCode = pd.read_html(country_code_url, header=0)[0]\n",
    "# eliminating unnessasary data\n",
    "df_countryCode = df_countryCode.iloc[:,[0,2]]\n",
    "# rename the columns\n",
    "df_countryCode.rename(columns={'Country':'Country_Name',\n",
    "                               'Alpha-3 code':'Country_Code'\n",
    "                              },inplace=True)\n",
    "df_countryCode.head()"
   ]
  },
  {
   "cell_type": "code",
   "execution_count": 16,
   "metadata": {
    "ExecuteTime": {
     "end_time": "2021-02-16T05:14:17.758708Z",
     "start_time": "2021-02-16T05:14:17.712708Z"
    }
   },
   "outputs": [
    {
     "data": {
      "text/plain": [
       "array(['Bolivia', 'Central African Republic', 'Congo (Brazzaville)',\n",
       "       'Congo (Kinshasa)', \"Cote d'Ivoire\", 'Dominican Republic',\n",
       "       'European Union', 'Iran', 'Korea, South', 'Laos', 'Philippines',\n",
       "       'Russia', 'Taiwan', 'Tanzania', 'United States', 'Venezuela',\n",
       "       'Vietnam', 'Yemen (Sanaa)'], dtype=object)"
      ]
     },
     "execution_count": 16,
     "metadata": {},
     "output_type": "execute_result"
    }
   ],
   "source": [
    "# Checking for Country names before merging\n",
    "# List out Countries in df_coffee and not in df_countryCode\n",
    "df_coffee[~df_coffee.Country_Name.isin(df_countryCode.Country_Name)].Country_Name.unique()"
   ]
  },
  {
   "cell_type": "code",
   "execution_count": 17,
   "metadata": {
    "ExecuteTime": {
     "end_time": "2021-02-16T05:14:17.917685Z",
     "start_time": "2021-02-16T05:14:17.760708Z"
    }
   },
   "outputs": [
    {
     "data": {
      "text/plain": [
       "array(['European Union', 'Yemen (Sanaa)'], dtype=object)"
      ]
     },
     "execution_count": 17,
     "metadata": {},
     "output_type": "execute_result"
    }
   ],
   "source": [
    "# Replacing names in the countryCode dataframe to match with df_coffee\n",
    "df_countryCode.loc[(df_countryCode.Country_Name == 'Bolivia (Plurinational State of)'),'Country_Name']='Bolivia'\n",
    "df_countryCode.loc[(df_countryCode.Country_Name == 'Central African Republic (the)'),'Country_Name']='Central African Republic'\n",
    "df_countryCode.loc[(df_countryCode.Country_Name == 'Congo (the)'),'Country_Name']='Congo (Brazzaville)'\n",
    "df_countryCode.loc[(df_countryCode.Country_Name == 'Congo (the Democratic Republic of the)'),'Country_Name']='Congo (Kinshasa)'\n",
    "df_countryCode.loc[(df_countryCode.Country_Name == \"Côte d'Ivoire\"),'Country_Name']=\"Cote d'Ivoire\"\n",
    "df_countryCode.loc[(df_countryCode.Country_Name == 'Dominican Republic (the)'),'Country_Name']='Dominican Republic'\n",
    "df_countryCode.loc[(df_countryCode.Country_Name == 'Iran (Islamic Republic of)'),'Country_Name']='Iran'\n",
    "df_countryCode.loc[(df_countryCode.Country_Name == 'Korea (the Republic of)'),'Country_Name']='Korea, South'\n",
    "df_countryCode.loc[(df_countryCode.Country_Name == \"Lao People's Democratic Republic (the)\"),'Country_Name']='Laos'\n",
    "df_countryCode.loc[(df_countryCode.Country_Name == 'Philippines (the)'),'Country_Name']='Philippines'\n",
    "df_countryCode.loc[(df_countryCode.Country_Name == 'Russian Federation (the)'),'Country_Name']='Russia'\n",
    "df_countryCode.loc[(df_countryCode.Country_Name == 'Taiwan (Province of China)'),'Country_Name']='Taiwan'\n",
    "df_countryCode.loc[(df_countryCode.Country_Name == 'Tanzania, United Republic of'),'Country_Name']='Tanzania'\n",
    "df_countryCode.loc[(df_countryCode.Country_Name == 'United States of America (the)'),'Country_Name']='United States'\n",
    "df_countryCode.loc[(df_countryCode.Country_Name == 'Venezuela (Bolivarian Republic of)'),'Country_Name']='Venezuela'\n",
    "df_countryCode.loc[(df_countryCode.Country_Name == 'Viet Nam'),'Country_Name']='Vietnam'\n",
    "\n",
    "# Checking again for Country names\n",
    "# List out Countries in df_coffee and not in df_countryCode\n",
    "df_coffee[~df_coffee.Country_Name.isin(df_countryCode.Country_Name)].Country_Name.unique()"
   ]
  },
  {
   "cell_type": "code",
   "execution_count": 18,
   "metadata": {
    "ExecuteTime": {
     "end_time": "2021-02-16T05:14:18.213814Z",
     "start_time": "2021-02-16T05:14:17.919684Z"
    }
   },
   "outputs": [
    {
     "data": {
      "text/html": [
       "<div>\n",
       "<style scoped>\n",
       "    .dataframe tbody tr th:only-of-type {\n",
       "        vertical-align: middle;\n",
       "    }\n",
       "\n",
       "    .dataframe tbody tr th {\n",
       "        vertical-align: top;\n",
       "    }\n",
       "\n",
       "    .dataframe thead th {\n",
       "        text-align: right;\n",
       "    }\n",
       "</style>\n",
       "<table border=\"1\" class=\"dataframe\">\n",
       "  <thead>\n",
       "    <tr style=\"text-align: right;\">\n",
       "      <th></th>\n",
       "      <th>Country_Name</th>\n",
       "      <th>Country_Code</th>\n",
       "      <th>Market_Year</th>\n",
       "      <th>Attribute_Description</th>\n",
       "      <th>Value</th>\n",
       "    </tr>\n",
       "  </thead>\n",
       "  <tbody>\n",
       "    <tr>\n",
       "      <th>0</th>\n",
       "      <td>Algeria</td>\n",
       "      <td>DZA</td>\n",
       "      <td>2003</td>\n",
       "      <td>Arabica Production</td>\n",
       "      <td>0.0</td>\n",
       "    </tr>\n",
       "    <tr>\n",
       "      <th>1</th>\n",
       "      <td>Algeria</td>\n",
       "      <td>DZA</td>\n",
       "      <td>2003</td>\n",
       "      <td>Bean Exports</td>\n",
       "      <td>0.0</td>\n",
       "    </tr>\n",
       "    <tr>\n",
       "      <th>2</th>\n",
       "      <td>Algeria</td>\n",
       "      <td>DZA</td>\n",
       "      <td>2003</td>\n",
       "      <td>Bean Imports</td>\n",
       "      <td>1800.0</td>\n",
       "    </tr>\n",
       "    <tr>\n",
       "      <th>3</th>\n",
       "      <td>Algeria</td>\n",
       "      <td>DZA</td>\n",
       "      <td>2003</td>\n",
       "      <td>Domestic Consumption</td>\n",
       "      <td>1805.0</td>\n",
       "    </tr>\n",
       "    <tr>\n",
       "      <th>4</th>\n",
       "      <td>Algeria</td>\n",
       "      <td>DZA</td>\n",
       "      <td>2003</td>\n",
       "      <td>Exports</td>\n",
       "      <td>0.0</td>\n",
       "    </tr>\n",
       "  </tbody>\n",
       "</table>\n",
       "</div>"
      ],
      "text/plain": [
       "  Country_Name Country_Code  Market_Year Attribute_Description   Value\n",
       "0      Algeria          DZA         2003    Arabica Production     0.0\n",
       "1      Algeria          DZA         2003          Bean Exports     0.0\n",
       "2      Algeria          DZA         2003          Bean Imports  1800.0\n",
       "3      Algeria          DZA         2003  Domestic Consumption  1805.0\n",
       "4      Algeria          DZA         2003               Exports     0.0"
      ]
     },
     "execution_count": 18,
     "metadata": {},
     "output_type": "execute_result"
    }
   ],
   "source": [
    "# merging df_population with df_countryCode\n",
    "df_coffee_merged = df_countryCode.merge(df_coffee, on=\"Country_Name\", how=\"inner\")\n",
    "df_coffee_merged.head()"
   ]
  },
  {
   "cell_type": "code",
   "execution_count": 19,
   "metadata": {
    "ExecuteTime": {
     "end_time": "2021-02-16T05:14:18.229801Z",
     "start_time": "2021-02-16T05:14:18.215803Z"
    }
   },
   "outputs": [
    {
     "data": {
      "text/plain": [
       "array(['European Union', 'Yemen (Sanaa)'], dtype=object)"
      ]
     },
     "execution_count": 19,
     "metadata": {},
     "output_type": "execute_result"
    }
   ],
   "source": [
    "\n",
    "df_coffee[~df_coffee.Country_Name.isin(df_coffee_merged.Country_Name)].Country_Name.unique()"
   ]
  },
  {
   "cell_type": "code",
   "execution_count": 20,
   "metadata": {
    "ExecuteTime": {
     "end_time": "2021-02-16T05:14:18.387411Z",
     "start_time": "2021-02-16T05:14:18.237821Z"
    }
   },
   "outputs": [
    {
     "data": {
      "text/plain": [
       "array(['Yemen (Sanaa)'], dtype=object)"
      ]
     },
     "execution_count": 20,
     "metadata": {},
     "output_type": "execute_result"
    }
   ],
   "source": [
    "# Concatenating European Union rows into the final dataframe\n",
    "df_coffee_merged = pd.concat([df_coffee_merged, df_coffee[df_coffee['Country_Name']==\"European Union\"]])\n",
    "df_coffee_merged.loc[(df_coffee_merged.Country_Name == 'European Union'),'Country_Code']='EUR'\n",
    "# Checking again for missing Country names\n",
    "df_coffee[~df_coffee.Country_Name.isin(df_coffee_merged.Country_Name)].Country_Name.unique()"
   ]
  },
  {
   "cell_type": "code",
   "execution_count": 21,
   "metadata": {
    "ExecuteTime": {
     "end_time": "2021-02-16T05:14:18.450881Z",
     "start_time": "2021-02-16T05:14:18.391410Z"
    }
   },
   "outputs": [
    {
     "data": {
      "text/plain": [
       "Country_Name             0\n",
       "Country_Code             0\n",
       "Market_Year              0\n",
       "Attribute_Description    0\n",
       "Value                    0\n",
       "dtype: int64"
      ]
     },
     "execution_count": 21,
     "metadata": {},
     "output_type": "execute_result"
    }
   ],
   "source": [
    "# Checking for null values\n",
    "df_coffee_merged.isnull().sum()"
   ]
  },
  {
   "cell_type": "code",
   "execution_count": 22,
   "metadata": {
    "ExecuteTime": {
     "end_time": "2021-02-16T05:14:18.592175Z",
     "start_time": "2021-02-16T05:14:18.452880Z"
    }
   },
   "outputs": [],
   "source": [
    "# Imports the method used for connecting to DBs\n",
    "from sqlalchemy import create_engine\n",
    "# Imports the methods needed to abstract classes into tables\n",
    "from sqlalchemy.ext.declarative import declarative_base\n",
    "# Allow us to declare column types\n",
    "from sqlalchemy import Column, Integer, String, Float"
   ]
  },
  {
   "cell_type": "code",
   "execution_count": 26,
   "metadata": {
    "ExecuteTime": {
     "end_time": "2021-02-16T05:28:23.658178Z",
     "start_time": "2021-02-16T05:28:20.771358Z"
    }
   },
   "outputs": [
    {
     "name": "stdout",
     "output_type": "stream",
     "text": [
      "2021-02-16 13:28:20,963 INFO sqlalchemy.engine.base.Engine SELECT CAST('test plain returns' AS VARCHAR(60)) AS anon_1\n",
      "2021-02-16 13:28:20,964 INFO sqlalchemy.engine.base.Engine ()\n",
      "2021-02-16 13:28:21,010 INFO sqlalchemy.engine.base.Engine SELECT CAST('test unicode returns' AS VARCHAR(60)) AS anon_1\n",
      "2021-02-16 13:28:21,011 INFO sqlalchemy.engine.base.Engine ()\n",
      "2021-02-16 13:28:22,348 INFO sqlalchemy.engine.base.Engine PRAGMA main.table_info(\"pct\")\n",
      "2021-02-16 13:28:22,349 INFO sqlalchemy.engine.base.Engine ()\n",
      "2021-02-16 13:28:22,366 INFO sqlalchemy.engine.base.Engine PRAGMA temp.table_info(\"pct\")\n",
      "2021-02-16 13:28:22,367 INFO sqlalchemy.engine.base.Engine ()\n",
      "2021-02-16 13:28:22,372 INFO sqlalchemy.engine.base.Engine \n",
      "CREATE TABLE pct (\n",
      "\t\"index\" BIGINT, \n",
      "\t\"Country_Name\" TEXT, \n",
      "\t\"Country_Code\" TEXT, \n",
      "\t\"Market_Year\" BIGINT, \n",
      "\t\"Attribute_Description\" TEXT, \n",
      "\t\"Value\" FLOAT\n",
      ")\n",
      "\n",
      "\n",
      "2021-02-16 13:28:22,373 INFO sqlalchemy.engine.base.Engine ()\n",
      "2021-02-16 13:28:22,504 INFO sqlalchemy.engine.base.Engine COMMIT\n",
      "2021-02-16 13:28:22,506 INFO sqlalchemy.engine.base.Engine CREATE INDEX ix_pct_index ON pct (\"index\")\n",
      "2021-02-16 13:28:22,507 INFO sqlalchemy.engine.base.Engine ()\n",
      "2021-02-16 13:28:22,598 INFO sqlalchemy.engine.base.Engine COMMIT\n",
      "2021-02-16 13:28:22,633 INFO sqlalchemy.engine.base.Engine BEGIN (implicit)\n",
      "2021-02-16 13:28:23,020 INFO sqlalchemy.engine.base.Engine INSERT INTO pct (\"index\", \"Country_Name\", \"Country_Code\", \"Market_Year\", \"Attribute_Description\", \"Value\") VALUES (?, ?, ?, ?, ?, ?)\n",
      "2021-02-16 13:28:23,021 INFO sqlalchemy.engine.base.Engine ((0, 'Algeria', 'DZA', 2003, 'Arabica Production', 0.0), (1, 'Algeria', 'DZA', 2003, 'Bean Exports', 0.0), (2, 'Algeria', 'DZA', 2003, 'Bean Imports', 1800.0), (3, 'Algeria', 'DZA', 2003, 'Domestic Consumption', 1805.0), (4, 'Algeria', 'DZA', 2003, 'Exports', 0.0), (5, 'Algeria', 'DZA', 2003, 'Imports', 1805.0), (6, 'Algeria', 'DZA', 2003, 'Production', 0.0), (7, 'Algeria', 'DZA', 2003, 'Roast & Ground Exports', 0.0)  ... displaying 10 of 46560 total bound parameter sets ...  (23898, 'European Union', 'EUR', 2021, 'Soluble Exports', 700.0), (23899, 'European Union', 'EUR', 2021, 'Soluble Imports', 0.0))\n",
      "2021-02-16 13:28:23,313 INFO sqlalchemy.engine.base.Engine COMMIT\n",
      "2021-02-16 13:28:23,642 INFO sqlalchemy.engine.base.Engine PRAGMA main.table_info(\"pct\")\n",
      "2021-02-16 13:28:23,643 INFO sqlalchemy.engine.base.Engine ()\n"
     ]
    }
   ],
   "source": [
    "# Sets an object to utilize the default declarative base in SQL Alchemy\n",
    "Base = declarative_base()\n",
    "\n",
    "class CoffeePCT(Base):\n",
    "    __tablename__ = 'pct'\n",
    "    id = Column(Integer, primary_key=True)\n",
    "    Country_Code = Column(String(3))\n",
    "    Country_Name = Column(String(30))\n",
    "    Market_Year = Column(Integer)\n",
    "    Attribute_Description = Column(String(30))\n",
    "    Value = Column(Float)\n",
    "\n",
    "# Create a connection to a SQLite database\n",
    "engine = create_engine('sqlite:///coffee.sqlite', echo=True)\n",
    "conn = engine.connect()\n",
    "\n",
    "sqlite_table = \"pct\"\n",
    "df_coffee_merged.to_sql(sqlite_table, conn, if_exists='fail')\n",
    "\n",
    "# Use this to clear out the db\n",
    "# Base.metadata.drop_all(engine)\n",
    "\n",
    "# Create a \"Metadata\" Layer That Abstracts our SQL Database\n",
    "Base.metadata.create_all(engine)"
   ]
  },
  {
   "cell_type": "code",
   "execution_count": null,
   "metadata": {},
   "outputs": [],
   "source": [
    "# Create a Session Object to Connect to DB\n",
    "# from sqlalchemy.orm import Session\n",
    "# session = Session(bind=engine)"
   ]
  }
 ],
 "metadata": {
  "hide_input": false,
  "kernelspec": {
   "display_name": "Python 3",
   "language": "python",
   "name": "python3"
  },
  "language_info": {
   "codemirror_mode": {
    "name": "ipython",
    "version": 3
   },
   "file_extension": ".py",
   "mimetype": "text/x-python",
   "name": "python",
   "nbconvert_exporter": "python",
   "pygments_lexer": "ipython3",
   "version": "3.7.9"
  },
  "toc": {
   "base_numbering": 1,
   "nav_menu": {},
   "number_sections": true,
   "sideBar": true,
   "skip_h1_title": false,
   "title_cell": "Table of Contents",
   "title_sidebar": "Contents",
   "toc_cell": false,
   "toc_position": {},
   "toc_section_display": true,
   "toc_window_display": false
  },
  "varInspector": {
   "cols": {
    "lenName": 16,
    "lenType": 16,
    "lenVar": 40
   },
   "kernels_config": {
    "python": {
     "delete_cmd_postfix": "",
     "delete_cmd_prefix": "del ",
     "library": "var_list.py",
     "varRefreshCmd": "print(var_dic_list())"
    },
    "r": {
     "delete_cmd_postfix": ") ",
     "delete_cmd_prefix": "rm(",
     "library": "var_list.r",
     "varRefreshCmd": "cat(var_dic_list()) "
    }
   },
   "types_to_exclude": [
    "module",
    "function",
    "builtin_function_or_method",
    "instance",
    "_Feature"
   ],
   "window_display": false
  }
 },
 "nbformat": 4,
 "nbformat_minor": 4
}
